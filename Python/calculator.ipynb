{
 "cells": [
  {
   "cell_type": "code",
   "execution_count": null,
   "metadata": {},
   "outputs": [
    {
     "name": "stdout",
     "output_type": "stream",
     "text": [
      "Please choose an operation:\n",
      "1. Addition\n",
      "2. Subtraction\n",
      "3. Multiplication\n",
      "4. Division\n",
      "5. Exit\n",
      "The result of multiplying 5.0 and 6.0 is 30.0\n",
      "Thank you for using the calculator. Goodbye!\n"
     ]
    }
   ],
   "source": [
    "def simple_calculator():\n",
    "    \"\"\"\n",
    "    A simple calculator program that performs basic arithmetic operations: addition, subtraction, multiplication, and division.\n",
    "    \n",
    "    Parameters:\n",
    "        None\n",
    "            The function does not take any external inputs; it interacts with the user through input prompts.\n",
    "    \n",
    "    Returns:\n",
    "        None\n",
    "            The function prints the result of the calculation and does not return any value.\n",
    "    \n",
    "    Description:\n",
    "        This function repeatedly prompts the user to choose an arithmetic operation (addition, subtraction,\n",
    "        multiplication, division) or exit the program. For valid operations, it asks for two numeric inputs,\n",
    "        validates them, performs the selected calculation, and prints the result in a user-friendly format.\n",
    "        For division, the function checks if the divisor is zero to prevent division by zero errors.\n",
    "        After each calculation, it asks the user if they want to perform another calculation; if not, it exits.\n",
    "    \"\"\"\n",
    "    \n",
    "    # Loop to keep the calculator running until the user decides to exit\n",
    "    while True:\n",
    "        # Display the available operations to the user\n",
    "        print(\"Please choose an operation:\")\n",
    "        print(\"1. Addition\")\n",
    "        print(\"2. Subtraction\")\n",
    "        print(\"3. Multiplication\")\n",
    "        print(\"4. Division\")\n",
    "        print(\"5. Exit\")\n",
    "        \n",
    "        # Get the user's choice for the operation\n",
    "        choice = input(\"Enter your choice (1/2/3/4/5): \")\n",
    "        \n",
    "        # If the user chooses to exit the program, break the loop\n",
    "        if choice == '5':\n",
    "            print(\"Thank you for using the calculator. Goodbye!\")\n",
    "            break\n",
    "        \n",
    "        # Validate if the input choice is among the expected options\n",
    "        if choice not in ['1', '2', '3', '4']:\n",
    "            print(\"Invalid choice. Please select a valid option.\")\n",
    "            continue\n",
    "        \n",
    "        # Define a helper function to get a valid number from the user\n",
    "        def get_number(prompt):\n",
    "            \"\"\"\n",
    "            Prompts the user for a number until a valid numeric input is provided.\n",
    "            \n",
    "            Parameters:\n",
    "                prompt (str): The message to display when asking for user input.\n",
    "            \n",
    "            Returns:\n",
    "                float: The numeric value entered by the user.\n",
    "            \"\"\"\n",
    "            while True:\n",
    "                try:\n",
    "                    # Try to convert the user input into a float\n",
    "                    num = float(input(prompt))\n",
    "                    return num\n",
    "                except ValueError:\n",
    "                    # If conversion fails, inform the user and prompt again\n",
    "                    print(\"Invalid input. Please enter a valid number.\")\n",
    "        \n",
    "        # Prompt the user for the first number with validation\n",
    "        num1 = get_number(\"Enter the first number: \")\n",
    "        # Prompt the user for the second number with validation\n",
    "        num2 = get_number(\"Enter the second number: \")\n",
    "        \n",
    "        # Initialize a variable to hold the result of the calculation\n",
    "        result = None\n",
    "        \n",
    "        # Perform the calculation based on the user's choice\n",
    "        if choice == '1':\n",
    "            # Addition: Add num1 and num2\n",
    "            result = num1 + num2\n",
    "            print(\"The result of adding {} and {} is {}\".format(num1, num2, result))\n",
    "            \n",
    "        elif choice == '2':\n",
    "            # Subtraction: Subtract num2 from num1\n",
    "            result = num1 - num2\n",
    "            print(\"The result of subtracting {} from {} is {}\".format(num2, num1, result))\n",
    "            \n",
    "        elif choice == '3':\n",
    "            # Multiplication: Multiply num1 by num2\n",
    "            result = num1 * num2\n",
    "            print(\"The result of multiplying {} and {} is {}\".format(num1, num2, result))\n",
    "            \n",
    "        elif choice == '4':\n",
    "            # Division: Check for division by zero before dividing\n",
    "            if num2 == 0:\n",
    "                print(\"Division by zero is not allowed. Please try a different divisor.\")\n",
    "            else:\n",
    "                result = num1 / num2\n",
    "                print(\"The result of dividing {} by {} is {}\".format(num1, num2, result))\n",
    "        \n",
    "        # Ask the user if they want to perform another calculation\n",
    "        another = input(\"Do you want to perform another calculation? (yes/no): \")\n",
    "        if another.lower() != \"yes\":\n",
    "            print(\"Thank you for using the calculator. Goodbye!\")\n",
    "            break\n",
    "\n",
    "# Call the simple_calculator function to run the program\n",
    "simple_calculator()"
   ]
  },
  {
   "cell_type": "code",
   "execution_count": 25,
   "metadata": {},
   "outputs": [
    {
     "name": "stdout",
     "output_type": "stream",
     "text": [
      " please choose an operation: \n",
      "1.Addition. \n",
      "2.Subtraction.\n",
      "3.Multiplication.\n",
      "4.Division.\n",
      "5.Exit.\n",
      "The result of adding 1.0 and 5.0 is 6.0\n",
      " please choose an operation: \n",
      "1.Addition. \n",
      "2.Subtraction.\n",
      "3.Multiplication.\n",
      "4.Division.\n",
      "5.Exit.\n",
      "Invalid choice. Please select a valid option.\n",
      " please choose an operation: \n",
      "1.Addition. \n",
      "2.Subtraction.\n",
      "3.Multiplication.\n",
      "4.Division.\n",
      "5.Exit.\n",
      "The result of multiplying 5.0 and 6.0 is 30.0\n",
      "Thank you for using the calculator. Goodbye!\n"
     ]
    }
   ],
   "source": [
    "def Calculator():\n",
    "    while True:\n",
    "        print(\" please choose an operation: \\n1.Addition. \\n2.Subtraction.\\n3.Multiplication.\\n4.Division.\\n5.Exit.\") \n",
    "        choice = input(\"Enter your choice (1/2/3/4/5): \")\n",
    "        if choice == '5':\n",
    "            print(\"Thank you for using the calculator. Goodbye!\")\n",
    "            break\n",
    "        if choice not in ['1', '2', '3', '4']:\n",
    "            print(\"Invalid choice. Please select a valid option.\")\n",
    "            continue\n",
    "        def get_number(prompt):\n",
    "            while True:\n",
    "                try:\n",
    "                    num = float(input(prompt))\n",
    "                    return num\n",
    "                except ValueError:\n",
    "                    print(\"Invalid input. Please enter a valid number.\")\n",
    "    \n",
    "        num1= get_number(\"Enter the first number: \")\n",
    "        num2= get_number(\"Enter the second number: \")\n",
    "        result= None\n",
    "        if choice == '1':\n",
    "            result = num1 + num2\n",
    "            print(f\"The result of adding {num1} and {num2} is {result}\")\n",
    "        elif choice == '2':\n",
    "            result = num1 - num2\n",
    "            print(f\"The result of subtracting {num2} from {num1} is {result}\")\n",
    "        elif choice == '3':\n",
    "            result = num1 * num2\n",
    "            print(f\"The result of multiplying {num1} and {num2} is {result}\")\n",
    "        elif choice == '4':\n",
    "            if num2 == 0:\n",
    "                print(\"Division by zero is not allowed. Please try a different divisor.\")\n",
    "            else:\n",
    "                result = num1 / num2\n",
    "                print(f\"The result of dividing {num1} by {num2} is {result}\")\n",
    "        another = input(\"Do you want to perform another calculation? (yes/no): \")\n",
    "        if another.lower() != \"yes\":\n",
    "            print(\"Thank you for using the calculator. Goodbye!\")\n",
    "            break\n",
    "# Call the simple_calculator function to run the program\n",
    "Calculator()"
   ]
  },
  {
   "cell_type": "code",
   "execution_count": 26,
   "metadata": {},
   "outputs": [
    {
     "ename": "ZeroDivisionError",
     "evalue": "division by zero",
     "output_type": "error",
     "traceback": [
      "\u001b[31m---------------------------------------------------------------------------\u001b[39m",
      "\u001b[31mZeroDivisionError\u001b[39m                         Traceback (most recent call last)",
      "\u001b[36mCell\u001b[39m\u001b[36m \u001b[39m\u001b[32mIn[26]\u001b[39m\u001b[32m, line 2\u001b[39m\n\u001b[32m      1\u001b[39m \u001b[38;5;66;03m# Divide by Zero Exception\u001b[39;00m\n\u001b[32m----> \u001b[39m\u001b[32m2\u001b[39m x = \u001b[32;43m1\u001b[39;49m\u001b[43m/\u001b[49m\u001b[32;43m0\u001b[39;49m\n\u001b[32m      3\u001b[39m x\n",
      "\u001b[31mZeroDivisionError\u001b[39m: division by zero"
     ]
    }
   ],
   "source": [
    "# Divide by Zero Exception\n",
    "x = 1/0\n",
    "x"
   ]
  },
  {
   "cell_type": "code",
   "execution_count": null,
   "metadata": {},
   "outputs": [
    {
     "name": "stdout",
     "output_type": "stream",
     "text": [
      "1.0\n"
     ]
    }
   ],
   "source": [
    "#Try-Except function for special error:\n",
    "try:\n",
    "    x = 1/0\n",
    "    print(x)\n",
    "except ZeroDivisionError:\n",
    "    x = 1/1\n",
    "    print(x)"
   ]
  },
  {
   "cell_type": "code",
   "execution_count": null,
   "metadata": {},
   "outputs": [
    {
     "name": "stdout",
     "output_type": "stream",
     "text": [
      "1.0\n"
     ]
    }
   ],
   "source": [
    "#Try-Except for any error\n",
    "try:\n",
    "    x = 1/0\n",
    "    print(x)\n",
    "except:\n",
    "    x = 1/1\n",
    "    print(x)"
   ]
  },
  {
   "cell_type": "code",
   "execution_count": 34,
   "metadata": {},
   "outputs": [
    {
     "name": "stdout",
     "output_type": "stream",
     "text": [
      "another Error\n"
     ]
    }
   ],
   "source": [
    "try:\n",
    "    print(y)\n",
    "except ZeroDivisionError:\n",
    "    x = 1/1\n",
    "    print(x)\n",
    "except:\n",
    "    print(\"another Error\")"
   ]
  },
  {
   "cell_type": "code",
   "execution_count": 35,
   "metadata": {},
   "outputs": [
    {
     "name": "stdout",
     "output_type": "stream",
     "text": [
      "Calculator Options:\n",
      "1. Add\n",
      "2. Subtract\n",
      "3. Multiply\n",
      "4. Divide\n",
      "5. Exit\n",
      "2.0 + 6.0 = 8.0\n",
      "Thanks for using the calculator. Bye!\n"
     ]
    }
   ],
   "source": [
    "# This is a simple calculator that can add, subtract, multiply, or divide two numbers.\n",
    "def calculator():\n",
    "    while True:\n",
    "        print(\"Calculator Options:\")\n",
    "        print(\"1. Add\")\n",
    "        print(\"2. Subtract\")\n",
    "        print(\"3. Multiply\")\n",
    "        print(\"4. Divide\")\n",
    "        print(\"5. Exit\")\n",
    "\n",
    "        choice = input(\"Choose operation (1-5): \")\n",
    "\n",
    "        if choice == '5':\n",
    "            print(\"Goodbye!\")\n",
    "            break\n",
    "\n",
    "        if choice not in ['1', '2', '3', '4']:\n",
    "            print(\"Wrong choice! Please select a valid option.\")\n",
    "            continue\n",
    "\n",
    "        num1_input = input(\"Enter first number: \")\n",
    "        num2_input = input(\"Enter second number: \")\n",
    "\n",
    "        if not (num1_input.isnumeric() and num2_input.isnumeric()):\n",
    "            print(\"Oops! That doesn't seem to be a valid number. Try again!\")\n",
    "            continue\n",
    "\n",
    "        num1 = float(num1_input)\n",
    "        num2 = float(num2_input)\n",
    "\n",
    "        if choice == '1':\n",
    "            print(f\"{num1} + {num2} = {num1 + num2}\")\n",
    "        elif choice == '2':\n",
    "            print(f\"{num1} - {num2} = {num1 - num2}\")\n",
    "        elif choice == '3':\n",
    "            print(f\"{num1} * {num2} = {num1 * num2}\")\n",
    "        elif choice == '4':\n",
    "            if num2 == 0:\n",
    "                print(\"Can't divide by zero!\")\n",
    "            else:\n",
    "                print(f\"{num1} / {num2} = {num1 / num2}\")\n",
    "\n",
    "        again = input(\"Another calculation? (yes/no): \")\n",
    "        if again.lower() != 'yes':\n",
    "            print(\"Thanks for using the calculator. Bye!\")\n",
    "            break\n",
    "\n",
    "calculator()"
   ]
  },
  {
   "cell_type": "code",
   "execution_count": null,
   "metadata": {},
   "outputs": [],
   "source": []
  }
 ],
 "metadata": {
  "kernelspec": {
   "display_name": "Python 3",
   "language": "python",
   "name": "python3"
  },
  "language_info": {
   "codemirror_mode": {
    "name": "ipython",
    "version": 3
   },
   "file_extension": ".py",
   "mimetype": "text/x-python",
   "name": "python",
   "nbconvert_exporter": "python",
   "pygments_lexer": "ipython3",
   "version": "3.13.1"
  }
 },
 "nbformat": 4,
 "nbformat_minor": 2
}
