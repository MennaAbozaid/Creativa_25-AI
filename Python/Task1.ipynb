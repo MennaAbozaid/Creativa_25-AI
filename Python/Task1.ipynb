{
 "cells": [
  {
   "cell_type": "code",
   "execution_count": 7,
   "id": "0fd39b6c",
   "metadata": {},
   "outputs": [
    {
     "data": {
      "text/plain": [
       "'mohamed.elnahla@gmail.com'"
      ]
     },
     "execution_count": 7,
     "metadata": {},
     "output_type": "execute_result"
    }
   ],
   "source": [
    "mail= input(\"Enter your email address: \")\n",
    "mail"
   ]
  },
  {
   "cell_type": "code",
   "execution_count": 8,
   "metadata": {},
   "outputs": [
    {
     "name": "stdout",
     "output_type": "stream",
     "text": [
      "Valid email address\n",
      "UserName:  mohamed.elnahla\n",
      "Domain:  gmail\n",
      "Type of last part of domain: Commercial Domain\n"
     ]
    }
   ],
   "source": [
    "mail_count = mail.count('@')\n",
    "if mail_count == 1:\n",
    "    mail_split= mail.split('@')\n",
    "    last_part= mail_split[-1]\n",
    "    if last_part.count('.') >= 1:\n",
    "        print(\"Valid email address\")\n",
    "        # TODO: Extract UserName & Print it\n",
    "        first_part= mail_split[0]\n",
    "        print(\"UserName: \", first_part)\n",
    "        \n",
    "        # TODO: Extract Domain & Print it\n",
    "        last_dot_index = last_part.rfind('.')\n",
    "        domain_part= last_part[:last_dot_index]\n",
    "        print(\"Domain: \", domain_part)\n",
    "        \n",
    "        # TODO: Type of Last Part of Domain\n",
    "        \n",
    "        last_part_check1 = last_part.find(\".com\")      \n",
    "        last_part_check2 = last_part.find(\".edu\")\n",
    "        if last_part_check1 != -1:\n",
    "            print(\"Type of last part of domain: Commercial Domain\")\n",
    "        elif last_part_check2 != -1:\n",
    "            print(\"Type of last part of domain: Educational Domain\")\n",
    "        else:\n",
    "            print(\"Type of last part of domain: Other Domain\")\n",
    "        # .com .edu .gov .mil .org \n",
    "        \n",
    "else:\n",
    "    print(\"Invalid email address\")\n"
   ]
  }
 ],
 "metadata": {
  "kernelspec": {
   "display_name": "Python 3",
   "language": "python",
   "name": "python3"
  },
  "language_info": {
   "codemirror_mode": {
    "name": "ipython",
    "version": 3
   },
   "file_extension": ".py",
   "mimetype": "text/x-python",
   "name": "python",
   "nbconvert_exporter": "python",
   "pygments_lexer": "ipython3",
   "version": "3.13.1"
  }
 },
 "nbformat": 4,
 "nbformat_minor": 5
}
