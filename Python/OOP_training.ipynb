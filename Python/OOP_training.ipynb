{
 "cells": [
  {
   "cell_type": "code",
   "execution_count": 6,
   "id": "59b8da1b",
   "metadata": {},
   "outputs": [
    {
     "name": "stdout",
     "output_type": "stream",
     "text": [
      "Welcome to python.\n"
     ]
    }
   ],
   "source": [
    "'''OOP Constructor >>>> starts with underscore(dundant) to give automatically the initial value''' \n",
    "\n",
    "class student:\n",
    "    #No need for attributes \n",
    "    #Method\n",
    "    def __init__(self):\n",
    "        print(\"Welcome to python.\")\n",
    "\n",
    "s1= student()"
   ]
  },
  {
   "cell_type": "code",
   "execution_count": 13,
   "id": "1d38f64a",
   "metadata": {},
   "outputs": [
    {
     "name": "stdout",
     "output_type": "stream",
     "text": [
      "Welcome Menna to python.\n",
      "Welcome Sara to python.\n",
      "Welcome Ali to python.\n"
     ]
    }
   ],
   "source": [
    "class student:\n",
    "    #No need for attributes \n",
    "    #Method\n",
    "    def __init__(self,name):\n",
    "        self.name= name\n",
    "        print(f\"Welcome {self.name} to python.\")\n",
    "\n",
    "s1= student(\"Menna\")\n",
    "s2= student(\"Sara\")\n",
    "s3= student(\"Ali\")"
   ]
  },
  {
   "cell_type": "code",
   "execution_count": null,
   "id": "01c3e493",
   "metadata": {},
   "outputs": [
    {
     "name": "stdout",
     "output_type": "stream",
     "text": [
      "move from bird\n",
      "move from cat\n"
     ]
    }
   ],
   "source": [
    "''' Abstracted class:intermediate class (just frame contains all req functions) used in some classes'''\n",
    "\n",
    "from abc import ABC, abstractmethod #decoration\n",
    "\n",
    "class Animal(ABC):\n",
    "    @abstractmethod\n",
    "    def move(self): #abstract method (no body)\n",
    "        pass #no body in the abstract method\n",
    "\n",
    "class Bird(Animal):\n",
    "    def move(self): #override the abstract method\n",
    "        print(\"move from bird\")\n",
    "        \n",
    "class Cat(Animal):\n",
    "    def move(self): #override the abstract method\n",
    "        print(\"move from cat\")\n",
    "\n",
    "\n",
    "a = Bird()\n",
    "a.move() #move from bird\n",
    "\n",
    "b = Cat()\n",
    "b.move() #move from cat"
   ]
  },
  {
   "cell_type": "code",
   "execution_count": 2,
   "id": "3acaff84",
   "metadata": {},
   "outputs": [
    {
     "data": {
      "text/plain": [
       "' Encapsulation: hiding the data from the user and only allow access to it through methods.\\n'"
      ]
     },
     "execution_count": 2,
     "metadata": {},
     "output_type": "execute_result"
    }
   ],
   "source": [
    "''' Encapsulation: hiding the data from the user and only allow access to it through methods.\n",
    "'''\n"
   ]
  },
  {
   "cell_type": "code",
   "execution_count": 14,
   "id": "c26aa991",
   "metadata": {},
   "outputs": [
    {
     "name": "stdout",
     "output_type": "stream",
     "text": [
      "2000cc\n"
     ]
    },
    {
     "ename": "AttributeError",
     "evalue": "'car' object has no attribute '__start_engine'",
     "output_type": "error",
     "traceback": [
      "\u001b[31m---------------------------------------------------------------------------\u001b[39m",
      "\u001b[31mAttributeError\u001b[39m                            Traceback (most recent call last)",
      "\u001b[36mCell\u001b[39m\u001b[36m \u001b[39m\u001b[32mIn[14]\u001b[39m\u001b[32m, line 12\u001b[39m\n\u001b[32m      9\u001b[39m c1= car()\n\u001b[32m     10\u001b[39m \u001b[38;5;28mprint\u001b[39m(c1._engine_capacity) \u001b[38;5;66;03m#2000cc (can be accessed from the class and its subclasses)\u001b[39;00m\n\u001b[32m---> \u001b[39m\u001b[32m12\u001b[39m \u001b[43mc1\u001b[49m\u001b[43m.\u001b[49m\u001b[43m__start_engine\u001b[49m() \u001b[38;5;66;03m#AttributeError: 'car' object has no attribute '__start_engine' (cannot be accessed from outside the class)\u001b[39;00m\n\u001b[32m     13\u001b[39m \u001b[33;03m'''يعني مينفعش انده علي البرايفت برا الكلاس بتاعه'''\u001b[39;00m\n",
      "\u001b[31mAttributeError\u001b[39m: 'car' object has no attribute '__start_engine'"
     ]
    }
   ],
   "source": [
    "class car:\n",
    "    #private attribute\n",
    "    _engine_capacity = \"2000cc\" #protected attribute (can be accessed from the class and its subclasses):, \n",
    "    #(the dundant made it private)\n",
    "    \n",
    "    #private method\n",
    "    def __start_engine(self): #(the dundant made it private))\n",
    "        print(\"Engine started\")\n",
    "c1= car()\n",
    "print(c1._engine_capacity) #2000cc (can be accessed from the class and its subclasses)\n",
    "\n",
    "c1.__start_engine() #AttributeError: 'car' object has no attribute '__start_engine' (cannot be accessed from outside the class)\n",
    "'''يعني مينفعش انده علي البرايفت برا الكلاس بتاعه'''"
   ]
  },
  {
   "cell_type": "code",
   "execution_count": 15,
   "id": "c4548884",
   "metadata": {},
   "outputs": [
    {
     "name": "stdout",
     "output_type": "stream",
     "text": [
      "The length of the rectangle is:  5\n",
      "The width of the rectangle is:  10\n",
      "The area of the rectangle is:  50\n"
     ]
    }
   ],
   "source": [
    "class Rectangle:\n",
    "    length = 5\n",
    "    width = 10\n",
    "    \n",
    "    def area(self):\n",
    "        return self.length * self.width\n",
    "# There is no dundant for the attributes or the method so they are public by default.\n",
    "# The attributes and methods can be accessed from outside the class.\n",
    "\n",
    "r = Rectangle()\n",
    "print(\"The length of the rectangle is: \", r.length) #5 (accessing the attribute of the class)\n",
    "print(\"The width of the rectangle is: \",r.width) #10 (accessing the attribute of the class)\n",
    "print(\"The area of the rectangle is: \",r.area()) #50 (accessing the method of the class)\n"
   ]
  },
  {
   "cell_type": "code",
   "execution_count": 18,
   "id": "76b9c69d",
   "metadata": {},
   "outputs": [
    {
     "name": "stdout",
     "output_type": "stream",
     "text": [
      "The area of the circle is:  78.5\n",
      "The area of the square is:  16\n"
     ]
    }
   ],
   "source": [
    "#Polymorphism: the ability to take many forms.\n",
    "class Shape:\n",
    "    def calculate_area(self):\n",
    "        pass\n",
    "    #abstract method (no body)\n",
    "\n",
    "class Circle(Shape):\n",
    "    def __init__(self, radius): #constructor\n",
    "        self.radius = radius\n",
    "        \n",
    "    def calculate_area(self): #override the abstract method\n",
    "        return 3.14 * self.radius ** 2\n",
    "class square(Shape):\n",
    "    def __init__(self, side):\n",
    "        self.side = side\n",
    "        \n",
    "    def calculate_area(self): #override the abstract method\n",
    "        return self.side * self.side\n",
    "\n",
    "x = Circle(5)\n",
    "y = square(4)\n",
    "print(\"The area of the circle is: \", x.calculate_area()) #78.5 (accessing the method of the class)\n",
    "print(\"The area of the square is: \", y.calculate_area()) #16 (accessing the method of the class)"
   ]
  },
  {
   "cell_type": "code",
   "execution_count": 31,
   "id": "01bdaafd",
   "metadata": {},
   "outputs": [
    {
     "name": "stdout",
     "output_type": "stream",
     "text": [
      "The summation of 5.0 and 9.0 is:  14.0\n",
      "The power of 2.0 and 3.0 is:  8.0\n"
     ]
    }
   ],
   "source": [
    "#Inheritance: the ability to create a new class from an existing class.\n",
    "#original class (parent class) and the new class (child class) will have the same attributes and methods.\n",
    "#1- The original class:\n",
    "class Calculator:\n",
    "    def summation(self, n1, n2):\n",
    "        return n1 + n2\n",
    "    \n",
    "    def subtraction(self, n1, n2):\n",
    "        return n1 - n2\n",
    "    \n",
    "    def multiplication(self, n1, n2):\n",
    "        return n1 * n2\n",
    "    \n",
    "    def division(self, n1, n2):\n",
    "        return n1 / n2\n",
    "    \n",
    "    #2- The new class:\n",
    "    \n",
    "    class Calculator2(Calculator):\n",
    "        def power(self, n3, n4):\n",
    "            return n3 ** n4\n",
    "        \n",
    "        def square_root(self, n3):\n",
    "            return n3 ** 0.5\n",
    "    \n",
    "    c1 = Calculator()\n",
    "    c2 = Calculator2()\n",
    "    n1 = float(input(\"Enter the first number: \"))\n",
    "    n2 = float(input(\"Enter the second number: \"))\n",
    "    n3 = float(input(\"Enter the first number: \"))\n",
    "    n4 = float(input(\"Enter the second number: \"))\n",
    "    \n",
    "    print(f\"The summation of {n1} and {n2} is: \", c1.summation(n1, n2)) #15 (accessing the method of the class)\n",
    "    print(f\"The power of {n3} and {n4} is: \", c2.power(n3, n4)) #25 (accessing the method of the class)\n",
    "    \n",
    "        "
   ]
  },
  {
   "cell_type": "code",
   "execution_count": 32,
   "id": "12825366",
   "metadata": {},
   "outputs": [
    {
     "name": "stdout",
     "output_type": "stream",
     "text": [
      "Doing this from class A\n"
     ]
    }
   ],
   "source": [
    "#Multiple Inheritance: the ability to create a new class from multiple existing classes.\n",
    "\n",
    "class A:\n",
    "    def do_this(self):\n",
    "        print(\"Doing this from class A\")\n",
    "    \n",
    "class B(A):\n",
    "    pass\n",
    "\n",
    "class C():\n",
    "    def do_this(self):\n",
    "        print(\"Doing this from class C\")\n",
    "    \n",
    "class D(B, C):\n",
    "    pass\n",
    "x = D()\n",
    "x.do_this() #Doing this from class A >>First class (the method from the first parent class)"
   ]
  },
  {
   "cell_type": "markdown",
   "id": "f0987067",
   "metadata": {},
   "source": [
    "**1-Calculate factorial using recursion**"
   ]
  },
  {
   "cell_type": "code",
   "execution_count": 3,
   "id": "522bf23c",
   "metadata": {},
   "outputs": [
    {
     "data": {
      "text/plain": [
       "120"
      ]
     },
     "execution_count": 3,
     "metadata": {},
     "output_type": "execute_result"
    }
   ],
   "source": [
    "#Calculate factorial using recursion: (x * factorial(x-1))\n",
    "def factorial(n):\n",
    "    if n == 0:\n",
    "        return 0\n",
    "    if n == 1:\n",
    "        return 1\n",
    "    else:\n",
    "        return n * factorial(n - 1)\n",
    "\n",
    "factorial(5) #120 (5 * 4 * 3 * 2 * 1)\n"
   ]
  },
  {
   "cell_type": "markdown",
   "id": "2b36cd2e",
   "metadata": {},
   "source": [
    "**2- Write a function that takes a number and return True if this number is prime and False if not<> Then try it into class:**"
   ]
  },
  {
   "cell_type": "code",
   "execution_count": 3,
   "id": "3712bd9c",
   "metadata": {},
   "outputs": [
    {
     "name": "stdout",
     "output_type": "stream",
     "text": [
      "True\n",
      "False\n"
     ]
    }
   ],
   "source": [
    "def is_prime(num):\n",
    "    for i in range(2,num):\n",
    "        if num % i == 0: #باقي قسمة الرقم الاولي علي نفسه تساوي صفر \n",
    "            return False\n",
    "    return True\n",
    "print(is_prime(5)) #True (5 is prime number)\n",
    "print(is_prime(4)) #False (4 is not prime number)"
   ]
  },
  {
   "cell_type": "code",
   "execution_count": null,
   "id": "3e3b8846",
   "metadata": {},
   "outputs": [
    {
     "name": "stdout",
     "output_type": "stream",
     "text": [
      "False\n"
     ]
    }
   ],
   "source": [
    "class prime_number:\n",
    "    def __init__(self, num): #constructor\n",
    "        self.num = num  \n",
    "        \n",
    "    def is_prime(self): #method to check if the number is prime or not #**note that the method name is the same as the function name and does not give the number as it is given in the constructor\n",
    "        for i in range(2,self.num):\n",
    "            if self.num % i == 0: #باقي قسمة الرقم الاولي علي نفسه تساوي صفر \n",
    "                return False\n",
    "        return True\n",
    "\n",
    "s1 = prime_number(20) #object of the class\n",
    "print(s1.is_prime()) #False (20 is not prime number)"
   ]
  },
  {
   "cell_type": "markdown",
   "id": "b7ce4c5d",
   "metadata": {},
   "source": [
    "**3- Write a function that takes 2 numbers and return a list of common dividors.**"
   ]
  },
  {
   "cell_type": "code",
   "execution_count": 4,
   "id": "c5f11a1c",
   "metadata": {},
   "outputs": [
    {
     "name": "stdout",
     "output_type": "stream",
     "text": [
      "[1, 2, 5, 10]\n"
     ]
    }
   ],
   "source": [
    "''' The function takes two numbers as input and returns a list of their common divisors. اي الارقام اللي تقبل القسمة عليها'''\n",
    "def dividors(num1,num2):\n",
    "    mn = min(num1,num2) #minimum number\n",
    "    common_dividors = [] #list to store the common divisors\n",
    "    for i in range(1,mn+1):\n",
    "        if num1 % i == 0 and num2 % i == 0: #باقي قسمة الرقمين علي نفس الرقم تساوي صفر \n",
    "            common_dividors.append(i) #add the common divisor to the list\n",
    "    return common_dividors #return the list of common divisors\n",
    "\n",
    "print(dividors(10,20)) #1,2,5,10 (common divisors of 20 and 30)     "
   ]
  },
  {
   "cell_type": "code",
   "execution_count": 3,
   "id": "269b5ca9",
   "metadata": {},
   "outputs": [
    {
     "name": "stdout",
     "output_type": "stream",
     "text": [
      "[1, 2, 5, 10]\n"
     ]
    }
   ],
   "source": [
    "class Find_dividors:\n",
    "    def __init__(self,num1,num2):#constructor\n",
    "        self.num1 = num1\n",
    "        self.num2 = num2\n",
    "        self.common_dividors = [] #list to store the common divisors\n",
    "    def dividors(self):\n",
    "        mn = min(self.num1,self.num2)\n",
    "        for i in range(1,mn+1):\n",
    "            if self.num1 % i == 0 and self.num2 % i == 0:\n",
    "                self.common_dividors.append(i)\n",
    "        return self.common_dividors\n",
    "#return the list of common divisors\n",
    "s1 = Find_dividors(20,30) #object of the class\n",
    "print(s1.dividors()) #1,2,5,10 (common divisors of 20 and 30)"
   ]
  },
  {
   "cell_type": "markdown",
   "id": "1f423e4b",
   "metadata": {},
   "source": [
    "**4- Given 2 strings, write a program that efficiently finds the longest common subsequence.**\n",
    "\n",
    "\n",
    "\n",
    "\n",
    "EX:\n",
    "str1 = \"Welcome to Machine Learning Diploma\"\n",
    "str2= \"I am studying a Machine Learning Course\" ---> Machine Learning"
   ]
  },
  {
   "cell_type": "code",
   "execution_count": 9,
   "id": "38ed82b8",
   "metadata": {},
   "outputs": [
    {
     "name": "stdout",
     "output_type": "stream",
     "text": [
      "The first String is: i need to eat and drink\n",
      "The Second String is:  i need to get out to eat and drink\n",
      "The Longest Common sentence is:  to eat and drink\n"
     ]
    }
   ],
   "source": [
    "# الكلمات الطويلة المتشابهة من الجملتين\n",
    "str1 = input(\"Enter the first string: \")\n",
    "str2 = input(\"Enter the second string: \")\n",
    "\n",
    "longest_string = \"\"\n",
    "for i in range(len(str1)):\n",
    "    # print(i)\n",
    "    for j in range(len(str2)):\n",
    "        # print(j)\n",
    "        sub_str = str1[i:j+1]\n",
    "        # print(sub_str)\n",
    "        if sub_str in str2 and len(sub_str) > len(longest_string):\n",
    "            longest_string = sub_str\n",
    "print(\"The first String is:\",str1)\n",
    "print(\"The Second String is: \",str2)\n",
    "print(\"The Longest Common sentence is:\" ,longest_string)\n"
   ]
  },
  {
   "cell_type": "markdown",
   "id": "5c9775a7",
   "metadata": {},
   "source": [
    "**5- Write a function that will take a given string and reverse the order of words:**\n",
    "\n",
    "EX: \"Hello World\" --> \"World Hello\"\n"
   ]
  },
  {
   "cell_type": "code",
   "execution_count": 22,
   "id": "7444ddda",
   "metadata": {},
   "outputs": [
    {
     "name": "stdout",
     "output_type": "stream",
     "text": [
      "the reversed string is:  Elnahla Mohsen Mohamed\n"
     ]
    }
   ],
   "source": [
    "#The function takes a string as input and returns the reversed string.\n",
    "user_input = input(\"Enter the string you need to reverse: \")\n",
    "def fun(input_string):\n",
    "    words = input_string.split(\" \")\n",
    "    reversed_words = words[::-1]    #reversed list\n",
    "    reversed_string = \" \".join(reversed_words) #reversed string    \n",
    "    return reversed_string\n",
    "\n",
    "print(\"the reversed string is: \",fun(user_input)) #the reversed string"
   ]
  },
  {
   "cell_type": "code",
   "execution_count": 25,
   "id": "8f94a855",
   "metadata": {},
   "outputs": [
    {
     "name": "stdout",
     "output_type": "stream",
     "text": [
      "['student', 'good', 'a', 'is', 'Menna']\n",
      "student good a is Menna\n"
     ]
    }
   ],
   "source": [
    "s=\"Menna is a good student\"\n",
    "lst = s.split(\" \") #split the string into a list of words\n",
    "new_lst = lst[::-1] #reversed list\n",
    "print(new_lst)\n",
    "\n",
    "reserved_string = \" \".join(new_lst) #reversed string\n",
    "print(reserved_string) #reversed string"
   ]
  },
  {
   "cell_type": "markdown",
   "id": "24b749dd",
   "metadata": {},
   "source": [
    "**6- Create a program that generates a random passwords of a given length.**\n",
    "\n",
    "Hint: use random module --> import random --> random.randrange (0, last num)"
   ]
  },
  {
   "cell_type": "code",
   "execution_count": 38,
   "id": "31edba83",
   "metadata": {},
   "outputs": [
    {
     "name": "stdout",
     "output_type": "stream",
     "text": [
      "The length of the password you entered is:  9\n",
      "The generated password is: rjuwC1FuA\n"
     ]
    }
   ],
   "source": [
    "import random\n",
    "\n",
    "class Password_generator:\n",
    "    def __init__(self, length):  # Constructor\n",
    "        self.length = length\n",
    "        \n",
    "    def generate_password(self):  # Method properly indented inside the class\n",
    "        characters = \"abcdefghijklmnopqrstuvwxyzABCDEFGHIJKLMNOPQRSTUVWXYZ0123456789!@#$%^&*()_+\" # all characters\n",
    "        number_of_characters = len(characters) # number of characters\n",
    "        password = \"\" # empty string to store the password\n",
    "        \n",
    "        for i in range(self.length): # length of the password\n",
    "            random_index = random.randrange(0, number_of_characters) # random index\n",
    "            password += characters[random_index] # add the character to the password\n",
    "        return password # return the password\n",
    "\n",
    "#بنفصل الكود عن بعضه عشان نقدر نستخدمه في كلاس تاني\n",
    "if __name__ == \"__main__\":\n",
    "    \n",
    "    length = int(input(\"Enter the length of the password: \")) # length of the password\n",
    "    print(\"The length of the password you entered is: \", length) # the length of the password\n",
    "    p = Password_generator(length) # object of the class\n",
    "    print(\"The generated password is:\", p.generate_password()) # the generated password"
   ]
  }
 ],
 "metadata": {
  "kernelspec": {
   "display_name": "Python 3",
   "language": "python",
   "name": "python3"
  },
  "language_info": {
   "codemirror_mode": {
    "name": "ipython",
    "version": 3
   },
   "file_extension": ".py",
   "mimetype": "text/x-python",
   "name": "python",
   "nbconvert_exporter": "python",
   "pygments_lexer": "ipython3",
   "version": "3.13.1"
  }
 },
 "nbformat": 4,
 "nbformat_minor": 5
}
