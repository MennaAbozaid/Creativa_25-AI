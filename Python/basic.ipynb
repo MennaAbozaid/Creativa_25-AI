{
 "cells": [
  {
   "cell_type": "code",
   "execution_count": 7,
   "metadata": {},
   "outputs": [
    {
     "name": "stdout",
     "output_type": "stream",
     "text": [
      "<class 'list'>\n"
     ]
    }
   ],
   "source": [
    "list_one= [1,2,3,4,\"amit\",\"learning\",True,[1,2,3,\"True\",[\"ml\",\"dl\",\"ds\"]] ]\n",
    "print(type(list_one))\n"
   ]
  },
  {
   "cell_type": "code",
   "execution_count": 8,
   "metadata": {},
   "outputs": [
    {
     "name": "stdout",
     "output_type": "stream",
     "text": [
      "[1, 2, 3, 4, 0, 'learning', True, [1, 2, 3, 'True', ['ml', 'dl', 'ds']]]\n"
     ]
    }
   ],
   "source": [
    "list_one[4]=0\n",
    "print(list_one)"
   ]
  },
  {
   "cell_type": "code",
   "execution_count": null,
   "metadata": {},
   "outputs": [
    {
     "name": "stdout",
     "output_type": "stream",
     "text": [
      "['amit', 'learning', ' python', 'learning']\n"
     ]
    }
   ],
   "source": [
    "list= [ \"amit\", \"learning\",\" python\"]\n",
    "list.append(\"machine learning\")\n",
    "print(list)"
   ]
  },
  {
   "cell_type": "code",
   "execution_count": 10,
   "metadata": {},
   "outputs": [
    {
     "data": {
      "text/plain": [
       "['Artificial intelligence', 'amit', 'learning', ' python', 'learning']"
      ]
     },
     "execution_count": 10,
     "metadata": {},
     "output_type": "execute_result"
    }
   ],
   "source": [
    "list.insert(0,\"Artificial intelligence\")\n",
    "list"
   ]
  },
  {
   "cell_type": "code",
   "execution_count": 12,
   "metadata": {},
   "outputs": [
    {
     "data": {
      "text/plain": [
       "[1, 2, 3, 4, 5, 6, 7]"
      ]
     },
     "execution_count": 12,
     "metadata": {},
     "output_type": "execute_result"
    }
   ],
   "source": [
    "x1= [1,2,3]\n",
    "y1= [ 4,5,6 ,7]\n",
    "x1.extend(y1)\n",
    "x1"
   ]
  },
  {
   "cell_type": "code",
   "execution_count": 17,
   "metadata": {},
   "outputs": [
    {
     "data": {
      "text/plain": [
       "[1, 2, 3, 4]"
      ]
     },
     "execution_count": 17,
     "metadata": {},
     "output_type": "execute_result"
    }
   ],
   "source": [
    "x1.pop()\n",
    "x1"
   ]
  },
  {
   "cell_type": "code",
   "execution_count": 33,
   "metadata": {},
   "outputs": [
    {
     "data": {
      "text/plain": [
       "['Menna',\n",
       " 'Ahmed',\n",
       " 'Mohamed',\n",
       " 'Abozaid',\n",
       " 'Faculty of Engineering',\n",
       " 'Port Said ']"
      ]
     },
     "execution_count": 33,
     "metadata": {},
     "output_type": "execute_result"
    }
   ],
   "source": [
    "x = [\"Menna\",\"Ahmed\",\"Mohamed\",\"Abozaid\"]\n",
    "x.append(\"Faculty of Engineering\")\n",
    "x.append(\"Port Said \")\n",
    "x"
   ]
  },
  {
   "cell_type": "code",
   "execution_count": 35,
   "metadata": {},
   "outputs": [
    {
     "data": {
      "text/plain": [
       "['Menna',\n",
       " 'Ahmed',\n",
       " 'Mohamed',\n",
       " 'Abozaid',\n",
       " 'Faculty of Engineering',\n",
       " 'Port Said ',\n",
       " '2',\n",
       " '5']"
      ]
     },
     "execution_count": 35,
     "metadata": {},
     "output_type": "execute_result"
    }
   ],
   "source": [
    "x.extend(\"25\")\n",
    "x"
   ]
  },
  {
   "cell_type": "code",
   "execution_count": 50,
   "metadata": {},
   "outputs": [
    {
     "data": {
      "text/plain": [
       "'Abozaid'"
      ]
     },
     "execution_count": 50,
     "metadata": {},
     "output_type": "execute_result"
    }
   ],
   "source": [
    "x = [\"Menna\",\"Ahmed\",\"Mohamed\",\"Abozaid\"]\n",
    "z= x.pop()\n",
    "z"
   ]
  },
  {
   "cell_type": "code",
   "execution_count": null,
   "metadata": {},
   "outputs": [
    {
     "data": {
      "text/plain": [
       "'learning'"
      ]
     },
     "execution_count": 51,
     "metadata": {},
     "output_type": "execute_result"
    }
   ],
   "source": [
    "x = [ \"Machine\",\"learning\"]\n",
    "z1= x.pop()\n",
    "z1"
   ]
  },
  {
   "cell_type": "code",
   "execution_count": 52,
   "metadata": {},
   "outputs": [
    {
     "ename": "TypeError",
     "evalue": "'builtin_function_or_method' object is not subscriptable",
     "output_type": "error",
     "traceback": [
      "\u001b[31m---------------------------------------------------------------------------\u001b[39m",
      "\u001b[31mTypeError\u001b[39m                                 Traceback (most recent call last)",
      "\u001b[36mCell\u001b[39m\u001b[36m \u001b[39m\u001b[32mIn[52]\u001b[39m\u001b[32m, line 2\u001b[39m\n\u001b[32m      1\u001b[39m x = [ \u001b[33m\"\u001b[39m\u001b[33mMachine\u001b[39m\u001b[33m\"\u001b[39m,\u001b[33m\"\u001b[39m\u001b[33mlearning\u001b[39m\u001b[33m\"\u001b[39m]\n\u001b[32m----> \u001b[39m\u001b[32m2\u001b[39m z2= \u001b[43mx\u001b[49m\u001b[43m.\u001b[49m\u001b[43mremove\u001b[49m\u001b[43m[\u001b[49m\u001b[33;43m\"\u001b[39;49m\u001b[33;43mlearning\u001b[39;49m\u001b[33;43m\"\u001b[39;49m\u001b[43m]\u001b[49m\n",
      "\u001b[31mTypeError\u001b[39m: 'builtin_function_or_method' object is not subscriptable"
     ]
    }
   ],
   "source": [
    "x = [ \"Machine\",\"learning\"]\n",
    "z2= x.remove[\"learning\"]"
   ]
  },
  {
   "cell_type": "code",
   "execution_count": 53,
   "metadata": {},
   "outputs": [
    {
     "data": {
      "text/plain": [
       "['Machine', 'learning']"
      ]
     },
     "execution_count": 53,
     "metadata": {},
     "output_type": "execute_result"
    }
   ],
   "source": [
    "x"
   ]
  },
  {
   "cell_type": "code",
   "execution_count": 58,
   "metadata": {},
   "outputs": [
    {
     "ename": "NameError",
     "evalue": "name 'x' is not defined",
     "output_type": "error",
     "traceback": [
      "\u001b[31m---------------------------------------------------------------------------\u001b[39m",
      "\u001b[31mNameError\u001b[39m                                 Traceback (most recent call last)",
      "\u001b[36mCell\u001b[39m\u001b[36m \u001b[39m\u001b[32mIn[58]\u001b[39m\u001b[32m, line 1\u001b[39m\n\u001b[32m----> \u001b[39m\u001b[32m1\u001b[39m \u001b[38;5;28;01mdel\u001b[39;00m \u001b[43mx\u001b[49m\n\u001b[32m      2\u001b[39m x\n",
      "\u001b[31mNameError\u001b[39m: name 'x' is not defined"
     ]
    }
   ],
   "source": [
    "del x\n",
    "x"
   ]
  },
  {
   "cell_type": "code",
   "execution_count": 60,
   "metadata": {},
   "outputs": [
    {
     "data": {
      "text/plain": [
       "('menna', '29901020300244')"
      ]
     },
     "execution_count": 60,
     "metadata": {},
     "output_type": "execute_result"
    }
   ],
   "source": [
    "x1 = input(\"Enter your Name: \")\n",
    "x2 = input(\"Enter your ID: \")\n",
    "x1,x2"
   ]
  },
  {
   "cell_type": "code",
   "execution_count": 65,
   "metadata": {},
   "outputs": [
    {
     "name": "stdout",
     "output_type": "stream",
     "text": [
      "5.0\n"
     ]
    }
   ],
   "source": [
    "num1 = float(input(\"Enter your first number: \"))\n",
    "sign = input(\"Enter your operation: \")\n",
    "num2 =float(input(\"Enter your second number: \"))\n",
    "if sign == \"+\":\n",
    "    print(num1+num2)\n",
    "elif sign == \"-\":\n",
    "    print(num1-num2)\n",
    "elif sign == \"*\":\n",
    "    print(num1*num2)\n",
    "elif sign == \"/\":\n",
    "    print(num1/num2)\n"
   ]
  },
  {
   "cell_type": "code",
   "execution_count": 66,
   "metadata": {},
   "outputs": [
    {
     "data": {
      "text/plain": [
       "1"
      ]
     },
     "execution_count": 66,
     "metadata": {},
     "output_type": "execute_result"
    }
   ],
   "source": [
    "x = [1,2,3,4,5,6,7,8,9,10]\n",
    "index_of_2= x.index(2)\n",
    "index_of_2"
   ]
  },
  {
   "cell_type": "code",
   "execution_count": 67,
   "metadata": {},
   "outputs": [
    {
     "data": {
      "text/plain": [
       "3"
      ]
     },
     "execution_count": 67,
     "metadata": {},
     "output_type": "execute_result"
    }
   ],
   "source": [
    "x = [ 1,2,2,3,4,5,2]\n",
    "count_of_2= x.count(2)\n",
    "count_of_2"
   ]
  },
  {
   "cell_type": "code",
   "execution_count": 70,
   "metadata": {},
   "outputs": [
    {
     "data": {
      "text/plain": [
       "[1, 2, 3, 4, 5, 6, 7, 8]"
      ]
     },
     "execution_count": 70,
     "metadata": {},
     "output_type": "execute_result"
    }
   ],
   "source": [
    "x= [ 3,8,6,5,2,7,1,4]\n",
    "x.sort()\n",
    "x"
   ]
  },
  {
   "cell_type": "code",
   "execution_count": 71,
   "metadata": {},
   "outputs": [
    {
     "data": {
      "text/plain": [
       "[8, 7, 6, 5, 4, 3, 2, 1]"
      ]
     },
     "execution_count": 71,
     "metadata": {},
     "output_type": "execute_result"
    }
   ],
   "source": [
    "x.reverse()\n",
    "x"
   ]
  },
  {
   "cell_type": "code",
   "execution_count": 72,
   "metadata": {},
   "outputs": [
    {
     "name": "stdout",
     "output_type": "stream",
     "text": [
      "<class 'tuple'>\n"
     ]
    }
   ],
   "source": [
    "Tuple_one= (1,2,3,4,\"amit\",\"learning\",True,[1,2,3,\"True\",[\"ml\",\"dl\",\"ds\"]])\n",
    "print(type(Tuple_one))\n"
   ]
  },
  {
   "cell_type": "code",
   "execution_count": 73,
   "metadata": {},
   "outputs": [
    {
     "data": {
      "text/plain": [
       "'amit'"
      ]
     },
     "execution_count": 73,
     "metadata": {},
     "output_type": "execute_result"
    }
   ],
   "source": [
    "Tuple_one[4]\n"
   ]
  },
  {
   "cell_type": "code",
   "execution_count": 2,
   "metadata": {},
   "outputs": [
    {
     "data": {
      "text/plain": [
       "{'a', 'e', 'm', 'n'}"
      ]
     },
     "execution_count": 2,
     "metadata": {},
     "output_type": "execute_result"
    }
   ],
   "source": [
    "a = \"menna\"\n",
    "\n",
    "aa= set(a)\n",
    "aa"
   ]
  },
  {
   "cell_type": "code",
   "execution_count": 5,
   "metadata": {},
   "outputs": [
    {
     "data": {
      "text/plain": [
       "(1, 2, 3, 4, 5, 'amit', 'learning', {1, 2, 3}, ('m1', 'm2', 'm3', 'm4', 'm5'))"
      ]
     },
     "execution_count": 5,
     "metadata": {},
     "output_type": "execute_result"
    }
   ],
   "source": [
    "tuple_a= (1,2,3,4,5,\"amit\",\"learning\",{1,2,3},(\"m1\",\"m2\",\"m3\",\"m4\",\"m5\"))\n",
    "tuple_a"
   ]
  },
  {
   "cell_type": "code",
   "execution_count": null,
   "metadata": {},
   "outputs": [
    {
     "data": {
      "text/plain": [
       "[1, 2, 3, 4, 5, 'amit', 'learning', {1, 2, 3}, ('m1', 'm2', 'm3', 'm4', 'm5')]"
      ]
     },
     "execution_count": 6,
     "metadata": {},
     "output_type": "execute_result"
    }
   ],
   "source": [
    "list_a=list(tuple_a)\n",
    "list_a"
   ]
  },
  {
   "cell_type": "code",
   "execution_count": 7,
   "metadata": {},
   "outputs": [
    {
     "data": {
      "text/plain": [
       "(1,\n",
       " 2,\n",
       " 3,\n",
       " 4,\n",
       " 5,\n",
       " 'amit',\n",
       " 'learning',\n",
       " {1, 2, 3},\n",
       " ('m1', 'm2', 'm3', 'm4', 'm5'),\n",
       " 'machine')"
      ]
     },
     "execution_count": 7,
     "metadata": {},
     "output_type": "execute_result"
    }
   ],
   "source": [
    "list_a.append(\"machine\")\n",
    "tuples_a=tuple (list_a)\n",
    "tuples_a"
   ]
  },
  {
   "cell_type": "code",
   "execution_count": 9,
   "metadata": {},
   "outputs": [
    {
     "name": "stdout",
     "output_type": "stream",
     "text": [
      "{'key1': 12.5, 'key2': 'value2', 'key3': 'python', 4: [1, 2, 3, 4, 5]}\n"
     ]
    }
   ],
   "source": [
    "dic_a= {\"key1\":12.5, \"key2\":\"value2\",\"key3\":\"python\",4:[1,2,3,4,5]}\n",
    "print(dic_a)"
   ]
  },
  {
   "cell_type": "code",
   "execution_count": 10,
   "metadata": {},
   "outputs": [
    {
     "name": "stdout",
     "output_type": "stream",
     "text": [
      "12.5\n"
     ]
    }
   ],
   "source": [
    "print(dic_a[\"key1\"])"
   ]
  },
  {
   "cell_type": "code",
   "execution_count": 11,
   "metadata": {},
   "outputs": [
    {
     "data": {
      "text/plain": [
       "{'key1': 12.5, 'key2': 33, 'key3': 'python', 4: [1, 2, 3, 4, 5]}"
      ]
     },
     "execution_count": 11,
     "metadata": {},
     "output_type": "execute_result"
    }
   ],
   "source": [
    "dic_a[\"key2\"]=33\n",
    "dic_a"
   ]
  },
  {
   "cell_type": "code",
   "execution_count": 13,
   "metadata": {},
   "outputs": [
    {
     "data": {
      "text/plain": [
       "{'key1': 12.5, 'key2': 33, 'key3': 33, 4: [1, 2, 3, 4, 5]}"
      ]
     },
     "execution_count": 13,
     "metadata": {},
     "output_type": "execute_result"
    }
   ],
   "source": [
    "dic_a[\"key3\"]=33\n",
    "dic_a"
   ]
  },
  {
   "cell_type": "code",
   "execution_count": 15,
   "metadata": {},
   "outputs": [
    {
     "name": "stdout",
     "output_type": "stream",
     "text": [
      "bed\n"
     ]
    }
   ],
   "source": [
    "a={\"house1\":{\"room1\":\"bed\",\"room2\":\"desk\"},\"house2}\":{\"room1\":\"chair\",\"room2\":\"lamp\"},\"house3\":{\"room1\":\"bookshelf\",\"room2\":\"table\"}}\n",
    "print(a[\"house1\"][\"room1\"])"
   ]
  },
  {
   "cell_type": "code",
   "execution_count": 16,
   "metadata": {},
   "outputs": [
    {
     "name": "stdout",
     "output_type": "stream",
     "text": [
      "{'a': 1, 'b': 2, 'c': 3}\n"
     ]
    }
   ],
   "source": [
    "key_value_list=[(\"a\",1),(\"b\",2),(\"c\",3)]\n",
    "dict_from_list=dict(key_value_list)\n",
    "print(dict_from_list)"
   ]
  },
  {
   "cell_type": "code",
   "execution_count": 22,
   "metadata": {},
   "outputs": [
    {
     "data": {
      "text/plain": [
       "11.0"
      ]
     },
     "execution_count": 22,
     "metadata": {},
     "output_type": "execute_result"
    }
   ],
   "source": [
    "num1=float(input(\"Enter first Number: \"))\n",
    "num2=float(input(\"Enter second Number: \"))\n",
    "num1 + num2"
   ]
  },
  {
   "cell_type": "code",
   "execution_count": 23,
   "metadata": {},
   "outputs": [
    {
     "name": "stdout",
     "output_type": "stream",
     "text": [
      "sum:11.0\n"
     ]
    }
   ],
   "source": [
    "print(f\"sum:{num1+num2}\")"
   ]
  },
  {
   "cell_type": "code",
   "execution_count": 24,
   "metadata": {},
   "outputs": [
    {
     "name": "stdout",
     "output_type": "stream",
     "text": [
      "it's not raining\n"
     ]
    }
   ],
   "source": [
    "is_rainning= False\n",
    "if not is_rainning: print(\"it's not raining\")"
   ]
  },
  {
   "cell_type": "code",
   "execution_count": 34,
   "metadata": {},
   "outputs": [
    {
     "data": {
      "text/plain": [
       "['m',\n",
       " 'e',\n",
       " 'n',\n",
       " 'n',\n",
       " 'a',\n",
       " '.',\n",
       " 'a',\n",
       " 'b',\n",
       " 'o',\n",
       " 'z',\n",
       " 'a',\n",
       " 'i',\n",
       " 'd',\n",
       " '@',\n",
       " 'e',\n",
       " 'n',\n",
       " 'g',\n",
       " '.',\n",
       " 'p',\n",
       " 's',\n",
       " 'u',\n",
       " '.',\n",
       " 'e',\n",
       " 'd',\n",
       " 'u',\n",
       " '.',\n",
       " 'e',\n",
       " 'g']"
      ]
     },
     "execution_count": 34,
     "metadata": {},
     "output_type": "execute_result"
    }
   ],
   "source": [
    "x = input(\"Enter your mail: \")\n",
    "y =list(x)\n",
    "y"
   ]
  },
  {
   "cell_type": "code",
   "execution_count": 35,
   "metadata": {},
   "outputs": [
    {
     "name": "stdout",
     "output_type": "stream",
     "text": [
      "it's valid email\n"
     ]
    }
   ],
   "source": [
    "if x.__contains__(\"@\")and x.__contains__(\".\"):\n",
    "    print(\"it's valid email\")\n",
    "else:\n",
    "    print(\"it's not valid email\")    "
   ]
  },
  {
   "cell_type": "code",
   "execution_count": 1,
   "metadata": {},
   "outputs": [
    {
     "name": "stdout",
     "output_type": "stream",
     "text": [
      "0\n",
      "1\n",
      "2\n",
      "4\n",
      "5\n"
     ]
    }
   ],
   "source": [
    "for i in range(6):\n",
    "    if i == 3:\n",
    "        continue\n",
    "    print(i)"
   ]
  },
  {
   "cell_type": "code",
   "execution_count": 2,
   "metadata": {},
   "outputs": [
    {
     "name": "stdout",
     "output_type": "stream",
     "text": [
      "0\n",
      "1\n",
      "2\n",
      "3\n"
     ]
    }
   ],
   "source": [
    "for i in range(6):\n",
    "    if i == 4:\n",
    "        break\n",
    "    print(i)"
   ]
  },
  {
   "cell_type": "code",
   "execution_count": 3,
   "metadata": {},
   "outputs": [
    {
     "name": "stdout",
     "output_type": "stream",
     "text": [
      "0\n",
      "1\n",
      "3\n",
      "4\n"
     ]
    }
   ],
   "source": [
    "for i in range(5):\n",
    "    if i==2:\n",
    "        pass\n",
    "    else:\n",
    "        print(i)"
   ]
  },
  {
   "cell_type": "code",
   "execution_count": null,
   "metadata": {},
   "outputs": [],
   "source": [
    "\n",
    "def Calc_app(num1,num2):\n",
    "    \n",
    "    print(num1+num2)\n",
    "    "
   ]
  },
  {
   "cell_type": "code",
   "execution_count": 14,
   "metadata": {},
   "outputs": [
    {
     "name": "stdout",
     "output_type": "stream",
     "text": [
      "3.0\n"
     ]
    }
   ],
   "source": [
    "num1= float(input(\"Enter first number: \"))\n",
    "num2= float(input(\"Enter second number: \"))\n",
    "Calc_app(num1,num2)\n"
   ]
  },
  {
   "cell_type": "code",
   "execution_count": 23,
   "metadata": {},
   "outputs": [],
   "source": [
    "def User_name (first_name,last_name):\n",
    "    print(f\"Hello, your First Name : {first_name}\\nYour Last Name : {last_name}\")\n"
   ]
  },
  {
   "cell_type": "code",
   "execution_count": 24,
   "metadata": {},
   "outputs": [
    {
     "name": "stdout",
     "output_type": "stream",
     "text": [
      "Hello, your First Name : Menna\n",
      "Your Last Name : Abozaid\n"
     ]
    }
   ],
   "source": [
    "x = input(\"Enter first name: \")\n",
    "y = input(\"Enter last name: \")\n",
    "User_name(x,y)"
   ]
  },
  {
   "cell_type": "code",
   "execution_count": 25,
   "metadata": {},
   "outputs": [],
   "source": [
    "def add_app(num1,num2):\n",
    "    z= num1+num2\n",
    "    return z"
   ]
  },
  {
   "cell_type": "code",
   "execution_count": 26,
   "metadata": {},
   "outputs": [
    {
     "data": {
      "text/plain": [
       "5"
      ]
     },
     "execution_count": 26,
     "metadata": {},
     "output_type": "execute_result"
    }
   ],
   "source": [
    "add_app(2,3)"
   ]
  },
  {
   "cell_type": "code",
   "execution_count": 28,
   "metadata": {},
   "outputs": [],
   "source": [
    "def fun1(name,age):\n",
    "    print(f\"Hello {name}, your age is {age}\")"
   ]
  },
  {
   "cell_type": "code",
   "execution_count": 29,
   "metadata": {},
   "outputs": [
    {
     "name": "stdout",
     "output_type": "stream",
     "text": [
      "Hello Menna, your age is 25\n",
      "Hello 26, your age is Mohamed\n"
     ]
    }
   ],
   "source": [
    "fun1(\"Menna\",25)\n",
    "fun1(26,\"Mohamed\")"
   ]
  },
  {
   "cell_type": "code",
   "execution_count": null,
   "metadata": {},
   "outputs": [
    {
     "name": "stdout",
     "output_type": "stream",
     "text": [
      "Hello Mohamed, your age is 26\n"
     ]
    }
   ],
   "source": [
    "# KeyWord Argument correction\n",
    "fun1(age=26,name=\"Mohamed\")"
   ]
  },
  {
   "cell_type": "code",
   "execution_count": 34,
   "metadata": {},
   "outputs": [
    {
     "name": "stdout",
     "output_type": "stream",
     "text": [
      "Hello Menna, your age is 25\n",
      "Hello Menna, your age is 12\n"
     ]
    }
   ],
   "source": [
    "# Default Argument \n",
    "''' Function Definition with default argument'''\n",
    "def fun2(name,age=25):\n",
    "    print(f\"Hello {name}, your age is {age}\")\n",
    "    \n",
    "'''Calling the function'''    \n",
    "fun2(\"Menna\")\n",
    "\n",
    "# giving a value for the age that is not default\n",
    "fun2(\"Menna\",12)"
   ]
  },
  {
   "cell_type": "code",
   "execution_count": null,
   "metadata": {},
   "outputs": [
    {
     "name": "stdout",
     "output_type": "stream",
     "text": [
      "('Menna', 'Abozaid', 0, 1, 2, 3, 4, 5, True, False)\n",
      "<class 'tuple'>\n"
     ]
    }
   ],
   "source": [
    "# Varadic Argument Function:(بترجعلي قيمة تبيل اعرف اتحكم فيها وازود داتا )\n",
    "''' Function Definition with default argument'''\n",
    "def fun1 (*x):\n",
    "    print(x)\n",
    "    print(type(x))\n",
    "\n",
    "'''Calling the function'''    \n",
    "fun1(\"Menna\",\"Abozaid\",0,1,2,3,4,5,True,False)"
   ]
  },
  {
   "cell_type": "code",
   "execution_count": 36,
   "metadata": {},
   "outputs": [
    {
     "name": "stdout",
     "output_type": "stream",
     "text": [
      "{'key1': 10, 'key2': 20, 'key3': 30, 'key4': 40, 'key5': 50}\n",
      "<class 'dict'>\n"
     ]
    }
   ],
   "source": [
    "# Kwargs Argument Function: (نجمتين قبل المتغير وبتحول الداتا لديكشنري\n",
    "''' Function Definition with default argument'''\n",
    "def fun2(**x):\n",
    "    print(x)\n",
    "    print(type(x))\n",
    "\n",
    "'''Calling the function''' \n",
    "fun2(key1=10,key2=20,key3=30,key4=40,key5=50)"
   ]
  },
  {
   "cell_type": "code",
   "execution_count": 3,
   "metadata": {},
   "outputs": [
    {
     "name": "stdout",
     "output_type": "stream",
     "text": [
      "The result is:  25\n"
     ]
    }
   ],
   "source": [
    "# Lambda Function (Anonymous Function)\n",
    "z = lambda x: x + 10\n",
    "print(\"The result is: \",z(15))\n"
   ]
  },
  {
   "cell_type": "code",
   "execution_count": 5,
   "metadata": {},
   "outputs": [
    {
     "name": "stdout",
     "output_type": "stream",
     "text": [
      "The result is:  35\n"
     ]
    }
   ],
   "source": [
    "z = lambda x, y: x+y\n",
    "print(\"The result is: \",z(15,20))\n"
   ]
  },
  {
   "cell_type": "code",
   "execution_count": null,
   "metadata": {},
   "outputs": [
    {
     "name": "stdout",
     "output_type": "stream",
     "text": [
      "22\n"
     ]
    }
   ],
   "source": [
    "def fun1(n):\n",
    "    return lambda a: a*n\n",
    "fun2=fun1(2)\n",
    "print(fun2(11))\n",
    "#n=2  , a=11"
   ]
  },
  {
   "cell_type": "code",
   "execution_count": 7,
   "metadata": {},
   "outputs": [
    {
     "name": "stdout",
     "output_type": "stream",
     "text": [
      "1\n",
      "2\n",
      "3\n",
      "4\n",
      "5\n",
      "6\n",
      "7\n",
      "8\n",
      "9\n",
      "10\n"
     ]
    }
   ],
   "source": [
    "list1=[1,2,3,4,5,6,7,8,9,10]\n",
    "for i in list1:\n",
    "    print (i)"
   ]
  },
  {
   "cell_type": "code",
   "execution_count": 15,
   "metadata": {},
   "outputs": [
    {
     "name": "stdout",
     "output_type": "stream",
     "text": [
      "The number is odd:  1\n",
      "The number is even:  2\n",
      "The number is odd:  3\n",
      "The number is even:  4\n",
      "The number is odd:  5\n",
      "The number is even:  6\n",
      "The number is odd:  7\n",
      "The number is even:  8\n",
      "The number is odd:  9\n",
      "The number is even:  10\n"
     ]
    }
   ],
   "source": [
    "def Numbers():\n",
    "    for i in list1:\n",
    "        if i%2==0:\n",
    "            print(\"The number is even: \",i)\n",
    "        else:\n",
    "            print(\"The number is odd: \",i)\n",
    "list1=[1,2,3,4,5,6,7,8,9,10]\n",
    "Numbers()"
   ]
  },
  {
   "cell_type": "code",
   "execution_count": 10,
   "metadata": {},
   "outputs": [
    {
     "name": "stdout",
     "output_type": "stream",
     "text": [
      "The number is odd:  1\n",
      "The number is odd:  3\n",
      "The number is odd:  5\n",
      "The number is odd:  7\n",
      "The number is odd:  9\n"
     ]
    }
   ],
   "source": [
    "for i in list1:\n",
    "    if i%2!=0:\n",
    "        print(\"The number is odd: \",i)"
   ]
  },
  {
   "cell_type": "code",
   "execution_count": 32,
   "metadata": {},
   "outputs": [
    {
     "name": "stdout",
     "output_type": "stream",
     "text": [
      "The number is odd:  1.0\n",
      "The number is even:  2.0\n",
      "The number is odd:  3.0\n",
      "The number is even:  4.0\n",
      "The number is odd:  5.0\n",
      "The number is even:  100.0\n"
     ]
    },
    {
     "data": {
      "text/plain": [
       "[1.0, 2.0, 3.0, 4.0, 5.0, 100.0]"
      ]
     },
     "execution_count": 32,
     "metadata": {},
     "output_type": "execute_result"
    }
   ],
   "source": [
    "def Numbers(list1):\n",
    "    for i in list1:\n",
    "        if isinstance(i, (int, float)) and i % 2 == 0:\n",
    "            print(\"The number is even: \", i)\n",
    "        elif isinstance(i, (int, float)):\n",
    "            print(\"The number is odd: \", i)\n",
    "        else:\n",
    "            print(f\"Invalid entry in list: {i}\")\n",
    "    return list1\n",
    "x = float(input(\"Enter a number to be checked: \"))\n",
    "list1 = [float(num) for num in input(\"Enter a list of numbers separated by spaces: \").strip('[]').replace(',', ' ').split()]\n",
    "list1.append(x)\n",
    "Numbers(list1)"
   ]
  },
  {
   "cell_type": "markdown",
   "metadata": {},
   "source": [
    "tuples_list = "
   ]
  },
  {
   "cell_type": "code",
   "execution_count": 1,
   "metadata": {},
   "outputs": [
    {
     "name": "stdout",
     "output_type": "stream",
     "text": [
      "(1, 2)\n",
      "(3, 4)\n",
      "(5, 6)\n",
      "1\n",
      "3\n",
      "5\n"
     ]
    }
   ],
   "source": [
    "tuples_list = [(1, 2), (3, 4), (5, 6)]\n",
    "for i in tuples_list:\n",
    "    print(i)\n",
    "for (t1,t2) in tuples_list:\n",
    "    print (t1)"
   ]
  },
  {
   "cell_type": "code",
   "execution_count": 2,
   "metadata": {},
   "outputs": [
    {
     "name": "stdout",
     "output_type": "stream",
     "text": [
      "1\n",
      "2\n",
      "3\n",
      "4\n",
      "5\n",
      "6\n",
      "7\n",
      "8\n",
      "9\n"
     ]
    }
   ],
   "source": [
    "list_1= [[1,2,3],[4,5,6],[7,8,9]]\n",
    "for i in list_1:\n",
    "    for j in i:\n",
    "        print(j)"
   ]
  },
  {
   "cell_type": "code",
   "execution_count": 47,
   "metadata": {},
   "outputs": [
    {
     "name": "stdout",
     "output_type": "stream",
     "text": [
      "[1, 2, 3]\n",
      "[4, 5, 6]\n",
      "[7, 8, 9]\n",
      "First Column: [1, 4, 7]\n"
     ]
    }
   ],
   "source": [
    "list_1= [[1,2,3],[4,5,6],[7,8,9]]\n",
    "for i in list_1:\n",
    "    print(i)\n",
    "    \n",
    "#list comprehension\n",
    "first_col=[num[0] for num in list_1 ] \n",
    "print(\"First Column:\",first_col)\n"
   ]
  },
  {
   "cell_type": "code",
   "execution_count": 53,
   "metadata": {},
   "outputs": [
    {
     "name": "stdout",
     "output_type": "stream",
     "text": [
      "Second Column: [2, 5, 8]\n",
      "Third Column: [5, 8]\n"
     ]
    }
   ],
   "source": [
    "second_col=[num[1] for num in list_1] \n",
    "print(\"Second Column:\",second_col)\n",
    "\n",
    "\n",
    "Third_col=[num[1] for num in list_1 if num[1]>4]\n",
    "print(\"Third Column:\",Third_col)"
   ]
  },
  {
   "cell_type": "code",
   "execution_count": null,
   "metadata": {},
   "outputs": [
    {
     "data": {
      "text/plain": [
       "15"
      ]
     },
     "execution_count": 54,
     "metadata": {},
     "output_type": "execute_result"
    }
   ],
   "source": [
    "#Recursion: Loop inner function and it stopped when the condition is met//\n",
    "def fun(x):\n",
    "    if x<=1:\n",
    "        return x\n",
    "    return x+fun(x-1)\n",
    "\n",
    "fun(5)\n",
    "# fun(5) = 5 +(4+(3+(2+(1+0))) = 15"
   ]
  },
  {
   "cell_type": "code",
   "execution_count": 55,
   "metadata": {},
   "outputs": [
    {
     "name": "stdout",
     "output_type": "stream",
     "text": [
      "inside: Local\n",
      "outside: Global\n"
     ]
    }
   ],
   "source": [
    "#The difference between \"Local\" and \"Global\" variables//\n",
    "\n",
    "x = \"Global\"\n",
    "def fun1():\n",
    "    x = \"Local\"\n",
    "    print(\"inside:\", x)\n",
    "\n",
    "fun1()\n",
    "#Output: inside: Local\n",
    "\n",
    "print(\"outside:\", x)\n",
    "#Output: outside: Global"
   ]
  },
  {
   "cell_type": "code",
   "execution_count": null,
   "metadata": {},
   "outputs": [
    {
     "name": "stdout",
     "output_type": "stream",
     "text": [
      "inside: Local\n",
      "outside: Local\n"
     ]
    }
   ],
   "source": [
    "x = \"Global\"\n",
    "def fun1():\n",
    "    global x #unique keyword to get x>> global, once the variable became global it will be used in the function and outside the function and cannot be changed//\n",
    "    x = \"Local\"\n",
    "    print(\"inside:\", x)\n",
    "\n",
    "fun1()\n",
    "#Output: inside: Local\n",
    "print(\"outside:\", x)\n",
    "#Output: outside: Local"
   ]
  },
  {
   "cell_type": "code",
   "execution_count": 61,
   "metadata": {},
   "outputs": [
    {
     "name": "stdout",
     "output_type": "stream",
     "text": [
      "Error: Division by zero is not allowed.\n",
      "Done\n"
     ]
    }
   ],
   "source": [
    "'''Try-Except statement: (to handle errors and exceptions)//'''\n",
    "try:\n",
    "    x = int(input(\"Enter a number: \"))\n",
    "    y = 10 / x\n",
    "    print(\"Result:\", y)\n",
    "except ZeroDivisionError:\n",
    "    print(\"Error: Division by zero is not allowed.\")\n",
    "finally:\n",
    "    print(\"Done\")\n",
    "    \n"
   ]
  },
  {
   "cell_type": "code",
   "execution_count": 4,
   "metadata": {},
   "outputs": [
    {
     "name": "stdout",
     "output_type": "stream",
     "text": [
      "The degree is:  0.0983916659685089\n"
     ]
    }
   ],
   "source": [
    "#Modules:\n",
    "#(importing libraries and modules)//\n",
    "import random#(importing the random module)//\n",
    "n= random.random()#(generating a random number between 0 and 1)//\n",
    "def degree(n):\n",
    "    print(\"The degree is: \",n)\n",
    "    \n",
    "degree(n)"
   ]
  },
  {
   "cell_type": "code",
   "execution_count": 5,
   "metadata": {},
   "outputs": [
    {
     "name": "stdout",
     "output_type": "stream",
     "text": [
      "The degree is:  69\n"
     ]
    }
   ],
   "source": [
    "n= random.randint(1,100)#(generating a random number between 1 and 100)//\n",
    "degree(n)"
   ]
  },
  {
   "cell_type": "code",
   "execution_count": 7,
   "metadata": {},
   "outputs": [
    {
     "data": {
      "text/plain": [
       "8"
      ]
     },
     "execution_count": 7,
     "metadata": {},
     "output_type": "execute_result"
    }
   ],
   "source": [
    "random.choice([1,2,3,\"Menna\",\"Ahmed\",4,5,6,7,8,9,10])#(choosing a random number from the list)//"
   ]
  },
  {
   "cell_type": "code",
   "execution_count": null,
   "metadata": {},
   "outputs": [],
   "source": [
    "import math#(importing the math module)//"
   ]
  },
  {
   "cell_type": "code",
   "execution_count": 14,
   "metadata": {},
   "outputs": [],
   "source": [
    "'''OOP: '''\n",
    "class STUDENT: #prefered to be capital letters>\n",
    "    name = \"Menna\"\n",
    "    age = 26\n",
    "    \n",
    "    \n",
    "    def info(self):\n",
    "        print(f\"my name is {name} and my age is {age}\")"
   ]
  },
  {
   "cell_type": "code",
   "execution_count": 16,
   "metadata": {},
   "outputs": [
    {
     "name": "stdout",
     "output_type": "stream",
     "text": [
      "26 Menna\n",
      "30 Ahmed\n"
     ]
    }
   ],
   "source": [
    "s1= STUDENT() #>> copy from class\n",
    "print(s1.age,s1.name) #>> access the class original attributes\n",
    "\n",
    "s2= STUDENT() #>> copy from class\n",
    "s1.name = \"Ahmed\" #>> change the class attributes\n",
    "s1.age = 30 #>> change the class attributes\n",
    "print(s1.age,s1.name) #>> access the class attributes"
   ]
  },
  {
   "cell_type": "code",
   "execution_count": 6,
   "metadata": {},
   "outputs": [
    {
     "name": "stdout",
     "output_type": "stream",
     "text": [
      "Ahmed\n"
     ]
    }
   ],
   "source": [
    "print(s1.name)"
   ]
  },
  {
   "cell_type": "code",
   "execution_count": 19,
   "metadata": {},
   "outputs": [
    {
     "ename": "NameError",
     "evalue": "name 'name' is not defined",
     "output_type": "error",
     "traceback": [
      "\u001b[31m---------------------------------------------------------------------------\u001b[39m",
      "\u001b[31mNameError\u001b[39m                                 Traceback (most recent call last)",
      "\u001b[36mCell\u001b[39m\u001b[36m \u001b[39m\u001b[32mIn[19]\u001b[39m\u001b[32m, line 1\u001b[39m\n\u001b[32m----> \u001b[39m\u001b[32m1\u001b[39m \u001b[43ms1\u001b[49m\u001b[43m.\u001b[49m\u001b[43minfo\u001b[49m\u001b[43m(\u001b[49m\u001b[43m)\u001b[49m\n",
      "\u001b[36mCell\u001b[39m\u001b[36m \u001b[39m\u001b[32mIn[14]\u001b[39m\u001b[32m, line 8\u001b[39m, in \u001b[36mSTUDENT.info\u001b[39m\u001b[34m(self)\u001b[39m\n\u001b[32m      7\u001b[39m \u001b[38;5;28;01mdef\u001b[39;00m\u001b[38;5;250m \u001b[39m\u001b[34minfo\u001b[39m(\u001b[38;5;28mself\u001b[39m):\n\u001b[32m----> \u001b[39m\u001b[32m8\u001b[39m     \u001b[38;5;28mprint\u001b[39m(\u001b[33mf\u001b[39m\u001b[33m\"\u001b[39m\u001b[33mmy name is \u001b[39m\u001b[38;5;132;01m{\u001b[39;00m\u001b[43mname\u001b[49m\u001b[38;5;132;01m}\u001b[39;00m\u001b[33m and my age is \u001b[39m\u001b[38;5;132;01m{\u001b[39;00mage\u001b[38;5;132;01m}\u001b[39;00m\u001b[33m\"\u001b[39m)\n",
      "\u001b[31mNameError\u001b[39m: name 'name' is not defined"
     ]
    }
   ],
   "source": [
    "s1.info()"
   ]
  },
  {
   "cell_type": "code",
   "execution_count": 20,
   "metadata": {},
   "outputs": [
    {
     "name": "stdout",
     "output_type": "stream",
     "text": [
      "26 Menna\n",
      "My name is Menna and my age is 26\n"
     ]
    }
   ],
   "source": [
    "'''To Correct this error in calling the method of the class,\n",
    "you should use 'self' to refer to the instance of the class.'''\n",
    "class STUDENT:  # Class name should be Capitalized (PascalCase), not all caps\n",
    "    name = \"Menna\"\n",
    "    age = 26\n",
    "\n",
    "    # It's best to use 'self' instead of 'Abozaid' for readability\n",
    "    def info(self):\n",
    "        # Access class attributes through self\n",
    "        print(f\"My name is {self.name} and my age is {self.age}\")\n",
    "\n",
    "# Create an object (instance) of the STUDENT class\n",
    "s1 = STUDENT()\n",
    "\n",
    "# Access the class attributes through the object\n",
    "print(s1.age, s1.name)\n",
    "\n",
    "# Call the method that prints the information\n",
    "s1.info()"
   ]
  },
  {
   "cell_type": "code",
   "execution_count": null,
   "metadata": {},
   "outputs": [
    {
     "name": "stdout",
     "output_type": "stream",
     "text": [
      "<__main__.Test object at 0x0000017BAC664EC0>\n",
      "<__main__.Test object at 0x0000017BAC664EC0>\n"
     ]
    }
   ],
   "source": [
    "'''Proving that self variable is a reference to the instance of the class.'''\n",
    "class Test():\n",
    "    def info(self):\n",
    "        print(self)\n",
    "x = Test()\n",
    "print(x)\n",
    "x.info()\n",
    "# address memory of the object(self object)"
   ]
  }
 ],
 "metadata": {
  "kernelspec": {
   "display_name": "Python 3",
   "language": "python",
   "name": "python3"
  },
  "language_info": {
   "codemirror_mode": {
    "name": "ipython",
    "version": 3
   },
   "file_extension": ".py",
   "mimetype": "text/x-python",
   "name": "python",
   "nbconvert_exporter": "python",
   "pygments_lexer": "ipython3",
   "version": "3.13.1"
  }
 },
 "nbformat": 4,
 "nbformat_minor": 2
}
