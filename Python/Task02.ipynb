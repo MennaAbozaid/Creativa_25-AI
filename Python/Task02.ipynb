{
 "cells": [
  {
   "cell_type": "code",
   "execution_count": 5,
   "metadata": {},
   "outputs": [
    {
     "name": "stdout",
     "output_type": "stream",
     "text": [
      "The new tuple is:  (1, 2, 3, 4, 5, 5)\n"
     ]
    }
   ],
   "source": [
    "'''(1) A python program to add an item to a tuple:'''\n",
    "tuple1 = (1, 2, 3, 4, 5)\n",
    "i= int(input(\"Enter the number you want to add to the tuple: \"))\n",
    "tuple1 = tuple1 + (i,)\n",
    "print(\"The new tuple is: \", tuple1)"
   ]
  },
  {
   "cell_type": "code",
   "execution_count": 6,
   "metadata": {},
   "outputs": [
    {
     "name": "stdout",
     "output_type": "stream",
     "text": [
      "The sum of all items in the list is:  15\n"
     ]
    }
   ],
   "source": [
    "'''(2) A python program to sum all items in the list:'''\n",
    "list1 = [1, 2, 3, 4, 5]\n",
    "sum1 = sum(list1)\n",
    "print(\"The sum of all items in the list is: \", sum1)"
   ]
  },
  {
   "cell_type": "code",
   "execution_count": 7,
   "metadata": {},
   "outputs": [
    {
     "name": "stdout",
     "output_type": "stream",
     "text": [
      "The product of all items in the list is:  60\n"
     ]
    }
   ],
   "source": [
    "'''(3) A python program to multiply all items in the list:'''\n",
    "list2= [1, 2, 5, 6]\n",
    "product1 = 1\n",
    "for i in list2:\n",
    "    product1 *= i     \n",
    "print(\"The product of all items in the list is: \", product1)"
   ]
  },
  {
   "cell_type": "code",
   "execution_count": 8,
   "metadata": {},
   "outputs": [
    {
     "name": "stdout",
     "output_type": "stream",
     "text": [
      "The smallest number in the list is:  2\n"
     ]
    }
   ],
   "source": [
    "'''(4) A python program to get the smallest number in the list:'''\n",
    "list3 = [10, 2, 60, 45, 52]\n",
    "smallest = min(list3)\n",
    "print(\"The smallest number in the list is: \", smallest)\n"
   ]
  },
  {
   "cell_type": "code",
   "execution_count": 9,
   "metadata": {},
   "outputs": [
    {
     "name": "stdout",
     "output_type": "stream",
     "text": [
      "The largest number in the list is:  60\n"
     ]
    }
   ],
   "source": [
    "'''(5) A python program to get the largest number in the list:'''\n",
    "list3= [10, 2, 60, 45, 52]\n",
    "largest = max(list3)\n",
    "print(\"The largest number in the list is: \", largest)\n"
   ]
  },
  {
   "cell_type": "code",
   "execution_count": 10,
   "metadata": {},
   "outputs": [
    {
     "name": "stdout",
     "output_type": "stream",
     "text": [
      "The number of strings from the given list of strings is:  3\n",
      "The number of letters found in the list is:  9\n"
     ]
    }
   ],
   "source": [
    "'''(6) A python program to count the number of strings from a given list of strings:'''\n",
    "\n",
    "list4= ['abc', 'xyz', 'aba', 1221]\n",
    "count = 0\n",
    "for i in list4:\n",
    "    if isinstance(i, str):\n",
    "        count += 1  \n",
    "print(\"The number of strings from the given list of strings is: \", count)\n",
    "\n",
    "#a python program to count the number of letters found in a list:\n",
    "sum=0\n",
    "for i in list4:\n",
    "    if isinstance(i,str):\n",
    "        sum+= len(i)\n",
    "print(\"The number of letters found in the list is: \", sum)"
   ]
  },
  {
   "cell_type": "code",
   "execution_count": 11,
   "metadata": {},
   "outputs": [
    {
     "name": "stdout",
     "output_type": "stream",
     "text": [
      "The cloned list is:  [1, 2, 3, 4, 5]\n",
      "The final list after cloned is: [1, 2, 3, 4, 5, 1, 2, 3, 4, 5]\n"
     ]
    }
   ],
   "source": [
    "'''(7) A python program to clone or copy a list:'''\n",
    "list1= [1, 2, 3, 4, 5]\n",
    "list1_clone = list1.copy()\n",
    "last_list =  list1 + list1_clone\n",
    "print (\"The cloned list is: \",list1_clone)\n",
    "print (\"The final list after cloned is:\",last_list)"
   ]
  },
  {
   "cell_type": "code",
   "execution_count": 12,
   "metadata": {},
   "outputs": [
    {
     "name": "stdout",
     "output_type": "stream",
     "text": [
      "The set after removing the item is:  {1, 3, 4, 5}\n"
     ]
    }
   ],
   "source": [
    "'''(8) A python program to remove item(s) from a given set:'''\n",
    "set1= {1, 2, 3, 4, 5}\n",
    "set1.remove(2)\n",
    "print (\"The set after removing the item is: \", set1)"
   ]
  },
  {
   "cell_type": "code",
   "execution_count": 13,
   "metadata": {},
   "outputs": [
    {
     "name": "stdout",
     "output_type": "stream",
     "text": [
      "Is set2 is a subset of set1?: True\n",
      "Is set1 is a subset of set2?: False\n"
     ]
    }
   ],
   "source": [
    "'''(9) A python program to check if a set is a subset of another set:'''\n",
    "set1= {1,2,3,4,5,6,7}\n",
    "set2= {1,2,6,7}\n",
    "check1 = set2.issubset(set1)\n",
    "check2 = set1.issubset(set2)\n",
    "print(\"Is set2 is a subset of set1?:\", check1 )\n",
    "print(\"Is set1 is a subset of set2?:\", check2 )\n",
    "\n"
   ]
  },
  {
   "cell_type": "code",
   "execution_count": 14,
   "metadata": {},
   "outputs": [
    {
     "name": "stdout",
     "output_type": "stream",
     "text": [
      "The original set is: {1, 2, 3, 4, 5, 6, 7}\n",
      "The set after removing all the elements is:  set()\n"
     ]
    }
   ],
   "source": [
    "'''(10) A python program to remove all the elements from a given set:'''\n",
    "set1={1,2,3,4,5,6,7}\n",
    "print(\"The original set is:\", set1)\n",
    "set1.clear()\n",
    "print (\"The set after removing all the elements is: \", set1)"
   ]
  },
  {
   "cell_type": "code",
   "execution_count": 15,
   "metadata": {},
   "outputs": [
    {
     "name": "stdout",
     "output_type": "stream",
     "text": [
      "The maximum value found in the set is: 5\n",
      "The minimum value found in the set is: 1\n"
     ]
    }
   ],
   "source": [
    "'''(11) A python program to find the max and min values in a set:'''\n",
    "set1 = {1, 2, 3, 4, 5}\n",
    "max_value = max(set1)\n",
    "min_value = min(set1)\n",
    "print(\"The maximum value found in the set is:\", max_value)\n",
    "print(\"The minimum value found in the set is:\", min_value)"
   ]
  },
  {
   "cell_type": "code",
   "execution_count": 16,
   "metadata": {},
   "outputs": [
    {
     "name": "stdout",
     "output_type": "stream",
     "text": [
      "The index of the item is:  5\n"
     ]
    }
   ],
   "source": [
    "'''(12) A python program to find the index of an item in a tuple:'''\n",
    "tuple1 = (1, 2, 3, 4, 5, 6, 7, 8, 9, 10)\n",
    "i = float(input(\"Enter the number you want to find the index of: \"))\n",
    "if i in tuple1:\n",
    "    index = tuple1.index(i)\n",
    "    print(\"The index of the item is: \", index)\n",
    "else:\n",
    "    print(\"The item is not found in the tuple.\")\n"
   ]
  },
  {
   "cell_type": "code",
   "execution_count": 18,
   "metadata": {},
   "outputs": [
    {
     "name": "stdout",
     "output_type": "stream",
     "text": [
      "The converted dictionary is:  {1: 1, 2: 2, 3: 3, 4: 4, 5: 5}\n"
     ]
    }
   ],
   "source": [
    "'''(13) A python program to convert a tuple to dictionary:'''\n",
    "tuple1 = (1, 2, 3, 4, 5)\n",
    "dict1 = {i: i**1 for i in tuple1}\n",
    "print(\"The converted dictionary is: \", dict1)"
   ]
  },
  {
   "cell_type": "code",
   "execution_count": 4,
   "metadata": {},
   "outputs": [
    {
     "name": "stdout",
     "output_type": "stream",
     "text": [
      "The reversed tuple is:  (5, 4, 3, 2, 1)\n"
     ]
    }
   ],
   "source": [
    "'''(15) A python program to reverse a tuple:'''\n",
    "tuple1= (1, 2, 3, 4, 5)\n",
    "reversed_tuple = tuple1[::-1]\n",
    "print(\"The reversed tuple is: \", reversed_tuple)"
   ]
  },
  {
   "cell_type": "code",
   "execution_count": 5,
   "metadata": {},
   "outputs": [
    {
     "name": "stdout",
     "output_type": "stream",
     "text": [
      "The converted dictionary is:  {1: 2, 3: 4, 5: 6}\n"
     ]
    }
   ],
   "source": [
    "'''(16) A python program to convert a list of tuples into a dictionary:'''\n",
    "tuples_list = [(1, 2), (3, 4), (5, 6)]\n",
    "dict1 = dict(tuples_list)\n",
    "print(\"The converted dictionary is: \", dict1)"
   ]
  },
  {
   "cell_type": "code",
   "execution_count": null,
   "metadata": {},
   "outputs": [
    {
     "name": "stdout",
     "output_type": "stream",
     "text": [
      "The modified list of tuples is:  [(10, 20, 100), (34, 45, 100), (59, 62, 100)]\n"
     ]
    }
   ],
   "source": [
    "'''(17) A python program to replace the last value of tuples in a list:'''\n",
    "tuples_list = [(10, 20, 30), (34, 45, 67), (59, 62, 88)]\n",
    "modified_list = [t[:-1] + (100,) for t in tuples_list]\n",
    "print(\"The modified list of tuples is: \", modified_list)\n"
   ]
  },
  {
   "cell_type": "code",
   "execution_count": null,
   "metadata": {},
   "outputs": [
    {
     "name": "stdout",
     "output_type": "stream",
     "text": [
      "The sorted tuple is:  ((2, 1.5), (3, 2.8), (1, 3.2))\n"
     ]
    }
   ],
   "source": [
    "'''(18) A python program to sort a tuple by its float element:'''\n",
    "# Step 1: Define a tuple that contains inner tuples\n",
    "my_tuple = ((1, 3.2), (2, 1.5), (3, 2.8))\n",
    "\n",
    "# Step 2: Define a normal function to extract the float (second element) from a tuple\n",
    "def get_second_element(inner_tuple):\n",
    "    return inner_tuple[1]\n",
    "\n",
    "# Step 3: Use the sorted() function to sort based on the second element of each inner tuple\n",
    "# Pass our function 'get_second_element' to the 'key' parameter\n",
    "sorted_list = sorted(my_tuple, key=get_second_element)\n",
    "\n",
    "# Step 4: Convert the sorted list back into a tuple\n",
    "sorted_tuple = tuple(sorted_list)\n",
    "\n",
    "# Step 5: Print the final sorted tuple\n",
    "print(\"The sorted tuple is:\", sorted_tuple)\n"
   ]
  },
  {
   "cell_type": "code",
   "execution_count": 7,
   "id": "f756b44d",
   "metadata": {},
   "outputs": [
    {
     "name": "stdout",
     "output_type": "stream",
     "text": [
      "The first list is:  [1, 3, 5]\n",
      "The second list is:  [2, 4, 6]\n"
     ]
    }
   ],
   "source": [
    "'''(14) A python program to unzip a list of tuples into individual lists:'''\n",
    "#هو بيجمع اول عنصر مع اول عنصر جوا الماتركس\n",
    "tuples_list = [(1, 2), (3, 4), (5, 6)]\n",
    "unzipped_list1, unzipped_list2 = zip(*tuples_list)\n",
    "# Convert to lists\n",
    "unzipped_list1, unzipped_list2 = list(unzipped_list1), list(unzipped_list2)\n",
    "print(\"The first list is: \", unzipped_list1) \n",
    "print(\"The second list is: \", unzipped_list2)"
   ]
  },
  {
   "cell_type": "code",
   "execution_count": 10,
   "id": "2e5222be",
   "metadata": {},
   "outputs": [
    {
     "name": "stdout",
     "output_type": "stream",
     "text": [
      "The modified list of tuples is: [(10, 20, 30), (34, 45, 67), (59, 62, 100)]\n"
     ]
    }
   ],
   "source": [
    "'''(19) A python program to replace the last value of the last tuple in a list:'''\n",
    "# Step 1: Define a list of tuples\n",
    "tuples_list = [(10, 20, 30), (34, 45, 67), (59, 62, 88)]\n",
    "\n",
    "# Step 2: Create an empty list to store the modified tuples\n",
    "modified_list = []\n",
    "\n",
    "# Step 3: Loop through the list of tuples using their index and value\n",
    "for i, t in enumerate(tuples_list):\n",
    "    \n",
    "    # Step 4: Check if the current tuple is the last one in the list\n",
    "    if i == len(tuples_list) - 1:\n",
    "        # Replace the last element of the last tuple with 100\n",
    "        # t[:-1] gets all elements except the last\n",
    "        # (100,) creates a one-element tuple\n",
    "        new_tuple = t[:-1] + (100,)\n",
    "        modified_list.append(new_tuple)\n",
    "    else:\n",
    "        # For all other tuples, keep them as they are\n",
    "        modified_list.append(t)\n",
    "\n",
    "# Step 5: Print the modified list of tuples\n",
    "print(\"The modified list of tuples is:\", modified_list)\n"
   ]
  }
 ],
 "metadata": {
  "kernelspec": {
   "display_name": "Python 3",
   "language": "python",
   "name": "python3"
  },
  "language_info": {
   "codemirror_mode": {
    "name": "ipython",
    "version": 3
   },
   "file_extension": ".py",
   "mimetype": "text/x-python",
   "name": "python",
   "nbconvert_exporter": "python",
   "pygments_lexer": "ipython3",
   "version": "3.13.1"
  }
 },
 "nbformat": 4,
 "nbformat_minor": 5
}
