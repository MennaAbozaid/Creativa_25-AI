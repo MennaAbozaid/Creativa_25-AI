{
 "cells": [
  {
   "cell_type": "code",
   "execution_count": 3,
   "id": "9a6ab880",
   "metadata": {},
   "outputs": [
    {
     "name": "stdout",
     "output_type": "stream",
     "text": [
      "Select your operation:\n",
      "1.Add\n",
      "2.Subtract\n",
      "3.Multiply\n",
      "4.Divide\n",
      "55 * 22 = 1210\n"
     ]
    }
   ],
   "source": [
    "'''Simple Calculator program in Python:'''\n",
    "# This program performs basic arithmetic operations: addition, subtraction, multiplication, and division.\n",
    "\n",
    "def add(x,y):\n",
    "    return x + y\n",
    "def subtract(x,y):\n",
    "    return x - y\n",
    "def multiply(x,y):\n",
    "    return x * y\n",
    "def divide(x,y):\n",
    "    if y == 0:\n",
    "        return \"Error! Division by zero.\"\n",
    "    else:\n",
    "        return x / y\n",
    "print(\"Select your operation:\")\n",
    "print(\"1.Add\")\n",
    "print(\"2.Subtract\")\n",
    "print(\"3.Multiply\")\n",
    "print(\"4.Divide\")\n",
    "choice = input(\"Enter choice:(1)\\n(2)\\n(3)\\n(4): \")\n",
    "num1 = int(input(\"Enter first number: \"))\n",
    "num2 = int(input(\"Enter second number: \"))\n",
    "if choice == '1':\n",
    "    print(num1,\"+\",num2,\"=\", add(num1,num2))\n",
    "elif choice == '2':\n",
    "    print(num1,\"-\",num2,\"=\", subtract(num1,num2))\n",
    "elif choice == '3':\n",
    "    print(num1,\"*\",num2,\"=\", multiply(num1,num2))\n",
    "elif choice == '4':\n",
    "    print(num1,\"/\",num2,\"=\", divide(num1,num2))\n",
    "else:\n",
    "    print(\"Invalid input\")\n"
   ]
  }
 ],
 "metadata": {
  "kernelspec": {
   "display_name": "Python 3",
   "language": "python",
   "name": "python3"
  },
  "language_info": {
   "codemirror_mode": {
    "name": "ipython",
    "version": 3
   },
   "file_extension": ".py",
   "mimetype": "text/x-python",
   "name": "python",
   "nbconvert_exporter": "python",
   "pygments_lexer": "ipython3",
   "version": "3.13.1"
  }
 },
 "nbformat": 4,
 "nbformat_minor": 5
}
