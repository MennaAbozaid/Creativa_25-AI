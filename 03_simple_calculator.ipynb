{
 "cells": [
  {
   "cell_type": "markdown",
   "metadata": {},
   "source": [
    "# Name: Menna AboZaid"
   ]
  },
  {
   "cell_type": "markdown",
   "metadata": {},
   "source": [
    "# Simple Calculator"
   ]
  },
  {
   "cell_type": "code",
   "execution_count": null,
   "metadata": {},
   "outputs": [],
   "source": [
    "# This is a simple calculator that can add, subtract, multiply, or divide two numbers.\n",
    "def calculator():\n",
    "    while True:\n",
    "        print(\"Calculator Options:\")\n",
    "        print(\"1. Add\")\n",
    "        print(\"2. Subtract\")\n",
    "        print(\"3. Multiply\")\n",
    "        print(\"4. Divide\")\n",
    "        print(\"5. Exit\")\n",
    "\n",
    "        choice = input(\"Choose operation (1-5): \")\n",
    "\n",
    "        if choice == '5':\n",
    "            print(\"Goodbye!\")\n",
    "            break\n",
    "\n",
    "        if choice not in ['1', '2', '3', '4']:\n",
    "            print(\"Wrong choice! Please select a valid option.\")\n",
    "            continue\n",
    "\n",
    "        num1_input = input(\"Enter first number: \")\n",
    "        num2_input = input(\"Enter second number: \")\n",
    "\n",
    "        if not (num1_input.isnumeric() and num2_input.isnumeric()):\n",
    "            print(\"Oops! That doesn't seem to be a valid number. Try again!\")\n",
    "            continue\n",
    "\n",
    "        num1 = float(num1_input)\n",
    "        num2 = float(num2_input)\n",
    "\n",
    "        if choice == '1':\n",
    "            print(f\"{num1} + {num2} = {num1 + num2}\")\n",
    "        elif choice == '2':\n",
    "            print(f\"{num1} - {num2} = {num1 - num2}\")\n",
    "        elif choice == '3':\n",
    "            print(f\"{num1} * {num2} = {num1 * num2}\")\n",
    "        elif choice == '4':\n",
    "            if num2 == 0:\n",
    "                print(\"Can't divide by zero!\")\n",
    "            else:\n",
    "                print(f\"{num1} / {num2} = {num1 / num2}\")\n",
    "\n",
    "        again = input(\"Another calculation? (yes/no): \")\n",
    "        if again.lower() != 'yes':\n",
    "            print(\"Thanks for using the calculator. Bye!\")\n",
    "            break\n",
    "\n",
    "calculator()"
   ]
  }
 ],
 "metadata": {
  "kernelspec": {
   "display_name": "Python 3",
   "language": "python",
   "name": "python3"
  },
  "language_info": {
   "name": "python",
   "version": "3.12.7"
  }
 },
 "nbformat": 4,
 "nbformat_minor": 2
}
