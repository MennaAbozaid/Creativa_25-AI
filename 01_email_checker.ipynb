{
 "cells": [
  {
   "cell_type": "markdown",
   "metadata": {},
   "source": [
    "# Name : Menna AboZaid"
   ]
  },
  {
   "cell_type": "code",
   "execution_count": null,
   "metadata": {},
   "outputs": [],
   "source": [
    "# Get email input from the user\n",
    "user_email = input(\"Enter your email: \")\n",
    "\n",
    "# Check if email contains \"@\" and \".\"\n",
    "if \"@\" in user_email and \".\" in user_email:\n",
    "    print(\"Valid email\")\n",
    "\n",
    "    # Splitting the email into username and domain\n",
    "    email_parts = user_email.split(\"@\")\n",
    "    user_name = email_parts[0]  \n",
    "\n",
    "    domain_parts = email_parts[1].split(\".\")\n",
    "    main_domain = domain_parts[\n",
    "    domain_extension = domain_parts[-1]  \n",
    "\n",
    "    # Printing extracted details\n",
    "    print(\"Username:\", user_name)\n",
    "    print(\"Main Domain:\", main_domain)\n",
    "\n",
    "    # Identify the type of domain\n",
    "    if domain_extension == \"com\":\n",
    "        domain_type = \"Commercial\"\n",
    "    elif domain_extension == \"edu\":\n",
    "        domain_type = \"Educational\"\n",
    "    else:\n",
    "        domain_type = \"Other\"\n",
    "\n",
    "    print(\"Domain Type:\", domain_type)\n",
    "else:\n",
    "    print(\"Invalid email\")\n"
   ]
  }
 ],
 "metadata": {
  "kernelspec": {
   "display_name": "Python 3",
   "language": "python",
   "name": "python3"
  },
  "language_info": {
   "name": "python",
   "version": "3.12.7"
  }
 },
 "nbformat": 4,
 "nbformat_minor": 2
}
