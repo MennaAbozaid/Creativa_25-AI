{
 "cells": [
  {
   "cell_type": "markdown",
   "metadata": {},
   "source": [
    "# Name: Menna AboZaid"
   ]
  },
  {
   "cell_type": "code",
   "execution_count": null,
   "metadata": {
    "vscode": {
     "languageId": "plaintext"
    }
   },
   "outputs": [],
   "source": [
    "import numpy"
   ]
  },
  {
   "cell_type": "code",
   "execution_count": null,
   "metadata": {
    "vscode": {
     "languageId": "plaintext"
    }
   },
   "outputs": [],
   "source": [
    "arr1 = numpy.array([1, 2, 3, 4])\n",
    "arr2 = numpy.array([5, 6, 7, 8])\n",
    "\n",
    "print(\"Array 1:\", arr1)\n",
    "print(\"Array 2:\", arr2)"
   ]
  },
  {
   "cell_type": "code",
   "execution_count": null,
   "metadata": {
    "vscode": {
     "languageId": "plaintext"
    }
   },
   "outputs": [],
   "source": [
    "arr_sum = arr1 + arr2\n",
    "print(\"Sum:\", arr_sum)\n",
    "\n",
    "arr_diff = arr1 - arr2\n",
    "print(\"Difference:\", arr_diff)\n",
    "\n",
    "arr_prod = arr1 * arr2\n",
    "print(\"Product:\", arr_prod)\n",
    "\n",
    "arr_div = arr1 / arr2\n",
    "print(\"Division:\", arr_div)"
   ]
  },
  {
   "cell_type": "code",
   "execution_count": null,
   "metadata": {
    "vscode": {
     "languageId": "plaintext"
    }
   },
   "outputs": [],
   "source": [
    "mat1 = numpy.array([[1, 2], [3, 4]])\n",
    "mat2 = numpy.array([[5, 6], [7, 8]])\n",
    "\n",
    "print(\"Matrix 1:\", mat1)\n",
    "print(\"Matrix 2:\", mat2)"
   ]
  },
  {
   "cell_type": "code",
   "execution_count": null,
   "metadata": {
    "vscode": {
     "languageId": "plaintext"
    }
   },
   "outputs": [],
   "source": [
    "mat_sum = mat1 + mat2\n",
    "print(\"Matrix Sum:\", mat_sum)\n",
    "\n",
    "mat_diff = mat1 - mat2\n",
    "print(\"Matrix Difference:\", mat_diff)\n",
    "\n",
    "mat_prod = mat1 * mat2\n",
    "print(\"Matrix Element-wise Product:\\n\", mat_prod)\n",
    "\n",
    "mat_dot = numpy.dot(mat1, mat2)\n",
    "print(\"Matrix Dot Product:\", mat_dot)"
   ]
  }
 ],
 "metadata": {
  "language_info": {
   "name": "python"
  }
 },
 "nbformat": 4,
 "nbformat_minor": 2
}
