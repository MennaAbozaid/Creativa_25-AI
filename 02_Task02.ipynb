{
 "cells": [
  {
   "cell_type": "markdown",
   "id": "21d83812",
   "metadata": {},
   "source": [
    "# Name : Menna AboZaid"
   ]
  },
  {
   "cell_type": "markdown",
   "id": "3148c43b",
   "metadata": {},
   "source": [
    "## 01. Add Item to Tuple"
   ]
  },
  {
   "cell_type": "code",
   "execution_count": null,
   "id": "a4379cfd",
   "metadata": {},
   "outputs": [],
   "source": [
    "# This program adds an item to a tuple by creating a new tuple (because tuples are immutable)\n",
    "\n",
    "# Define the original tuple\n",
    "my_tuple = (1, 2, 3)\n",
    "print(\"Original tuple:\", my_tuple)  # Print the original tuple\n",
    "\n",
    "# Define the new item to add\n",
    "new_item = 4\n",
    "\n",
    "# Create a new tuple by concatenating the original tuple with a new tuple containing the new item\n",
    "new_tuple = my_tuple + (new_item,)\n",
    "\n",
    "# Print the new tuple\n",
    "print(\"Tuple after adding item:\", new_tuple)"
   ]
  },
  {
   "cell_type": "markdown",
   "id": "ae6762d8",
   "metadata": {},
   "source": [
    "## 02. Sum List Items"
   ]
  },
  {
   "cell_type": "code",
   "execution_count": null,
   "id": "78eaf8cd",
   "metadata": {},
   "outputs": [],
   "source": [
    "# This program calculates the sum of all items in a list\n",
    "\n",
    "# Define the list of numbers\n",
    "numbers = [10, 20, 30, 40, 50]\n",
    "\n",
    "# Calculate the sum using sum() function\n",
    "total_sum = sum(numbers)\n",
    "\n",
    "# Print the sum of the list\n",
    "print(\"The sum of the list is:\", total_sum)"
   ]
  },
  {
   "cell_type": "markdown",
   "id": "6703b320",
   "metadata": {},
   "source": [
    "## 03. Multiply List Items"
   ]
  },
  {
   "cell_type": "code",
   "execution_count": null,
   "id": "86fdff5d",
   "metadata": {},
   "outputs": [],
   "source": [
    "# This program multiplies all items in a list\n",
    "\n",
    "# Define the list of numbers\n",
    "numbers = [1, 2, 3, 4, 5]\n",
    "\n",
    "# Calculate the product using a loop\n",
    "product = 1\n",
    "for number in numbers:\n",
    "    product *= number\n",
    "\n",
    "# Print the product of the list\n",
    "print(\"The product of the list is:\", product)"
   ]
  },
  {
   "cell_type": "markdown",
   "id": "a89ac2fd",
   "metadata": {},
   "source": [
    "## 04. Smallest Number in List"
   ]
  },
  {
   "cell_type": "code",
   "execution_count": null,
   "id": "88a17f0d",
   "metadata": {},
   "outputs": [],
   "source": [
    "# This program finds the smallest number in a list\n",
    "\n",
    "# Define the list of numbers\n",
    "numbers = [15, 22, 8, 19, 31]\n",
    "\n",
    "# Find the smallest number using min()\n",
    "smallest = min(numbers)\n",
    "\n",
    "# Print the smallest number\n",
    "print(\"The smallest number in the list is:\", smallest)"
   ]
  },
  {
   "cell_type": "markdown",
   "id": "265fe6f9",
   "metadata": {},
   "source": [
    "## 05. Largest Number in List"
   ]
  },
  {
   "cell_type": "code",
   "execution_count": null,
   "id": "ffded7ac",
   "metadata": {},
   "outputs": [],
   "source": [
    "# This program finds the largest number in a list\n",
    "\n",
    "# Define the list of numbers\n",
    "numbers = [15, 22, 8, 19, 31]\n",
    "\n",
    "# Find the largest number using max()\n",
    "largest = max(numbers)\n",
    "\n",
    "# Print the largest number\n",
    "print(\"The largest number in the list is:\", largest)"
   ]
  },
  {
   "cell_type": "markdown",
   "id": "293ab239",
   "metadata": {},
   "source": [
    "## 06. Count Strings in List"
   ]
  },
  {
   "cell_type": "code",
   "execution_count": null,
   "id": "f05261ca",
   "metadata": {},
   "outputs": [],
   "source": [
    "# This program counts the number of strings in a given list\n",
    "\n",
    "# Define a list with different types of elements\n",
    "items = [\"apple\", 10, \"banana\", 20, \"cherry\", 30]\n",
    "\n",
    "# Count strings using a list comprehension\n",
    "string_count = sum(1 for item in items if isinstance(item, str))\n",
    "\n",
    "# Print the number of strings in the list\n",
    "print(\"The number of strings in the list is:\", string_count)"
   ]
  },
  {
   "cell_type": "markdown",
   "id": "35ae79c6",
   "metadata": {},
   "source": [
    "## 07. Clone List"
   ]
  },
  {
   "cell_type": "code",
   "execution_count": null,
   "id": "f10af31b",
   "metadata": {},
   "outputs": [],
   "source": [
    "# This program clones (copies) a list\n",
    "\n",
    "# Define the original list\n",
    "original_list = [1, 2, 3, 4, 5]\n",
    "\n",
    "# Clone the list using slicing\n",
    "cloned_list = original_list[:]\n",
    "\n",
    "# Print both lists\n",
    "print(\"Original list:\", original_list)\n",
    "print(\"Cloned list:\", cloned_list)"
   ]
  },
  {
   "cell_type": "markdown",
   "id": "531eadc0",
   "metadata": {},
   "source": [
    "## 08. Remove Items from Set"
   ]
  },
  {
   "cell_type": "code",
   "execution_count": null,
   "id": "a1bc2c17",
   "metadata": {},
   "outputs": [],
   "source": [
    "# This program removes an item from a given set\n",
    "\n",
    "# Define the original set\n",
    "my_set = {1, 2, 3, 4, 5}\n",
    "print(\"Original set:\", my_set)\n",
    "\n",
    "# Remove a specific item using discard()\n",
    "my_set.discard(3)\n",
    "\n",
    "# Print the set after removal\n",
    "print(\"Set after removing item 3:\", my_set)"
   ]
  },
  {
   "cell_type": "markdown",
   "id": "b8c4dcdb",
   "metadata": {},
   "source": [
    "## 09. Check Subset"
   ]
  },
  {
   "cell_type": "code",
   "execution_count": null,
   "id": "1cbda7a9",
   "metadata": {},
   "outputs": [],
   "source": [
    "# This program checks if one set is a subset of another set\n",
    "\n",
    "# Define two sets\n",
    "set_a = {1, 2, 3}\n",
    "set_b = {1, 2, 3, 4, 5}\n",
    "\n",
    "# Check if set_a is a subset of set_b\n",
    "is_subset = set_a.issubset(set_b)\n",
    "\n",
    "# Print the result\n",
    "print(\"Is set_a a subset of set_b?\", is_subset)"
   ]
  },
  {
   "cell_type": "markdown",
   "id": "6eb31de6",
   "metadata": {},
   "source": [
    "## 10. Clear Set"
   ]
  },
  {
   "cell_type": "code",
   "execution_count": null,
   "id": "cd645959",
   "metadata": {},
   "outputs": [],
   "source": [
    "# This program removes all elements from a given set\n",
    "\n",
    "# Define the original set\n",
    "my_set = {10, 20, 30, 40, 50}\n",
    "print(\"Original set:\", my_set)\n",
    "\n",
    "# Clear the set using clear()\n",
    "my_set.clear()\n",
    "\n",
    "# Print the set after clearing\n",
    "print(\"Set after clearing all elements:\", my_set)"
   ]
  },
  {
   "cell_type": "markdown",
   "id": "e38411be",
   "metadata": {},
   "source": [
    "## 11. Max and Min in Set"
   ]
  },
  {
   "cell_type": "code",
   "execution_count": null,
   "id": "2aa04c91",
   "metadata": {},
   "outputs": [],
   "source": [
    "# This program finds the maximum and minimum values in a set\n",
    "\n",
    "# Define the set of numbers\n",
    "num_set = {15, 22, 8, 19, 31}\n",
    "\n",
    "# Find the maximum and minimum values using max() and min()\n",
    "max_value = max(num_set)\n",
    "min_value = min(num_set)\n",
    "\n",
    "# Print the results\n",
    "print(\"The maximum value in the set is:\", max_value)\n",
    "print(\"The minimum value in the set is:\", min_value)"
   ]
  },
  {
   "cell_type": "markdown",
   "id": "fc6f48c4",
   "metadata": {},
   "source": [
    "## 12. Index in Tuple"
   ]
  },
  {
   "cell_type": "code",
   "execution_count": null,
   "id": "b12e7927",
   "metadata": {},
   "outputs": [],
   "source": [
    "# This program finds the index of an item in a tuple\n",
    "\n",
    "# Define the tuple\n",
    "my_tuple = (10, 20, 30, 40, 50)\n",
    "\n",
    "# Define the item to find\n",
    "item_to_find = 30\n",
    "\n",
    "# Get the index of the item\n",
    "index = my_tuple.index(item_to_find)\n",
    "\n",
    "# Print the index of the item\n",
    "print(\"The index of\", item_to_find, \"in the tuple is:\", index)"
   ]
  },
  {
   "cell_type": "markdown",
   "id": "4d6c59d6",
   "metadata": {},
   "source": [
    "## 13. Tuple to Dictionary"
   ]
  },
  {
   "cell_type": "code",
   "execution_count": null,
   "id": "b0909131",
   "metadata": {},
   "outputs": [],
   "source": [
    "# This program converts a tuple of key-value pairs to a dictionary\n",
    "\n",
    "# Define a tuple containing key-value pairs\n",
    "tuple_data = ((\"a\", 1), (\"b\", 2), (\"c\", 3))\n",
    "\n",
    "# Convert the tuple to a dictionary\n",
    "dictionary = dict(tuple_data)\n",
    "\n",
    "# Print the resulting dictionary\n",
    "print(\"The converted dictionary is:\", dictionary)"
   ]
  },
  {
   "cell_type": "markdown",
   "id": "20206b34",
   "metadata": {},
   "source": [
    "## 14. Unzip List of Tuples"
   ]
  },
  {
   "cell_type": "code",
   "execution_count": null,
   "id": "9dcbe550",
   "metadata": {},
   "outputs": [],
   "source": [
    "# This program unzips a list of tuples into individual lists\n",
    "\n",
    "# Define a list of tuples\n",
    "list_of_tuples = [(1, 'a'), (2, 'b'), (3, 'c')]\n",
    "\n",
    "# Unzip the list of tuples using zip()\n",
    "list1, list2 = zip(*list_of_tuples)\n",
    "\n",
    "# Convert to lists\n",
    "list1, list2 = list(list1), list(list2)\n",
    "\n",
    "# Print the unzipped lists\n",
    "print(\"First list:\", list1)\n",
    "print(\"Second list:\", list2)"
   ]
  },
  {
   "cell_type": "markdown",
   "id": "78b546e8",
   "metadata": {},
   "source": [
    "## 15. Reverse Tuple"
   ]
  },
  {
   "cell_type": "code",
   "execution_count": null,
   "id": "b1b7048d",
   "metadata": {},
   "outputs": [],
   "source": [
    "# This program reverses a tuple\n",
    "\n",
    "# Define the original tuple\n",
    "my_tuple = (1, 2, 3, 4, 5)\n",
    "\n",
    "# Reverse the tuple using slicing\n",
    "reversed_tuple = my_tuple[::-1]\n",
    "\n",
    "# Print the reversed tuple\n",
    "print(\"The reversed tuple is:\", reversed_tuple)"
   ]
  },
  {
   "cell_type": "markdown",
   "id": "39e63670",
   "metadata": {},
   "source": [
    "## 16. List of Tuples to Dictionary"
   ]
  },
  {
   "cell_type": "code",
   "execution_count": null,
   "id": "e5d14ba0",
   "metadata": {},
   "outputs": [],
   "source": [
    "# This program converts a list of tuples into a dictionary\n",
    "\n",
    "# Define a list of tuples with key-value pairs\n",
    "list_of_tuples = [(\"apple\", 1), (\"banana\", 2), (\"cherry\", 3)]\n",
    "\n",
    "# Convert to dictionary\n",
    "dictionary = dict(list_of_tuples)\n",
    "\n",
    "# Print the dictionary\n",
    "print(\"The converted dictionary is:\", dictionary)"
   ]
  },
  {
   "cell_type": "markdown",
   "id": "f4833826",
   "metadata": {},
   "source": [
    "## 17. Replace Last Value in Tuples"
   ]
  },
  {
   "cell_type": "code",
   "execution_count": null,
   "id": "f7af2d1b",
   "metadata": {},
   "outputs": [],
   "source": [
    "# This program replaces the last value of each tuple in a list with 100\n",
    "\n",
    "# Define the list of tuples\n",
    "tuple_list = [(10, 20, 40), (40, 50, 60), (70, 80, 90)]\n",
    "\n",
    "# Modify tuples by replacing the last value\n",
    "modified_list = [tup[:-1] + (100,) for tup in tuple_list]\n",
    "\n",
    "# Print the modified list\n",
    "print(\"Modified list of tuples:\", modified_list)"
   ]
  },
  {
   "cell_type": "markdown",
   "id": "bce96660",
   "metadata": {},
   "source": [
    "## 18. Sort Tuple by Float"
   ]
  },
  {
   "cell_type": "code",
   "execution_count": null,
   "id": "a98acb6b",
   "metadata": {},
   "outputs": [],
   "source": [
    "# This program sorts a tuple of tuples by the float element in each inner tuple\n",
    "\n",
    "# Define the tuple of tuples\n",
    "my_tuple = ((1, 3.2), (2, 1.5), (3, 2.8))\n",
    "\n",
    "# Sort using the float element as key\n",
    "sorted_tuple = tuple(sorted(my_tuple, key=lambda x: x[1]))\n",
    "\n",
    "# Print the sorted tuple\n",
    "print(\"The sorted tuple by its float element is:\", sorted_tuple)"
   ]
  }
 ],
 "metadata": {
  "language_info": {
   "name": "python"
  }
 },
 "nbformat": 4,
 "nbformat_minor": 5
}
