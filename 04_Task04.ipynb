{
 "cells": [
  {
   "cell_type": "markdown",
   "metadata": {},
   "source": [
    "# Name : Menna AboZaid"
   ]
  },
  {
   "cell_type": "code",
   "execution_count": null,
   "metadata": {
    "vscode": {
     "languageId": "plaintext"
    }
   },
   "outputs": [],
   "source": [
    "import random\n",
    "from prettytable import PrettyTable\n",
    "\n",
    "# User credentials\n",
    "user_name = 'Menna_AboZaid'\n",
    "password = 'Menna123'\n",
    "\n",
    "# Login system\n",
    "while True:\n",
    "    x = input('Enter your username: ')\n",
    "    if x == user_name:\n",
    "        y = input('Enter your password: ')\n",
    "        if y == password:\n",
    "            s = random.randrange(100, 1000)\n",
    "            print(\"Verification code is:\", s)\n",
    "            while True:\n",
    "                a = int(input(\"Enter the verification code: \"))\n",
    "                if a == s:\n",
    "                    print(\"Welcome to our application!\")\n",
    "                    break\n",
    "                else:\n",
    "                    print(\"Incorrect verification code. Try again.\")\n",
    "            break\n",
    "        else:\n",
    "            print('Incorrect password. Try again.')\n",
    "    else:\n",
    "        print('Incorrect username. Try again.')\n",
    "\n",
    "# List of available products\n",
    "products = [\n",
    "    {'name': \"milk\", \"price\": 50.0, \"quantity\": 1500},\n",
    "    {'name': \"cheese\", \"price\": 120.0, \"quantity\": 800},\n",
    "    {'name': \"butter\", \"price\": 90.0, \"quantity\": 600},\n",
    "    {'name': \"yogurt\", \"price\": 30.0, \"quantity\": 1000},\n",
    "    {'name': \"honey\", \"price\": 250.0, \"quantity\": 500},\n",
    "]\n",
    "\n",
    "# Display products in a table\n",
    "table = PrettyTable()\n",
    "table.field_names = [\"Name\", \"Price\", \"Quantity\"]\n",
    "for product in products:\n",
    "    table.add_row([product['name'], product['price'], product['quantity']])\n",
    "print(table)\n",
    "\n",
    "total_price = 0\n",
    "\n",
    "# Purchase process\n",
    "while True:\n",
    "    product_name = input(\"Enter product name: \").lower()\n",
    "    if product_name not in map(lambda x: x['name'].lower(), products):\n",
    "        print(\"Product not found in the table, please enter a valid product.\")\n",
    "    else:\n",
    "        product = next(p for p in products if p['name'].lower() == product_name)\n",
    "        quantity_required = int(input(\"Enter the quantity: \"))\n",
    "        \n",
    "        if product['quantity'] < quantity_required:\n",
    "            print(\"Required quantity not available.\")\n",
    "        else:\n",
    "            product['quantity'] -= quantity_required\n",
    "            total_price += product['price'] * quantity_required\n",
    "            print(\"Total price so far:\", total_price)\n",
    "            \n",
    "        choice = input(\"Do you want to buy more products? (yes/no): \")\n",
    "        if choice.lower() == 'no':\n",
    "            break\n",
    "\n",
    "print(\"Total price to be paid:\", total_price)"
   ]
  }
 ],
 "metadata": {
  "language_info": {
   "name": "python"
  }
 },
 "nbformat": 4,
 "nbformat_minor": 2
}
