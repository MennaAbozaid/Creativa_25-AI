{
 "cells": [
  {
   "cell_type": "markdown",
   "id": "94159029",
   "metadata": {},
   "source": [
    "**NUMPY Library**"
   ]
  },
  {
   "cell_type": "code",
   "execution_count": 47,
   "id": "3c6bffd2",
   "metadata": {},
   "outputs": [],
   "source": [
    "import numpy as np"
   ]
  },
  {
   "cell_type": "code",
   "execution_count": 48,
   "id": "ee15e47a",
   "metadata": {},
   "outputs": [
    {
     "name": "stdout",
     "output_type": "stream",
     "text": [
      "[1 2 3]\n",
      "[4 5 6]\n"
     ]
    }
   ],
   "source": [
    "v1 = np.array([1, 2, 3])\n",
    "v2 = np.array([4, 5, 6])\n",
    "print(v1)\n",
    "print(v2)"
   ]
  },
  {
   "cell_type": "code",
   "execution_count": 49,
   "id": "72c9a065",
   "metadata": {},
   "outputs": [
    {
     "name": "stdout",
     "output_type": "stream",
     "text": [
      "[5 7 9]\n"
     ]
    }
   ],
   "source": [
    "#vector addition\n",
    "print (v1 + v2)"
   ]
  },
  {
   "cell_type": "code",
   "execution_count": 50,
   "id": "3a2e5498",
   "metadata": {},
   "outputs": [
    {
     "name": "stdout",
     "output_type": "stream",
     "text": [
      "[3 3 3]\n"
     ]
    }
   ],
   "source": [
    "#vector subtraction\n",
    "print(v2 - v1)"
   ]
  },
  {
   "cell_type": "code",
   "execution_count": 51,
   "id": "7b940cb3",
   "metadata": {},
   "outputs": [
    {
     "name": "stdout",
     "output_type": "stream",
     "text": [
      "[ 4 10 18]\n"
     ]
    }
   ],
   "source": [
    "#vector elementwise multiplication\n",
    "print(v1 * v2)"
   ]
  },
  {
   "cell_type": "code",
   "execution_count": 52,
   "id": "6b4c8097",
   "metadata": {},
   "outputs": [
    {
     "name": "stdout",
     "output_type": "stream",
     "text": [
      "[2 4 6]\n"
     ]
    }
   ],
   "source": [
    "#vector scalar multiplication\n",
    "print(v1 * 2)"
   ]
  },
  {
   "cell_type": "code",
   "execution_count": 53,
   "id": "985ad223",
   "metadata": {},
   "outputs": [
    {
     "name": "stdout",
     "output_type": "stream",
     "text": [
      "32\n"
     ]
    }
   ],
   "source": [
    "# Dot product multiplication\n",
    "print (v1.dot(v2))"
   ]
  },
  {
   "cell_type": "code",
   "execution_count": 54,
   "id": "1a80e793",
   "metadata": {},
   "outputs": [
    {
     "name": "stdout",
     "output_type": "stream",
     "text": [
      "[[1 2 3]\n",
      " [4 5 6]\n",
      " [7 8 9]]\n",
      "==============================\n",
      "[[9 8 7]\n",
      " [6 5 4]\n",
      " [3 2 1]]\n"
     ]
    }
   ],
   "source": [
    "##**create a Numpy matrix**\n",
    "m1 = np.array([[1, 2, 3], [4, 5, 6], [7, 8, 9]])\n",
    "m2 = np.array([[9, 8, 7], [6, 5, 4], [3, 2, 1]])\n",
    "print(m1)  \n",
    "print(\"==============================\") \n",
    "print(m2)"
   ]
  },
  {
   "cell_type": "code",
   "execution_count": 55,
   "id": "4588c56e",
   "metadata": {},
   "outputs": [
    {
     "name": "stdout",
     "output_type": "stream",
     "text": [
      "[[10 10 10]\n",
      " [10 10 10]\n",
      " [10 10 10]]\n"
     ]
    }
   ],
   "source": [
    "#Matrix addition\n",
    "print (m1 + m2)"
   ]
  },
  {
   "cell_type": "code",
   "execution_count": 56,
   "id": "ea570914",
   "metadata": {},
   "outputs": [
    {
     "name": "stdout",
     "output_type": "stream",
     "text": [
      "[[ 8  6  4]\n",
      " [ 2  0 -2]\n",
      " [-4 -6 -8]]\n"
     ]
    }
   ],
   "source": [
    "#Matrix subtraction\n",
    "print (m2 - m1)"
   ]
  },
  {
   "cell_type": "code",
   "execution_count": 57,
   "id": "abf2db72",
   "metadata": {},
   "outputs": [
    {
     "name": "stdout",
     "output_type": "stream",
     "text": [
      "[[ 2  4  6]\n",
      " [ 8 10 12]\n",
      " [14 16 18]]\n"
     ]
    }
   ],
   "source": [
    "#Matrix scalar multiplication\n",
    "print (m1 * 2)"
   ]
  },
  {
   "cell_type": "code",
   "execution_count": 58,
   "id": "e9faedbf",
   "metadata": {},
   "outputs": [
    {
     "name": "stdout",
     "output_type": "stream",
     "text": [
      "[[ 9 16 21]\n",
      " [24 25 24]\n",
      " [21 16  9]]\n"
     ]
    }
   ],
   "source": [
    "#Matrix Elementwise multiplication\n",
    "print (m1 * m2)"
   ]
  },
  {
   "cell_type": "code",
   "execution_count": 59,
   "id": "ccb8f022",
   "metadata": {},
   "outputs": [
    {
     "name": "stdout",
     "output_type": "stream",
     "text": [
      "[[ 30  24  18]\n",
      " [ 84  69  54]\n",
      " [138 114  90]]\n"
     ]
    }
   ],
   "source": [
    "#Matrix Dot-product multiplication\n",
    "print (m1.dot(m2))"
   ]
  },
  {
   "cell_type": "code",
   "execution_count": 61,
   "id": "114ee9f6",
   "metadata": {},
   "outputs": [
    {
     "name": "stdout",
     "output_type": "stream",
     "text": [
      "[1 2 3 4 5 6 7 8 9]\n"
     ]
    },
    {
     "data": {
      "text/plain": [
       "array([1, 3, 5, 7, 9])"
      ]
     },
     "execution_count": 61,
     "metadata": {},
     "output_type": "execute_result"
    }
   ],
   "source": [
    "#Numpy Functions:\n",
    "print(np.arange(1, 10)) #start, stop\n",
    "np.arange(1, 10, 2) #start, stop, step"
   ]
  },
  {
   "cell_type": "code",
   "execution_count": 62,
   "id": "10aec58c",
   "metadata": {},
   "outputs": [
    {
     "data": {
      "text/plain": [
       "array([[0., 0., 0.],\n",
       "       [0., 0., 0.],\n",
       "       [0., 0., 0.]])"
      ]
     },
     "execution_count": 62,
     "metadata": {},
     "output_type": "execute_result"
    }
   ],
   "source": [
    "np.zeros((3, 3)) #3x3 matrix of zeros"
   ]
  },
  {
   "cell_type": "code",
   "execution_count": 64,
   "id": "6fbf9af2",
   "metadata": {},
   "outputs": [
    {
     "data": {
      "text/plain": [
       "array([[1., 1.],\n",
       "       [1., 1.]])"
      ]
     },
     "execution_count": 64,
     "metadata": {},
     "output_type": "execute_result"
    }
   ],
   "source": [
    "np.ones((2,2)) #2x2 matrix of ones"
   ]
  },
  {
   "cell_type": "code",
   "execution_count": 66,
   "id": "ffce6e63",
   "metadata": {},
   "outputs": [
    {
     "data": {
      "text/plain": [
       "array([ 0. ,  2.5,  5. ,  7.5, 10. ])"
      ]
     },
     "execution_count": 66,
     "metadata": {},
     "output_type": "execute_result"
    }
   ],
   "source": [
    "np.linspace(0, 10, 5) #start, stop, number of points"
   ]
  },
  {
   "cell_type": "code",
   "execution_count": 67,
   "id": "dd82536a",
   "metadata": {},
   "outputs": [
    {
     "data": {
      "text/plain": [
       "array([[1., 0., 0.],\n",
       "       [0., 1., 0.],\n",
       "       [0., 0., 1.]])"
      ]
     },
     "execution_count": 67,
     "metadata": {},
     "output_type": "execute_result"
    }
   ],
   "source": [
    "np.eye(3) #3x3 identity matrix"
   ]
  },
  {
   "cell_type": "code",
   "execution_count": 71,
   "id": "ec36fc14",
   "metadata": {},
   "outputs": [
    {
     "data": {
      "text/plain": [
       "array([[0.49667418, 0.30031713, 0.8424827 ],\n",
       "       [0.93723035, 0.93070556, 0.63411412],\n",
       "       [0.96145036, 0.02955275, 0.80118566]])"
      ]
     },
     "execution_count": 71,
     "metadata": {},
     "output_type": "execute_result"
    }
   ],
   "source": [
    "np.random.rand(3, 3) #3x3 matrix of random numbers between 0 and 1"
   ]
  },
  {
   "cell_type": "code",
   "execution_count": 80,
   "id": "05b6013c",
   "metadata": {},
   "outputs": [
    {
     "data": {
      "text/plain": [
       "array([[-0.41468952,  1.11593041,  0.11855794],\n",
       "       [ 0.88100763, -0.36361922,  0.21005161],\n",
       "       [ 2.07625372,  0.4458204 , -0.91755379]])"
      ]
     },
     "execution_count": 80,
     "metadata": {},
     "output_type": "execute_result"
    }
   ],
   "source": [
    "np.random.randn(3, 3) #3x3 matrix of random numbers from standard normal distribution (Guassian distribution)"
   ]
  },
  {
   "cell_type": "code",
   "execution_count": 79,
   "id": "df2201ec",
   "metadata": {},
   "outputs": [
    {
     "data": {
      "text/plain": [
       "array([[ 3, 11,  4],\n",
       "       [ 2,  3, 14],\n",
       "       [ 4, 12, 18]], dtype=int32)"
      ]
     },
     "execution_count": 79,
     "metadata": {},
     "output_type": "execute_result"
    }
   ],
   "source": [
    "np.random.randint(1, 20, (3, 3)) #3x3 matrix of random integers between 1 and 20"
   ]
  },
  {
   "cell_type": "code",
   "execution_count": null,
   "id": "c672e335",
   "metadata": {},
   "outputs": [],
   "source": []
  }
 ],
 "metadata": {
  "kernelspec": {
   "display_name": "Python 3",
   "language": "python",
   "name": "python3"
  },
  "language_info": {
   "codemirror_mode": {
    "name": "ipython",
    "version": 3
   },
   "file_extension": ".py",
   "mimetype": "text/x-python",
   "name": "python",
   "nbconvert_exporter": "python",
   "pygments_lexer": "ipython3",
   "version": "3.12.10"
  }
 },
 "nbformat": 4,
 "nbformat_minor": 5
}
