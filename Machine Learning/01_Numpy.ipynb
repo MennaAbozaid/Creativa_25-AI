{
 "cells": [
  {
   "cell_type": "markdown",
   "id": "94159029",
   "metadata": {},
   "source": [
    "**NUMPY Library**"
   ]
  },
  {
   "cell_type": "code",
   "execution_count": 249,
   "id": "3c6bffd2",
   "metadata": {},
   "outputs": [],
   "source": [
    "import numpy as np"
   ]
  },
  {
   "cell_type": "code",
   "execution_count": 250,
   "id": "ee15e47a",
   "metadata": {},
   "outputs": [
    {
     "name": "stdout",
     "output_type": "stream",
     "text": [
      "[1 2 3]\n",
      "[4 5 6]\n"
     ]
    }
   ],
   "source": [
    "v1 = np.array([1, 2, 3])\n",
    "v2 = np.array([4, 5, 6])\n",
    "print(v1)\n",
    "print(v2)"
   ]
  },
  {
   "cell_type": "code",
   "execution_count": 251,
   "id": "72c9a065",
   "metadata": {},
   "outputs": [
    {
     "name": "stdout",
     "output_type": "stream",
     "text": [
      "[5 7 9]\n"
     ]
    }
   ],
   "source": [
    "#vector addition\n",
    "print (v1 + v2)"
   ]
  },
  {
   "cell_type": "code",
   "execution_count": 252,
   "id": "3a2e5498",
   "metadata": {},
   "outputs": [
    {
     "name": "stdout",
     "output_type": "stream",
     "text": [
      "[3 3 3]\n"
     ]
    }
   ],
   "source": [
    "#vector subtraction\n",
    "print(v2 - v1)"
   ]
  },
  {
   "cell_type": "code",
   "execution_count": 253,
   "id": "7b940cb3",
   "metadata": {},
   "outputs": [
    {
     "name": "stdout",
     "output_type": "stream",
     "text": [
      "[ 4 10 18]\n"
     ]
    }
   ],
   "source": [
    "#vector elementwise multiplication\n",
    "print(v1 * v2)"
   ]
  },
  {
   "cell_type": "code",
   "execution_count": 254,
   "id": "6b4c8097",
   "metadata": {},
   "outputs": [
    {
     "name": "stdout",
     "output_type": "stream",
     "text": [
      "[2 4 6]\n"
     ]
    }
   ],
   "source": [
    "#vector scalar multiplication\n",
    "print(v1 * 2)"
   ]
  },
  {
   "cell_type": "code",
   "execution_count": 255,
   "id": "985ad223",
   "metadata": {},
   "outputs": [
    {
     "name": "stdout",
     "output_type": "stream",
     "text": [
      "32\n"
     ]
    }
   ],
   "source": [
    "# Dot product multiplication\n",
    "print (v1.dot(v2))"
   ]
  },
  {
   "cell_type": "code",
   "execution_count": 256,
   "id": "1a80e793",
   "metadata": {},
   "outputs": [
    {
     "name": "stdout",
     "output_type": "stream",
     "text": [
      "[[1 2 3]\n",
      " [4 5 6]\n",
      " [7 8 9]]\n",
      "==============================\n",
      "[[9 8 7]\n",
      " [6 5 4]\n",
      " [3 2 1]]\n"
     ]
    }
   ],
   "source": [
    "##**create a Numpy matrix**\n",
    "m1 = np.array([[1, 2, 3], [4, 5, 6], [7, 8, 9]])\n",
    "m2 = np.array([[9, 8, 7], [6, 5, 4], [3, 2, 1]])\n",
    "print(m1)  \n",
    "print(\"==============================\") \n",
    "print(m2)"
   ]
  },
  {
   "cell_type": "code",
   "execution_count": 257,
   "id": "4588c56e",
   "metadata": {},
   "outputs": [
    {
     "name": "stdout",
     "output_type": "stream",
     "text": [
      "[[10 10 10]\n",
      " [10 10 10]\n",
      " [10 10 10]]\n"
     ]
    }
   ],
   "source": [
    "#Matrix addition\n",
    "print (m1 + m2)"
   ]
  },
  {
   "cell_type": "code",
   "execution_count": 258,
   "id": "ea570914",
   "metadata": {},
   "outputs": [
    {
     "name": "stdout",
     "output_type": "stream",
     "text": [
      "[[ 8  6  4]\n",
      " [ 2  0 -2]\n",
      " [-4 -6 -8]]\n"
     ]
    }
   ],
   "source": [
    "#Matrix subtraction\n",
    "print (m2 - m1)"
   ]
  },
  {
   "cell_type": "code",
   "execution_count": 259,
   "id": "abf2db72",
   "metadata": {},
   "outputs": [
    {
     "name": "stdout",
     "output_type": "stream",
     "text": [
      "[[ 2  4  6]\n",
      " [ 8 10 12]\n",
      " [14 16 18]]\n"
     ]
    }
   ],
   "source": [
    "#Matrix scalar multiplication\n",
    "print (m1 * 2)"
   ]
  },
  {
   "cell_type": "code",
   "execution_count": 260,
   "id": "e9faedbf",
   "metadata": {},
   "outputs": [
    {
     "name": "stdout",
     "output_type": "stream",
     "text": [
      "[[ 9 16 21]\n",
      " [24 25 24]\n",
      " [21 16  9]]\n"
     ]
    }
   ],
   "source": [
    "#Matrix Elementwise multiplication\n",
    "print (m1 * m2)"
   ]
  },
  {
   "cell_type": "code",
   "execution_count": 261,
   "id": "ccb8f022",
   "metadata": {},
   "outputs": [
    {
     "name": "stdout",
     "output_type": "stream",
     "text": [
      "[[ 30  24  18]\n",
      " [ 84  69  54]\n",
      " [138 114  90]]\n"
     ]
    }
   ],
   "source": [
    "#Matrix Dot-product multiplication\n",
    "print (m1.dot(m2))"
   ]
  },
  {
   "cell_type": "code",
   "execution_count": 262,
   "id": "114ee9f6",
   "metadata": {},
   "outputs": [
    {
     "name": "stdout",
     "output_type": "stream",
     "text": [
      "[1 2 3 4 5 6 7 8 9]\n"
     ]
    },
    {
     "data": {
      "text/plain": [
       "array([1, 3, 5, 7, 9])"
      ]
     },
     "execution_count": 262,
     "metadata": {},
     "output_type": "execute_result"
    }
   ],
   "source": [
    "#Numpy Functions:\n",
    "print(np.arange(1, 10)) #start, stop\n",
    "np.arange(1, 10, 2) #start, stop, step"
   ]
  },
  {
   "cell_type": "code",
   "execution_count": 263,
   "id": "10aec58c",
   "metadata": {},
   "outputs": [
    {
     "data": {
      "text/plain": [
       "array([[0., 0., 0.],\n",
       "       [0., 0., 0.],\n",
       "       [0., 0., 0.]])"
      ]
     },
     "execution_count": 263,
     "metadata": {},
     "output_type": "execute_result"
    }
   ],
   "source": [
    "np.zeros((3, 3)) #3x3 matrix of zeros"
   ]
  },
  {
   "cell_type": "code",
   "execution_count": 264,
   "id": "6fbf9af2",
   "metadata": {},
   "outputs": [
    {
     "data": {
      "text/plain": [
       "array([[1., 1.],\n",
       "       [1., 1.]])"
      ]
     },
     "execution_count": 264,
     "metadata": {},
     "output_type": "execute_result"
    }
   ],
   "source": [
    "np.ones((2,2)) #2x2 matrix of ones"
   ]
  },
  {
   "cell_type": "code",
   "execution_count": 265,
   "id": "ffce6e63",
   "metadata": {},
   "outputs": [
    {
     "data": {
      "text/plain": [
       "array([ 0. ,  2.5,  5. ,  7.5, 10. ])"
      ]
     },
     "execution_count": 265,
     "metadata": {},
     "output_type": "execute_result"
    }
   ],
   "source": [
    "np.linspace(0, 10, 5) #start, stop, number of points"
   ]
  },
  {
   "cell_type": "code",
   "execution_count": 266,
   "id": "dd82536a",
   "metadata": {},
   "outputs": [
    {
     "data": {
      "text/plain": [
       "array([[1., 0., 0.],\n",
       "       [0., 1., 0.],\n",
       "       [0., 0., 1.]])"
      ]
     },
     "execution_count": 266,
     "metadata": {},
     "output_type": "execute_result"
    }
   ],
   "source": [
    "np.eye(3) #3x3 identity matrix"
   ]
  },
  {
   "cell_type": "code",
   "execution_count": 267,
   "id": "ec36fc14",
   "metadata": {},
   "outputs": [
    {
     "data": {
      "text/plain": [
       "array([[0.62657783, 0.16647599, 0.13330809],\n",
       "       [0.08586317, 0.4252676 , 0.76824106],\n",
       "       [0.67085654, 0.09109664, 0.77118676]])"
      ]
     },
     "execution_count": 267,
     "metadata": {},
     "output_type": "execute_result"
    }
   ],
   "source": [
    "np.random.rand(3, 3) #3x3 matrix of random numbers between 0 and 1"
   ]
  },
  {
   "cell_type": "code",
   "execution_count": 268,
   "id": "05b6013c",
   "metadata": {},
   "outputs": [
    {
     "data": {
      "text/plain": [
       "array([[ 1.57871525,  1.02934173, -2.32543085],\n",
       "       [-0.86687597, -1.00840442,  0.41526507],\n",
       "       [-0.59916915,  0.15754818, -0.58407423]])"
      ]
     },
     "execution_count": 268,
     "metadata": {},
     "output_type": "execute_result"
    }
   ],
   "source": [
    "np.random.randn(3, 3) #3x3 matrix of random numbers from standard normal distribution (Guassian distribution)"
   ]
  },
  {
   "cell_type": "code",
   "execution_count": 269,
   "id": "df2201ec",
   "metadata": {},
   "outputs": [
    {
     "data": {
      "text/plain": [
       "array([[19,  3,  4],\n",
       "       [ 8, 10, 13],\n",
       "       [16,  4,  8]], dtype=int32)"
      ]
     },
     "execution_count": 269,
     "metadata": {},
     "output_type": "execute_result"
    }
   ],
   "source": [
    "np.random.randint(1, 20, (3, 3)) #3x3 matrix of random integers between 1 and 20"
   ]
  },
  {
   "cell_type": "code",
   "execution_count": 270,
   "id": "c672e335",
   "metadata": {},
   "outputs": [
    {
     "name": "stdout",
     "output_type": "stream",
     "text": [
      "[[ 1  2  3  4  5]\n",
      " [ 6  7  8  9 10]\n",
      " [11 12 13 14 15]\n",
      " [16 17 18 19 20]\n",
      " [21 22 23 24 25]]\n"
     ]
    }
   ],
   "source": [
    "new_array = np.arange(1,26).reshape(5,5) #1D array to 2D array\n",
    "print(new_array)"
   ]
  },
  {
   "cell_type": "code",
   "execution_count": 271,
   "id": "9bab452f",
   "metadata": {},
   "outputs": [
    {
     "data": {
      "text/plain": [
       "array([[ 1,  2,  3,  4,  5],\n",
       "       [ 6,  7,  8,  9, 10],\n",
       "       [11, 12, 13, 14, 15],\n",
       "       [16, 17, 18, 19, 20],\n",
       "       [21, 22, 23, 24, 25]])"
      ]
     },
     "execution_count": 271,
     "metadata": {},
     "output_type": "execute_result"
    }
   ],
   "source": [
    "new_array.reshape(5,5) #reshape the array to 5x5 matrix"
   ]
  },
  {
   "cell_type": "code",
   "execution_count": 272,
   "id": "11f41faa",
   "metadata": {},
   "outputs": [
    {
     "name": "stdout",
     "output_type": "stream",
     "text": [
      "25\n",
      "1\n"
     ]
    }
   ],
   "source": [
    "print(new_array.max()) #maximum value in the array\n",
    "print(new_array.min()) #minimum value in the array "
   ]
  },
  {
   "cell_type": "code",
   "execution_count": 273,
   "id": "e37db9ed",
   "metadata": {},
   "outputs": [
    {
     "name": "stdout",
     "output_type": "stream",
     "text": [
      "24\n",
      "0\n"
     ]
    }
   ],
   "source": [
    "print(new_array.argmax()) #index of maximum value in the array\n",
    "print(new_array.argmin()) #index of minimum value in the array"
   ]
  },
  {
   "cell_type": "code",
   "execution_count": 274,
   "id": "8e5388b0",
   "metadata": {},
   "outputs": [
    {
     "data": {
      "text/plain": [
       "(5, 5)"
      ]
     },
     "execution_count": 274,
     "metadata": {},
     "output_type": "execute_result"
    }
   ],
   "source": [
    "new_array.shape #shape of the array"
   ]
  },
  {
   "cell_type": "code",
   "execution_count": 275,
   "id": "06509571",
   "metadata": {},
   "outputs": [
    {
     "data": {
      "text/plain": [
       "dtype('int64')"
      ]
     },
     "execution_count": 275,
     "metadata": {},
     "output_type": "execute_result"
    }
   ],
   "source": [
    "new_array.dtype #data type of the array"
   ]
  },
  {
   "cell_type": "markdown",
   "id": "afdc292e",
   "metadata": {},
   "source": [
    "**Indexing and Selection**\n",
    "\n"
   ]
  },
  {
   "cell_type": "code",
   "execution_count": 276,
   "id": "41f0129f",
   "metadata": {},
   "outputs": [
    {
     "name": "stdout",
     "output_type": "stream",
     "text": [
      "[ 0  1  2  3  4  5  6  7  8  9 10]\n"
     ]
    }
   ],
   "source": [
    "data=np.arange(0, 11) #create an array with values from 1 to 9  \n",
    "print (data) #print the array"
   ]
  },
  {
   "cell_type": "code",
   "execution_count": 277,
   "id": "d2b65b4c",
   "metadata": {},
   "outputs": [
    {
     "name": "stdout",
     "output_type": "stream",
     "text": [
      "6\n"
     ]
    },
    {
     "data": {
      "text/plain": [
       "array([0, 1, 2, 3, 4])"
      ]
     },
     "execution_count": 277,
     "metadata": {},
     "output_type": "execute_result"
    }
   ],
   "source": [
    "print(data[6]) #access the 6th element of the array\n",
    "data[0:5] #access the first 5 elements of the array"
   ]
  },
  {
   "cell_type": "code",
   "execution_count": 278,
   "id": "9b996be1",
   "metadata": {},
   "outputs": [
    {
     "name": "stdout",
     "output_type": "stream",
     "text": [
      "[100 100 100 100 100   5   6   7   8   9  10]\n"
     ]
    }
   ],
   "source": [
    "data[0:5] = 100 #change the first 5 elements of the array to 100\n",
    "print(data) #print the modified array"
   ]
  },
  {
   "cell_type": "code",
   "execution_count": 279,
   "id": "19b18352",
   "metadata": {},
   "outputs": [
    {
     "name": "stdout",
     "output_type": "stream",
     "text": [
      "[1 1 1 1 1 1 1 1 1 1 1]\n"
     ]
    }
   ],
   "source": [
    "data[:] = 1 #change all elements of the array to 1\n",
    "print(data) #print the modified array"
   ]
  },
  {
   "cell_type": "code",
   "execution_count": 280,
   "id": "65f91574",
   "metadata": {},
   "outputs": [
    {
     "name": "stdout",
     "output_type": "stream",
     "text": [
      "[[1 1]\n",
      " [1 1]\n",
      " [1 1]\n",
      " [1 1]\n",
      " [1 1]]\n"
     ]
    }
   ],
   "source": [
    "data_1=data.copy() #create a copy of the array\n",
    "data_1 = data_1[:10]  # Adjust the size of the array to make it compatible with the desired shape\n",
    "reshaped_data = data_1.reshape(5, 2)  # Reshape the array to 5x2 matrix\n",
    "print(reshaped_data)  # Print the reshaped array"
   ]
  },
  {
   "cell_type": "markdown",
   "id": "6dd4cae4",
   "metadata": {},
   "source": [
    "**2D and 3D slicing:**"
   ]
  },
  {
   "cell_type": "code",
   "execution_count": 281,
   "id": "34a55d65",
   "metadata": {},
   "outputs": [
    {
     "name": "stdout",
     "output_type": "stream",
     "text": [
      "[[1 2 3]\n",
      " [4 5 6]\n",
      " [7 8 9]]\n"
     ]
    }
   ],
   "source": [
    "two_D=np.array([[1, 2, 3], [4, 5, 6], [7, 8, 9]]) #create a 2D array\n",
    "print(two_D) #print the 2D array"
   ]
  },
  {
   "cell_type": "code",
   "execution_count": 282,
   "id": "29eae143",
   "metadata": {},
   "outputs": [
    {
     "data": {
      "text/plain": [
       "np.int64(3)"
      ]
     },
     "execution_count": 282,
     "metadata": {},
     "output_type": "execute_result"
    }
   ],
   "source": [
    "two_D[0, 2] #access the element at row 0, column 2 of the 2D array"
   ]
  },
  {
   "cell_type": "code",
   "execution_count": 283,
   "id": "141d75e3",
   "metadata": {},
   "outputs": [
    {
     "name": "stdout",
     "output_type": "stream",
     "text": [
      "[[1 2 3]\n",
      " [4 5 6]\n",
      " [7 8 9]]\n",
      "=============\n",
      "[4 5 6]\n"
     ]
    }
   ],
   "source": [
    "print(two_D[:, :]) #access all rows and column of the 2D array\n",
    "print(\"=============\")\n",
    "print(two_D[1, :]) #access and print the second row of the 2D array"
   ]
  },
  {
   "cell_type": "code",
   "execution_count": 284,
   "id": "f05d0a0f",
   "metadata": {},
   "outputs": [
    {
     "name": "stdout",
     "output_type": "stream",
     "text": [
      "[[5 6]\n",
      " [8 9]]\n"
     ]
    }
   ],
   "source": [
    "print(two_D[1:, 1:]) #access and print the elements from row 1 to end and column 1 to end of the 2D array"
   ]
  },
  {
   "cell_type": "code",
   "execution_count": 285,
   "id": "c636bcc6",
   "metadata": {},
   "outputs": [
    {
     "name": "stdout",
     "output_type": "stream",
     "text": [
      "[6 7 8 9]\n"
     ]
    }
   ],
   "source": [
    "print(two_D[two_D > 5]) #access and print the elements of the 2D array that are greater than 5"
   ]
  },
  {
   "cell_type": "code",
   "execution_count": 286,
   "id": "d4401783",
   "metadata": {},
   "outputs": [],
   "source": [
    "np.save('my_array.npy', two_D) #save the array to a file"
   ]
  },
  {
   "cell_type": "code",
   "execution_count": 287,
   "id": "f1944c6c",
   "metadata": {},
   "outputs": [
    {
     "name": "stdout",
     "output_type": "stream",
     "text": [
      "[[1.         1.41421356 1.73205081]\n",
      " [2.         2.23606798 2.44948974]\n",
      " [2.64575131 2.82842712 3.        ]]\n",
      "==============================\n",
      "2.581988897471611\n",
      "==============================\n",
      "6.666666666666667\n",
      "==============================\n",
      "5.0\n",
      "==============================\n",
      "5.0\n",
      "==============================\n",
      "45\n",
      "==============================\n",
      "362880\n",
      "==============================\n",
      "[ 1  3  6 10 15 21 28 36 45]\n",
      "==============================\n",
      "[     1      2      6     24    120    720   5040  40320 362880]\n",
      "==============================\n",
      "[[1 1]\n",
      " [1 1]\n",
      " [1 1]]\n",
      "==============================\n",
      "(array([0, 0, 0, 1, 1, 1, 2, 2, 2]), array([0, 1, 2, 0, 1, 2, 0, 1, 2]))\n"
     ]
    }
   ],
   "source": [
    "print(np.sqrt(two_D))       #square root of the elements of the array\n",
    "print (\"==============================\")\n",
    "print(np.std(two_D))       #standard deviation of the elements of the array\n",
    "print (\"==============================\")\n",
    "print(np.var(two_D))       #variance of the elements of the array   \n",
    "print (\"==============================\")\n",
    "print(np.mean(two_D))      #mean of the elements of the array\n",
    "print (\"==============================\")\n",
    "print(np.median(two_D))    #median of the elements of the array\n",
    "print (\"==============================\")\n",
    "print (np.sum(two_D))       #sum of the elements of the array\n",
    "print (\"==============================\")\n",
    "print (np.prod(two_D))      #product of the elements of the array\n",
    "print (\"==============================\")\n",
    "print (np.cumsum(two_D))    #cumulative sum of the elements of the array\n",
    "print (\"==============================\")\n",
    "print (np.cumprod(two_D))   #cumulative product of the elements of the array\n",
    "print (\"==============================\")\n",
    "print (np.diff(two_D))      #difference between consecutive elements of the array\n",
    "print (\"==============================\")\n",
    "print (np.nonzero(two_D))   #indices of non-zero elements of the array\n"
   ]
  },
  {
   "cell_type": "code",
   "execution_count": 288,
   "id": "ec41ce41",
   "metadata": {},
   "outputs": [
    {
     "name": "stdout",
     "output_type": "stream",
     "text": [
      "[[2.71828183e+00 7.38905610e+00 2.00855369e+01]\n",
      " [5.45981500e+01 1.48413159e+02 4.03428793e+02]\n",
      " [1.09663316e+03 2.98095799e+03 8.10308393e+03]]\n",
      "==============================\n",
      "[[0.         0.69314718 1.09861229]\n",
      " [1.38629436 1.60943791 1.79175947]\n",
      " [1.94591015 2.07944154 2.19722458]]\n",
      "==============================\n",
      "[[ 0.84147098  0.90929743  0.14112001]\n",
      " [-0.7568025  -0.95892427 -0.2794155 ]\n",
      " [ 0.6569866   0.98935825  0.41211849]]\n"
     ]
    }
   ],
   "source": [
    "print(np.exp(two_D))      #exponential of the elements of the array\n",
    "print (\"==============================\")\n",
    "print(np.log(two_D))      #natural logarithm of the elements of the array\n",
    "print (\"==============================\")\n",
    "print(np.sin(two_D))       #sine of the elements of the array"
   ]
  },
  {
   "cell_type": "markdown",
   "id": "5a354813",
   "metadata": {},
   "source": [
    "**Q1= Create a 5X5 matrix where the first diagonal = 1, while the second diagonal = 2, while other values = 3:**"
   ]
  },
  {
   "cell_type": "code",
   "execution_count": 289,
   "id": "ad02b425",
   "metadata": {},
   "outputs": [
    {
     "name": "stdout",
     "output_type": "stream",
     "text": [
      "[[3 3 3 3 3]\n",
      " [3 3 3 3 3]\n",
      " [3 3 3 3 3]\n",
      " [3 3 3 3 3]\n",
      " [3 3 3 3 3]]\n"
     ]
    }
   ],
   "source": [
    "mat1= np.full((5,5),3)\n",
    "print(mat1) #create a 5x5 matrix of 3's"
   ]
  },
  {
   "cell_type": "code",
   "execution_count": 290,
   "id": "2f4edde1",
   "metadata": {},
   "outputs": [
    {
     "name": "stdout",
     "output_type": "stream",
     "text": [
      "[0, 1, 2, 3, 4]\n",
      "==============================\n",
      "[4, 3, 2, 1, 0]\n"
     ]
    }
   ],
   "source": [
    "indeces = list(range(5))\n",
    "indeces2= indeces[::-1] #reverse the list\n",
    "print(indeces) #print the original list\n",
    "print(\"==============================\")\n",
    "print(indeces2) #print the reversed list"
   ]
  },
  {
   "cell_type": "code",
   "execution_count": 291,
   "id": "870906cf",
   "metadata": {},
   "outputs": [
    {
     "name": "stdout",
     "output_type": "stream",
     "text": [
      "[[1 3 3 3 3]\n",
      " [3 1 3 3 3]\n",
      " [3 3 1 3 3]\n",
      " [3 3 3 1 3]\n",
      " [3 3 3 3 1]]\n"
     ]
    }
   ],
   "source": [
    "mat1[indeces, indeces] = 1 #set the elements of the matrix at the specified indices to 1\n",
    "print(mat1) #print the modified matrix"
   ]
  },
  {
   "cell_type": "code",
   "execution_count": 292,
   "id": "fca0753b",
   "metadata": {},
   "outputs": [
    {
     "name": "stdout",
     "output_type": "stream",
     "text": [
      "[[1 3 3 3 2]\n",
      " [3 1 3 2 3]\n",
      " [3 3 2 3 3]\n",
      " [3 2 3 1 3]\n",
      " [2 3 3 3 1]]\n"
     ]
    }
   ],
   "source": [
    "mat1[indeces2, indeces] = 2 #set the elements of the matrix at the specified indices to 2\n",
    "print(mat1) #print the modified matrix"
   ]
  },
  {
   "cell_type": "markdown",
   "id": "d8300768",
   "metadata": {},
   "source": [
    "***Q2= Consider representing parameters and biases of the following system of linear algebra using matrices and vectors:***\n",
    "\n",
    "\n",
    "5x1 + 3x2 = 20\n",
    "\n",
    "3x1 - 6x2 = 10"
   ]
  },
  {
   "cell_type": "code",
   "execution_count": 298,
   "id": "57ab8032",
   "metadata": {},
   "outputs": [],
   "source": [
    "parameters= np.array([[5, 3],[3, -6]])\n",
    "biases = np.array([20, 10])"
   ]
  },
  {
   "cell_type": "code",
   "execution_count": 299,
   "id": "d265141d",
   "metadata": {},
   "outputs": [
    {
     "name": "stdout",
     "output_type": "stream",
     "text": [
      "Parameters:  [[ 5  3]\n",
      " [ 3 -6]]\n",
      "============\n",
      "Biases:  [20 10]\n"
     ]
    }
   ],
   "source": [
    "print (\"Parameters: \", parameters) #print the parameters\n",
    "print (\"============\")\n",
    "print (\"Biases: \", biases) #print the biases"
   ]
  },
  {
   "cell_type": "markdown",
   "id": "177dd609",
   "metadata": {},
   "source": [
    "***Q3= Create two matrices any values you like and stack them vertically:***"
   ]
  },
  {
   "cell_type": "code",
   "execution_count": 301,
   "id": "0b3a52fe",
   "metadata": {},
   "outputs": [
    {
     "name": "stdout",
     "output_type": "stream",
     "text": [
      "[['1' '2' '3' '4']\n",
      " ['4' '5' '6' '7']\n",
      " ['A' 'B' 'C' 'D']\n",
      " ['S' 'O' 'N' 'M']\n",
      " ['-' 'i' 't' 'r']]\n"
     ]
    }
   ],
   "source": [
    "mat1 = np.array([[1, 2, 3, 4],\n",
    "                [4, 5, 6, 7]])\n",
    "mat2 = np.array([[\"A\", \"B\", \"C\", \"D\"],\n",
    "                [\"S\", \"O\", \"N\", \"M\"],\n",
    "                [\"-\", \"i\", \"t\", \"r\"]])\n",
    "mat =np.vstack([mat1, mat2]) #vertical stack of the two matrices\n",
    "print (mat) #print the stacked matrix"
   ]
  }
 ],
 "metadata": {
  "kernelspec": {
   "display_name": "Python 3",
   "language": "python",
   "name": "python3"
  },
  "language_info": {
   "codemirror_mode": {
    "name": "ipython",
    "version": 3
   },
   "file_extension": ".py",
   "mimetype": "text/x-python",
   "name": "python",
   "nbconvert_exporter": "python",
   "pygments_lexer": "ipython3",
   "version": "3.12.10"
  }
 },
 "nbformat": 4,
 "nbformat_minor": 5
}
