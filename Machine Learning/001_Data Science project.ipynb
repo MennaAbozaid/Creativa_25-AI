{
 "cells": [
  {
   "cell_type": "markdown",
   "id": "ac6b147d",
   "metadata": {},
   "source": [
    "**Data Pre-processing:**"
   ]
  },
  {
   "cell_type": "code",
   "execution_count": 88,
   "id": "6700e84a",
   "metadata": {},
   "outputs": [],
   "source": [
    "import numpy as np #    linear algebra\n",
    "import pandas as pd #    data processing, CSV file I/O (e.g. pd.read_csv)\n",
    "import seaborn as sns #    data visualization\n",
    "import matplotlib.pyplot as plt #    plotting library\n",
    "import warnings #    to ignore warnings\n",
    "import os #    to interact with the operating system\n",
    "warnings.filterwarnings('ignore')"
   ]
  },
  {
   "cell_type": "code",
   "execution_count": 89,
   "id": "573c1f04",
   "metadata": {},
   "outputs": [
    {
     "data": {
      "text/html": [
       "<div>\n",
       "<style scoped>\n",
       "    .dataframe tbody tr th:only-of-type {\n",
       "        vertical-align: middle;\n",
       "    }\n",
       "\n",
       "    .dataframe tbody tr th {\n",
       "        vertical-align: top;\n",
       "    }\n",
       "\n",
       "    .dataframe thead th {\n",
       "        text-align: right;\n",
       "    }\n",
       "</style>\n",
       "<table border=\"1\" class=\"dataframe\">\n",
       "  <thead>\n",
       "    <tr style=\"text-align: right;\">\n",
       "      <th></th>\n",
       "      <th>age</th>\n",
       "      <th>sex</th>\n",
       "      <th>bmi</th>\n",
       "      <th>children</th>\n",
       "      <th>smoker</th>\n",
       "      <th>region</th>\n",
       "      <th>charges</th>\n",
       "    </tr>\n",
       "  </thead>\n",
       "  <tbody>\n",
       "    <tr>\n",
       "      <th>0</th>\n",
       "      <td>19</td>\n",
       "      <td>female</td>\n",
       "      <td>27.900</td>\n",
       "      <td>0</td>\n",
       "      <td>yes</td>\n",
       "      <td>southwest</td>\n",
       "      <td>16884.92400</td>\n",
       "    </tr>\n",
       "    <tr>\n",
       "      <th>1</th>\n",
       "      <td>18</td>\n",
       "      <td>male</td>\n",
       "      <td>33.770</td>\n",
       "      <td>1</td>\n",
       "      <td>no</td>\n",
       "      <td>southeast</td>\n",
       "      <td>1725.55230</td>\n",
       "    </tr>\n",
       "    <tr>\n",
       "      <th>2</th>\n",
       "      <td>28</td>\n",
       "      <td>male</td>\n",
       "      <td>33.000</td>\n",
       "      <td>3</td>\n",
       "      <td>no</td>\n",
       "      <td>southeast</td>\n",
       "      <td>4449.46200</td>\n",
       "    </tr>\n",
       "    <tr>\n",
       "      <th>3</th>\n",
       "      <td>33</td>\n",
       "      <td>male</td>\n",
       "      <td>22.705</td>\n",
       "      <td>0</td>\n",
       "      <td>no</td>\n",
       "      <td>northwest</td>\n",
       "      <td>21984.47061</td>\n",
       "    </tr>\n",
       "    <tr>\n",
       "      <th>4</th>\n",
       "      <td>32</td>\n",
       "      <td>male</td>\n",
       "      <td>28.880</td>\n",
       "      <td>0</td>\n",
       "      <td>no</td>\n",
       "      <td>northwest</td>\n",
       "      <td>3866.85520</td>\n",
       "    </tr>\n",
       "    <tr>\n",
       "      <th>5</th>\n",
       "      <td>31</td>\n",
       "      <td>female</td>\n",
       "      <td>25.740</td>\n",
       "      <td>0</td>\n",
       "      <td>no</td>\n",
       "      <td>southeast</td>\n",
       "      <td>3756.62160</td>\n",
       "    </tr>\n",
       "    <tr>\n",
       "      <th>6</th>\n",
       "      <td>46</td>\n",
       "      <td>female</td>\n",
       "      <td>33.440</td>\n",
       "      <td>1</td>\n",
       "      <td>no</td>\n",
       "      <td>southeast</td>\n",
       "      <td>8240.58960</td>\n",
       "    </tr>\n",
       "    <tr>\n",
       "      <th>7</th>\n",
       "      <td>37</td>\n",
       "      <td>female</td>\n",
       "      <td>27.740</td>\n",
       "      <td>3</td>\n",
       "      <td>no</td>\n",
       "      <td>northwest</td>\n",
       "      <td>7281.50560</td>\n",
       "    </tr>\n",
       "    <tr>\n",
       "      <th>8</th>\n",
       "      <td>37</td>\n",
       "      <td>male</td>\n",
       "      <td>29.830</td>\n",
       "      <td>2</td>\n",
       "      <td>no</td>\n",
       "      <td>northeast</td>\n",
       "      <td>6406.41070</td>\n",
       "    </tr>\n",
       "    <tr>\n",
       "      <th>9</th>\n",
       "      <td>60</td>\n",
       "      <td>female</td>\n",
       "      <td>25.840</td>\n",
       "      <td>0</td>\n",
       "      <td>no</td>\n",
       "      <td>northwest</td>\n",
       "      <td>28923.13692</td>\n",
       "    </tr>\n",
       "  </tbody>\n",
       "</table>\n",
       "</div>"
      ],
      "text/plain": [
       "   age     sex     bmi  children smoker     region      charges\n",
       "0   19  female  27.900         0    yes  southwest  16884.92400\n",
       "1   18    male  33.770         1     no  southeast   1725.55230\n",
       "2   28    male  33.000         3     no  southeast   4449.46200\n",
       "3   33    male  22.705         0     no  northwest  21984.47061\n",
       "4   32    male  28.880         0     no  northwest   3866.85520\n",
       "5   31  female  25.740         0     no  southeast   3756.62160\n",
       "6   46  female  33.440         1     no  southeast   8240.58960\n",
       "7   37  female  27.740         3     no  northwest   7281.50560\n",
       "8   37    male  29.830         2     no  northeast   6406.41070\n",
       "9   60  female  25.840         0     no  northwest  28923.13692"
      ]
     },
     "execution_count": 89,
     "metadata": {},
     "output_type": "execute_result"
    }
   ],
   "source": [
    "insurance_df = pd.read_csv(\"D:\\\\AI & Machine Learning\\\\Tasks\\\\insurance.csv\")\n",
    "insurance_df.head(10) #    to display the first 10 rows of the dataset"
   ]
  },
  {
   "cell_type": "markdown",
   "id": "d40034c6",
   "metadata": {},
   "source": [
    "**(1) Data Understanding:**"
   ]
  },
  {
   "cell_type": "code",
   "execution_count": 90,
   "id": "48bf0deb",
   "metadata": {},
   "outputs": [
    {
     "name": "stdout",
     "output_type": "stream",
     "text": [
      "<class 'pandas.core.frame.DataFrame'>\n",
      "RangeIndex: 1338 entries, 0 to 1337\n",
      "Data columns (total 7 columns):\n",
      " #   Column    Non-Null Count  Dtype  \n",
      "---  ------    --------------  -----  \n",
      " 0   age       1338 non-null   int64  \n",
      " 1   sex       1338 non-null   object \n",
      " 2   bmi       1338 non-null   float64\n",
      " 3   children  1338 non-null   int64  \n",
      " 4   smoker    1338 non-null   object \n",
      " 5   region    1338 non-null   object \n",
      " 6   charges   1338 non-null   float64\n",
      "dtypes: float64(2), int64(2), object(3)\n",
      "memory usage: 73.3+ KB\n"
     ]
    }
   ],
   "source": [
    "insurance_df.info() #    to get a concise summary of the DataFrame"
   ]
  },
  {
   "cell_type": "code",
   "execution_count": 91,
   "id": "6928bd00",
   "metadata": {},
   "outputs": [
    {
     "data": {
      "text/html": [
       "<div>\n",
       "<style scoped>\n",
       "    .dataframe tbody tr th:only-of-type {\n",
       "        vertical-align: middle;\n",
       "    }\n",
       "\n",
       "    .dataframe tbody tr th {\n",
       "        vertical-align: top;\n",
       "    }\n",
       "\n",
       "    .dataframe thead th {\n",
       "        text-align: right;\n",
       "    }\n",
       "</style>\n",
       "<table border=\"1\" class=\"dataframe\">\n",
       "  <thead>\n",
       "    <tr style=\"text-align: right;\">\n",
       "      <th></th>\n",
       "      <th>age</th>\n",
       "      <th>bmi</th>\n",
       "      <th>children</th>\n",
       "      <th>charges</th>\n",
       "    </tr>\n",
       "  </thead>\n",
       "  <tbody>\n",
       "    <tr>\n",
       "      <th>count</th>\n",
       "      <td>1338.000000</td>\n",
       "      <td>1338.000000</td>\n",
       "      <td>1338.000000</td>\n",
       "      <td>1338.000000</td>\n",
       "    </tr>\n",
       "    <tr>\n",
       "      <th>mean</th>\n",
       "      <td>39.207025</td>\n",
       "      <td>30.663397</td>\n",
       "      <td>1.094918</td>\n",
       "      <td>13270.422265</td>\n",
       "    </tr>\n",
       "    <tr>\n",
       "      <th>std</th>\n",
       "      <td>14.049960</td>\n",
       "      <td>6.098187</td>\n",
       "      <td>1.205493</td>\n",
       "      <td>12110.011237</td>\n",
       "    </tr>\n",
       "    <tr>\n",
       "      <th>min</th>\n",
       "      <td>18.000000</td>\n",
       "      <td>15.960000</td>\n",
       "      <td>0.000000</td>\n",
       "      <td>1121.873900</td>\n",
       "    </tr>\n",
       "    <tr>\n",
       "      <th>25%</th>\n",
       "      <td>27.000000</td>\n",
       "      <td>26.296250</td>\n",
       "      <td>0.000000</td>\n",
       "      <td>4740.287150</td>\n",
       "    </tr>\n",
       "    <tr>\n",
       "      <th>50%</th>\n",
       "      <td>39.000000</td>\n",
       "      <td>30.400000</td>\n",
       "      <td>1.000000</td>\n",
       "      <td>9382.033000</td>\n",
       "    </tr>\n",
       "    <tr>\n",
       "      <th>75%</th>\n",
       "      <td>51.000000</td>\n",
       "      <td>34.693750</td>\n",
       "      <td>2.000000</td>\n",
       "      <td>16639.912515</td>\n",
       "    </tr>\n",
       "    <tr>\n",
       "      <th>max</th>\n",
       "      <td>64.000000</td>\n",
       "      <td>53.130000</td>\n",
       "      <td>5.000000</td>\n",
       "      <td>63770.428010</td>\n",
       "    </tr>\n",
       "  </tbody>\n",
       "</table>\n",
       "</div>"
      ],
      "text/plain": [
       "               age          bmi     children       charges\n",
       "count  1338.000000  1338.000000  1338.000000   1338.000000\n",
       "mean     39.207025    30.663397     1.094918  13270.422265\n",
       "std      14.049960     6.098187     1.205493  12110.011237\n",
       "min      18.000000    15.960000     0.000000   1121.873900\n",
       "25%      27.000000    26.296250     0.000000   4740.287150\n",
       "50%      39.000000    30.400000     1.000000   9382.033000\n",
       "75%      51.000000    34.693750     2.000000  16639.912515\n",
       "max      64.000000    53.130000     5.000000  63770.428010"
      ]
     },
     "execution_count": 91,
     "metadata": {},
     "output_type": "execute_result"
    }
   ],
   "source": [
    "insurance_df.describe() #    to get a statistical summary of the DataFrame"
   ]
  },
  {
   "cell_type": "code",
   "execution_count": 92,
   "id": "776d0483",
   "metadata": {},
   "outputs": [
    {
     "data": {
      "text/html": [
       "<div>\n",
       "<style scoped>\n",
       "    .dataframe tbody tr th:only-of-type {\n",
       "        vertical-align: middle;\n",
       "    }\n",
       "\n",
       "    .dataframe tbody tr th {\n",
       "        vertical-align: top;\n",
       "    }\n",
       "\n",
       "    .dataframe thead th {\n",
       "        text-align: right;\n",
       "    }\n",
       "</style>\n",
       "<table border=\"1\" class=\"dataframe\">\n",
       "  <thead>\n",
       "    <tr style=\"text-align: right;\">\n",
       "      <th></th>\n",
       "      <th>age</th>\n",
       "      <th>bmi</th>\n",
       "      <th>children</th>\n",
       "      <th>smoker</th>\n",
       "      <th>charges</th>\n",
       "    </tr>\n",
       "  </thead>\n",
       "  <tbody>\n",
       "    <tr>\n",
       "      <th>0</th>\n",
       "      <td>19</td>\n",
       "      <td>27.900</td>\n",
       "      <td>0</td>\n",
       "      <td>yes</td>\n",
       "      <td>16884.92400</td>\n",
       "    </tr>\n",
       "    <tr>\n",
       "      <th>1</th>\n",
       "      <td>18</td>\n",
       "      <td>33.770</td>\n",
       "      <td>1</td>\n",
       "      <td>no</td>\n",
       "      <td>1725.55230</td>\n",
       "    </tr>\n",
       "    <tr>\n",
       "      <th>2</th>\n",
       "      <td>28</td>\n",
       "      <td>33.000</td>\n",
       "      <td>3</td>\n",
       "      <td>no</td>\n",
       "      <td>4449.46200</td>\n",
       "    </tr>\n",
       "    <tr>\n",
       "      <th>3</th>\n",
       "      <td>33</td>\n",
       "      <td>22.705</td>\n",
       "      <td>0</td>\n",
       "      <td>no</td>\n",
       "      <td>21984.47061</td>\n",
       "    </tr>\n",
       "    <tr>\n",
       "      <th>4</th>\n",
       "      <td>32</td>\n",
       "      <td>28.880</td>\n",
       "      <td>0</td>\n",
       "      <td>no</td>\n",
       "      <td>3866.85520</td>\n",
       "    </tr>\n",
       "    <tr>\n",
       "      <th>5</th>\n",
       "      <td>31</td>\n",
       "      <td>25.740</td>\n",
       "      <td>0</td>\n",
       "      <td>no</td>\n",
       "      <td>3756.62160</td>\n",
       "    </tr>\n",
       "    <tr>\n",
       "      <th>6</th>\n",
       "      <td>46</td>\n",
       "      <td>33.440</td>\n",
       "      <td>1</td>\n",
       "      <td>no</td>\n",
       "      <td>8240.58960</td>\n",
       "    </tr>\n",
       "    <tr>\n",
       "      <th>7</th>\n",
       "      <td>37</td>\n",
       "      <td>27.740</td>\n",
       "      <td>3</td>\n",
       "      <td>no</td>\n",
       "      <td>7281.50560</td>\n",
       "    </tr>\n",
       "    <tr>\n",
       "      <th>8</th>\n",
       "      <td>37</td>\n",
       "      <td>29.830</td>\n",
       "      <td>2</td>\n",
       "      <td>no</td>\n",
       "      <td>6406.41070</td>\n",
       "    </tr>\n",
       "    <tr>\n",
       "      <th>9</th>\n",
       "      <td>60</td>\n",
       "      <td>25.840</td>\n",
       "      <td>0</td>\n",
       "      <td>no</td>\n",
       "      <td>28923.13692</td>\n",
       "    </tr>\n",
       "  </tbody>\n",
       "</table>\n",
       "</div>"
      ],
      "text/plain": [
       "   age     bmi  children smoker      charges\n",
       "0   19  27.900         0    yes  16884.92400\n",
       "1   18  33.770         1     no   1725.55230\n",
       "2   28  33.000         3     no   4449.46200\n",
       "3   33  22.705         0     no  21984.47061\n",
       "4   32  28.880         0     no   3866.85520\n",
       "5   31  25.740         0     no   3756.62160\n",
       "6   46  33.440         1     no   8240.58960\n",
       "7   37  27.740         3     no   7281.50560\n",
       "8   37  29.830         2     no   6406.41070\n",
       "9   60  25.840         0     no  28923.13692"
      ]
     },
     "execution_count": 92,
     "metadata": {},
     "output_type": "execute_result"
    }
   ],
   "source": [
    "# Drop the 'sex' column if it exists\n",
    "if 'sex' in insurance_df.columns:\n",
    "\tinsurance_df.drop(['sex'], axis=1, inplace=True) #    to drop the 'sex' column\n",
    "\n",
    "# Drop the 'region' column if it exists\n",
    "if 'region' in insurance_df.columns:\n",
    "\tinsurance_df.drop(['region'], axis=1, inplace=True) #    to drop the 'region' column\n",
    "\n",
    "insurance_df.head(10) #    to display the first 10 rows of the dataset after dropping the columns\n"
   ]
  },
  {
   "cell_type": "markdown",
   "id": "a7b5eb63",
   "metadata": {},
   "source": [
    "**(2) Check for Datatypes:**"
   ]
  },
  {
   "cell_type": "code",
   "execution_count": 93,
   "id": "c8d38b27",
   "metadata": {},
   "outputs": [
    {
     "data": {
      "text/html": [
       "<div>\n",
       "<style scoped>\n",
       "    .dataframe tbody tr th:only-of-type {\n",
       "        vertical-align: middle;\n",
       "    }\n",
       "\n",
       "    .dataframe tbody tr th {\n",
       "        vertical-align: top;\n",
       "    }\n",
       "\n",
       "    .dataframe thead th {\n",
       "        text-align: right;\n",
       "    }\n",
       "</style>\n",
       "<table border=\"1\" class=\"dataframe\">\n",
       "  <thead>\n",
       "    <tr style=\"text-align: right;\">\n",
       "      <th></th>\n",
       "      <th>age</th>\n",
       "      <th>bmi</th>\n",
       "      <th>children</th>\n",
       "      <th>smoker</th>\n",
       "      <th>charges</th>\n",
       "    </tr>\n",
       "  </thead>\n",
       "  <tbody>\n",
       "    <tr>\n",
       "      <th>Data Type</th>\n",
       "      <td>int64</td>\n",
       "      <td>float64</td>\n",
       "      <td>int64</td>\n",
       "      <td>object</td>\n",
       "      <td>float64</td>\n",
       "    </tr>\n",
       "    <tr>\n",
       "      <th>Num Unique</th>\n",
       "      <td>47</td>\n",
       "      <td>548</td>\n",
       "      <td>6</td>\n",
       "      <td>2</td>\n",
       "      <td>1337</td>\n",
       "    </tr>\n",
       "  </tbody>\n",
       "</table>\n",
       "</div>"
      ],
      "text/plain": [
       "              age      bmi children  smoker  charges\n",
       "Data Type   int64  float64    int64  object  float64\n",
       "Num Unique     47      548        6       2     1337"
      ]
     },
     "execution_count": 93,
     "metadata": {},
     "output_type": "execute_result"
    }
   ],
   "source": [
    "D_types = insurance_df.dtypes #    to get the data types of each column\n",
    "num_unique = insurance_df.nunique() #    to get the number of unique values in each column\n",
    "#To display the data types and number of unique values in a single DataFrame\n",
    "pd.DataFrame({'Data Type': D_types, 'Num Unique': num_unique}).T #    to transpose the DataFrame for better readability"
   ]
  },
  {
   "cell_type": "code",
   "execution_count": 94,
   "id": "8cd5ac62",
   "metadata": {},
   "outputs": [],
   "source": [
    "#No Need To Change the Data Types of the related features to the target variable"
   ]
  },
  {
   "cell_type": "markdown",
   "id": "1e212a1e",
   "metadata": {},
   "source": [
    "**(3) Handle Null Values:**"
   ]
  },
  {
   "cell_type": "code",
   "execution_count": 95,
   "id": "6f95fd53",
   "metadata": {},
   "outputs": [
    {
     "data": {
      "text/html": [
       "<div>\n",
       "<style scoped>\n",
       "    .dataframe tbody tr th:only-of-type {\n",
       "        vertical-align: middle;\n",
       "    }\n",
       "\n",
       "    .dataframe tbody tr th {\n",
       "        vertical-align: top;\n",
       "    }\n",
       "\n",
       "    .dataframe thead th {\n",
       "        text-align: right;\n",
       "    }\n",
       "</style>\n",
       "<table border=\"1\" class=\"dataframe\">\n",
       "  <thead>\n",
       "    <tr style=\"text-align: right;\">\n",
       "      <th></th>\n",
       "      <th>age</th>\n",
       "      <th>bmi</th>\n",
       "      <th>children</th>\n",
       "      <th>smoker</th>\n",
       "      <th>charges</th>\n",
       "    </tr>\n",
       "  </thead>\n",
       "  <tbody>\n",
       "    <tr>\n",
       "      <th>Null Sum</th>\n",
       "      <td>0.0</td>\n",
       "      <td>0.0</td>\n",
       "      <td>0.0</td>\n",
       "      <td>0.0</td>\n",
       "      <td>0.0</td>\n",
       "    </tr>\n",
       "    <tr>\n",
       "      <th>Ratio</th>\n",
       "      <td>0.0</td>\n",
       "      <td>0.0</td>\n",
       "      <td>0.0</td>\n",
       "      <td>0.0</td>\n",
       "      <td>0.0</td>\n",
       "    </tr>\n",
       "  </tbody>\n",
       "</table>\n",
       "</div>"
      ],
      "text/plain": [
       "          age  bmi  children  smoker  charges\n",
       "Null Sum  0.0  0.0       0.0     0.0      0.0\n",
       "Ratio     0.0  0.0       0.0     0.0      0.0"
      ]
     },
     "execution_count": 95,
     "metadata": {},
     "output_type": "execute_result"
    }
   ],
   "source": [
    "#check for null values in the dataset\n",
    "null = insurance_df.isnull().sum() #    to check for null values in the dataset\n",
    "ratio = null / insurance_df.shape[0] #    to calculate the ratio of null values to the total number of rows\n",
    "pd.DataFrame({'Null Sum': null, 'Ratio': ratio}).T #    to create a DataFrame with null values and their ratios"
   ]
  },
  {
   "cell_type": "code",
   "execution_count": 96,
   "id": "70c677de",
   "metadata": {},
   "outputs": [],
   "source": [
    "#There are no null values in the dataset, so we can proceed with the analysis."
   ]
  },
  {
   "cell_type": "markdown",
   "id": "49f5de04",
   "metadata": {},
   "source": [
    "**(4) Handle Outliers:**"
   ]
  },
  {
   "cell_type": "code",
   "execution_count": 97,
   "id": "722d6a56",
   "metadata": {},
   "outputs": [
    {
     "name": "stdout",
     "output_type": "stream",
     "text": [
      "['age', 'bmi', 'children']\n"
     ]
    },
    {
     "data": {
      "image/png": "[encoded data removed]",
      "text/plain": [
       "<Figure size 1000x100 with 3 Axes>"
      ]
     },
     "metadata": {},
     "output_type": "display_data"
    }
   ],
   "source": [
    "'''(1) To check for outliers in the numerical columns except the target, we can use a box plot.'''\n",
    "\n",
    "target_feature = \"charges\"\n",
    "num_columns = [col for col in insurance_df.select_dtypes(include=[np.number]).columns.tolist() if col != target_feature]\n",
    "plt.figure(figsize=(10, 1)) #    to set the figure size\n",
    "print (num_columns) #    to print the numerical columns\n",
    "\n",
    "for i, col in enumerate(num_columns):\n",
    "    plt.subplot(1, len(num_columns), i + 1) #    to create subplots\n",
    "    sns.boxplot(insurance_df[col], orient=\"h\") #    to create a box plot for each numerical column\n",
    "    plt.title(f\"{col} boxplot\") #    to set the title of each subplot"
   ]
  },
  {
   "cell_type": "code",
   "execution_count": 98,
   "id": "982a079d",
   "metadata": {},
   "outputs": [],
   "source": [
    "'''(2) To remove outliers in the columns'''\n",
    "for col in num_columns:\n",
    "    Q1 = insurance_df[col].quantile(0.25) #to calculate the first quartile of the column\n",
    "    Q3 = insurance_df[col].quantile(0.75) #to calculate the third quartile of the column\n",
    "    IQR = Q3 - Q1  #to calculate the inter quartile range of the column\n",
    "    lower_fence = Q1 - 1.5*IQR  #    to calculate the lower bound of the column\n",
    "    upper_fence = Q3 + 1.5*IQR  #    to calculate the upper bound of the column\n",
    "    \n",
    "    lower_outliers = insurance_df[insurance_df[col] < lower_fence][col].values   #    to calculate the lower outliers of the column\n",
    "    upper_outliers = insurance_df[insurance_df[col] > upper_fence][col].values   #    to calculate the upper outliers of the column\n",
    "    \n",
    "    insurance_df[col].replace(lower_outliers, lower_fence, inplace = True)       #    to replace the lower outliers with the lower bound of the column\n",
    "    insurance_df[col].replace(upper_outliers, upper_fence, inplace = True)       #    to replace the upper outliers with the upper bound of the column\n"
   ]
  },
  {
   "cell_type": "code",
   "execution_count": 99,
   "id": "cabe850a",
   "metadata": {},
   "outputs": [
    {
     "data": {
      "image/png": "[encoded data removed]",
      "text/plain": [
       "<Figure size 800x100 with 3 Axes>"
      ]
     },
     "metadata": {},
     "output_type": "display_data"
    }
   ],
   "source": [
    "'''(3)To make sure that outliers in the column are removed:'''\n",
    "plt.figure(figsize=(8, 1)) #    to create a figure with a size of 8X1 inches\n",
    "for i, col in enumerate(num_columns):\n",
    "    plt.subplot(1, len(num_columns), i+1)\n",
    "    sns.boxplot(insurance_df[col], orient=\"h\") #    to create a boxplot of the numerical columns in the dataset with orientation \"h\"\n",
    "    plt.title(f\"{col} boxplot\") #    to set the title of the boxplot to the name of the column"
   ]
  },
  {
   "cell_type": "markdown",
   "id": "123b35ce",
   "metadata": {},
   "source": [
    "**(5) Visualization:**"
   ]
  },
  {
   "cell_type": "code",
   "execution_count": 100,
   "id": "707fb7cc",
   "metadata": {},
   "outputs": [
    {
     "data": {
      "image/png": "[encoded data removed]",
      "text/plain": [
       "<Figure size 1600x400 with 4 Axes>"
      ]
     },
     "metadata": {},
     "output_type": "display_data"
    }
   ],
   "source": [
    "'''1- To visualize the data in the dataset using a histogram (Numerical Data Distribution):'''\n",
    "\n",
    "num_columns = insurance_df.select_dtypes(\"number\").columns #    to select the numerical columns in the dataset\n",
    "plt.figure(figsize=(16, 4)) #    to create a figure with a size of 8X1 inches\n",
    "for i, col in enumerate(num_columns):\n",
    "    plt.subplot(1, len(num_columns), i+1)\n",
    "    plt.hist(insurance_df[col], edgecolor='black') #    to create a histogram of the numerical columns in the dataset with kde=True\n",
    "    plt.title(f\"{col} Numerical Distribution Graph\") #    to set the title of the histogram to the name of the column"
   ]
  },
  {
   "cell_type": "code",
   "execution_count": 101,
   "id": "fa6528d7",
   "metadata": {},
   "outputs": [
    {
     "data": {
      "image/png": "[encoded data removed]",
      "text/plain": [
       "<Figure size 1600x400 with 4 Axes>"
      ]
     },
     "metadata": {},
     "output_type": "display_data"
    }
   ],
   "source": [
    "'''2- To visualize the data in the dataset using a KDE plot (Numerical Data Distribution):'''\n",
    "num_columns = insurance_df.select_dtypes(\"number\").columns #    to select the numerical columns in the dataset\n",
    "plt.figure(figsize=(16, 4)) #    to create a figure with a size of 8X1 inches\n",
    "for i, col in enumerate(num_columns):\n",
    "    plt.subplot(1, len(num_columns), i+1)\n",
    "    sns.kdeplot(insurance_df[col], fill=True) #    to create a KDE plot of the numerical columns in the dataset with fill=True\n",
    "    plt.title(f\"{col} Numerical Distribution Graph\") #    to set the title of the KDE plot to the name of the column"
   ]
  },
  {
   "cell_type": "code",
   "execution_count": null,
   "id": "a2e6daa1",
   "metadata": {
    "vscode": {
     "languageId": "r"
    }
   },
   "outputs": [
    {
     "data": {
      "image/png": "[encoded data removed]",
      "text/plain": [
       "<Figure size 400x100 with 1 Axes>"
      ]
     },
     "metadata": {},
     "output_type": "display_data"
    }
   ],
   "source": [
    "'''3- To visualize the data in the dataset using a Count plot (Categorical Data Distribution):'''\n",
    "cat_cols = insurance_df.select_dtypes(include=[\"object\"]).columns\n",
    "plt.figure(figsize=(4, 1))\n",
    "for i, col in enumerate(cat_cols):\n",
    "    plt.subplot(1, len(cat_cols), i + 1)\n",
    "    sns.countplot(x=col, data=insurance_df)\n",
    "    plt.title(f\"{col} Distribution\")\n",
    "    plt.xticks(rotation=45)\n",
    "\n",
    "plt.tight_layout()\n",
    "plt.show()"
   ]
  },
  {
   "cell_type": "code",
   "execution_count": 102,
   "id": "fd0f1d3e",
   "metadata": {},
   "outputs": [
    {
     "data": {
      "image/png": "[encoded data removed]",
      "text/plain": [
       "<Figure size 300x300 with 1 Axes>"
      ]
     },
     "metadata": {},
     "output_type": "display_data"
    }
   ],
   "source": [
    "'''4- To visualize the data in the dataset using a Pie plot (Categorical Data Distribution):'''\n",
    "cat_cols = insurance_df.select_dtypes(include=[\"object\"]).columns\n",
    "plt.figure(figsize=(3 * len(cat_cols), 3))\n",
    "\n",
    "for i, col in enumerate(cat_cols):\n",
    "    plt.subplot(1, len(cat_cols), i + 1)\n",
    "    insurance_df[col].value_counts().plot.pie(autopct='%1.1f%%', startangle=90)\n",
    "    plt.title(f\"{col} Distribution\")\n",
    "    plt.ylabel(\"\")  # Hide y-axis label for cleaner plot\n",
    "\n",
    "plt.tight_layout()\n",
    "plt.show()"
   ]
  },
  {
   "cell_type": "code",
   "execution_count": 103,
   "id": "cc08758f",
   "metadata": {},
   "outputs": [],
   "source": [
    "#Relationship Graphs:\n"
   ]
  },
  {
   "cell_type": "code",
   "execution_count": null,
   "id": "d75863c0",
   "metadata": {},
   "outputs": [],
   "source": []
  },
  {
   "cell_type": "code",
   "execution_count": null,
   "id": "3650509f",
   "metadata": {},
   "outputs": [],
   "source": []
  },
  {
   "cell_type": "code",
   "execution_count": null,
   "id": "73923c63",
   "metadata": {},
   "outputs": [],
   "source": []
  },
  {
   "cell_type": "code",
   "execution_count": null,
   "id": "83b19fc9",
   "metadata": {},
   "outputs": [],
   "source": []
  },
  {
   "cell_type": "code",
   "execution_count": null,
   "id": "0ac5a6ad",
   "metadata": {},
   "outputs": [],
   "source": []
  },
  {
   "cell_type": "code",
   "execution_count": null,
   "id": "712f31fe",
   "metadata": {},
   "outputs": [],
   "source": []
  },
  {
   "cell_type": "markdown",
   "id": "e68a8619",
   "metadata": {},
   "source": [
    "**(6) Remove Duplicates:**"
   ]
  },
  {
   "cell_type": "code",
   "execution_count": 104,
   "id": "f37f0389",
   "metadata": {},
   "outputs": [
    {
     "name": "stdout",
     "output_type": "stream",
     "text": [
      "1\n"
     ]
    }
   ],
   "source": [
    "'''1- Check for duplicates in the dataset:'''\n",
    "duplicates = insurance_df.duplicated().sum() #    to check for duplicates in the dataset\n",
    "print (duplicates) #    to display the number of duplicates in the dataset"
   ]
  },
  {
   "cell_type": "code",
   "execution_count": 105,
   "id": "ddbf3f28",
   "metadata": {},
   "outputs": [
    {
     "data": {
      "text/plain": [
       "np.int64(0)"
      ]
     },
     "execution_count": 105,
     "metadata": {},
     "output_type": "execute_result"
    }
   ],
   "source": [
    "'''Make sure that we Remove Duplicates:'''\n",
    "insurance_df.drop_duplicates(inplace=True) #    to remove the duplicates in the dataset\n",
    "insurance_df.duplicated().sum() #    to check for duplicates in the dataset after removing them"
   ]
  },
  {
   "cell_type": "markdown",
   "id": "037b61dc",
   "metadata": {},
   "source": [
    "**(7) Data Splitting:**"
   ]
  },
  {
   "cell_type": "code",
   "execution_count": 106,
   "id": "78ca5bf2",
   "metadata": {},
   "outputs": [],
   "source": [
    "#1- To split the data into target and features sets:\n",
    "Y = insurance_df['charges'] #    to set the target variable to the Survived column\n",
    "X = insurance_df.drop(['charges'], axis=1) #    to set the features variable to the dataset without the Survived column"
   ]
  },
  {
   "cell_type": "code",
   "execution_count": 107,
   "id": "777c5fda",
   "metadata": {},
   "outputs": [
    {
     "data": {
      "text/html": [
       "<div>\n",
       "<style scoped>\n",
       "    .dataframe tbody tr th:only-of-type {\n",
       "        vertical-align: middle;\n",
       "    }\n",
       "\n",
       "    .dataframe tbody tr th {\n",
       "        vertical-align: top;\n",
       "    }\n",
       "\n",
       "    .dataframe thead th {\n",
       "        text-align: right;\n",
       "    }\n",
       "</style>\n",
       "<table border=\"1\" class=\"dataframe\">\n",
       "  <thead>\n",
       "    <tr style=\"text-align: right;\">\n",
       "      <th></th>\n",
       "      <th>age</th>\n",
       "      <th>bmi</th>\n",
       "      <th>children</th>\n",
       "      <th>smoker</th>\n",
       "    </tr>\n",
       "  </thead>\n",
       "  <tbody>\n",
       "    <tr>\n",
       "      <th>0</th>\n",
       "      <td>19</td>\n",
       "      <td>27.900</td>\n",
       "      <td>0</td>\n",
       "      <td>yes</td>\n",
       "    </tr>\n",
       "    <tr>\n",
       "      <th>1</th>\n",
       "      <td>18</td>\n",
       "      <td>33.770</td>\n",
       "      <td>1</td>\n",
       "      <td>no</td>\n",
       "    </tr>\n",
       "    <tr>\n",
       "      <th>2</th>\n",
       "      <td>28</td>\n",
       "      <td>33.000</td>\n",
       "      <td>3</td>\n",
       "      <td>no</td>\n",
       "    </tr>\n",
       "    <tr>\n",
       "      <th>3</th>\n",
       "      <td>33</td>\n",
       "      <td>22.705</td>\n",
       "      <td>0</td>\n",
       "      <td>no</td>\n",
       "    </tr>\n",
       "    <tr>\n",
       "      <th>4</th>\n",
       "      <td>32</td>\n",
       "      <td>28.880</td>\n",
       "      <td>0</td>\n",
       "      <td>no</td>\n",
       "    </tr>\n",
       "    <tr>\n",
       "      <th>...</th>\n",
       "      <td>...</td>\n",
       "      <td>...</td>\n",
       "      <td>...</td>\n",
       "      <td>...</td>\n",
       "    </tr>\n",
       "    <tr>\n",
       "      <th>1333</th>\n",
       "      <td>50</td>\n",
       "      <td>30.970</td>\n",
       "      <td>3</td>\n",
       "      <td>no</td>\n",
       "    </tr>\n",
       "    <tr>\n",
       "      <th>1334</th>\n",
       "      <td>18</td>\n",
       "      <td>31.920</td>\n",
       "      <td>0</td>\n",
       "      <td>no</td>\n",
       "    </tr>\n",
       "    <tr>\n",
       "      <th>1335</th>\n",
       "      <td>18</td>\n",
       "      <td>36.850</td>\n",
       "      <td>0</td>\n",
       "      <td>no</td>\n",
       "    </tr>\n",
       "    <tr>\n",
       "      <th>1336</th>\n",
       "      <td>21</td>\n",
       "      <td>25.800</td>\n",
       "      <td>0</td>\n",
       "      <td>no</td>\n",
       "    </tr>\n",
       "    <tr>\n",
       "      <th>1337</th>\n",
       "      <td>61</td>\n",
       "      <td>29.070</td>\n",
       "      <td>0</td>\n",
       "      <td>yes</td>\n",
       "    </tr>\n",
       "  </tbody>\n",
       "</table>\n",
       "<p>1337 rows × 4 columns</p>\n",
       "</div>"
      ],
      "text/plain": [
       "      age     bmi  children smoker\n",
       "0      19  27.900         0    yes\n",
       "1      18  33.770         1     no\n",
       "2      28  33.000         3     no\n",
       "3      33  22.705         0     no\n",
       "4      32  28.880         0     no\n",
       "...   ...     ...       ...    ...\n",
       "1333   50  30.970         3     no\n",
       "1334   18  31.920         0     no\n",
       "1335   18  36.850         0     no\n",
       "1336   21  25.800         0     no\n",
       "1337   61  29.070         0    yes\n",
       "\n",
       "[1337 rows x 4 columns]"
      ]
     },
     "execution_count": 107,
     "metadata": {},
     "output_type": "execute_result"
    }
   ],
   "source": [
    "X"
   ]
  },
  {
   "cell_type": "code",
   "execution_count": 108,
   "id": "ff6ca78d",
   "metadata": {},
   "outputs": [
    {
     "data": {
      "text/plain": [
       "0       16884.92400\n",
       "1        1725.55230\n",
       "2        4449.46200\n",
       "3       21984.47061\n",
       "4        3866.85520\n",
       "           ...     \n",
       "1333    10600.54830\n",
       "1334     2205.98080\n",
       "1335     1629.83350\n",
       "1336     2007.94500\n",
       "1337    29141.36030\n",
       "Name: charges, Length: 1337, dtype: float64"
      ]
     },
     "execution_count": 108,
     "metadata": {},
     "output_type": "execute_result"
    }
   ],
   "source": [
    "Y"
   ]
  },
  {
   "cell_type": "markdown",
   "id": "1e322740",
   "metadata": {},
   "source": [
    "**(7) Data Normalization:**"
   ]
  },
  {
   "cell_type": "code",
   "execution_count": 109,
   "id": "0a05d6b4",
   "metadata": {},
   "outputs": [],
   "source": [
    "'''1- To normalize the data using MinMaxScaler:'''\n",
    "from sklearn.preprocessing import MinMaxScaler #    to import the MinMaxScaler class from the sklearn.preprocessing module\n",
    "num_columns = X.select_dtypes(\"number\").columns #    to select the numerical columns in the dataset\n",
    "scaler = MinMaxScaler() #    to create an instance of the MinMaxScaler class\n",
    "scaler.fit(X[num_columns]) #    to fit the scaler to the numerical columns in the dataset\n",
    "X[num_columns] = scaler.transform(X[num_columns]) #    to transform the numerical columns in the dataset using the scaler"
   ]
  },
  {
   "cell_type": "markdown",
   "id": "719aedbd",
   "metadata": {},
   "source": [
    "**(8) Encoding:**"
   ]
  },
  {
   "cell_type": "code",
   "execution_count": 110,
   "id": "5eccd18a",
   "metadata": {},
   "outputs": [
    {
     "data": {
      "text/html": [
       "<div>\n",
       "<style scoped>\n",
       "    .dataframe tbody tr th:only-of-type {\n",
       "        vertical-align: middle;\n",
       "    }\n",
       "\n",
       "    .dataframe tbody tr th {\n",
       "        vertical-align: top;\n",
       "    }\n",
       "\n",
       "    .dataframe thead th {\n",
       "        text-align: right;\n",
       "    }\n",
       "</style>\n",
       "<table border=\"1\" class=\"dataframe\">\n",
       "  <thead>\n",
       "    <tr style=\"text-align: right;\">\n",
       "      <th></th>\n",
       "      <th>smoker</th>\n",
       "    </tr>\n",
       "  </thead>\n",
       "  <tbody>\n",
       "    <tr>\n",
       "      <th>0</th>\n",
       "      <td>2</td>\n",
       "    </tr>\n",
       "  </tbody>\n",
       "</table>\n",
       "</div>"
      ],
      "text/plain": [
       "   smoker\n",
       "0       2"
      ]
     },
     "execution_count": 110,
     "metadata": {},
     "output_type": "execute_result"
    }
   ],
   "source": [
    "'''1- To check for Number of Unique Values in the dataset:'''\n",
    "str_columns = [\"smoker\"] #    to set the string columns to numerical columns\n",
    "pd.DataFrame(X[str_columns].nunique()).T #    to create a DataFrame with the number of unique values in the string columns"
   ]
  },
  {
   "cell_type": "code",
   "execution_count": 111,
   "id": "c476a09a",
   "metadata": {},
   "outputs": [
    {
     "data": {
      "text/html": [
       "<div>\n",
       "<style scoped>\n",
       "    .dataframe tbody tr th:only-of-type {\n",
       "        vertical-align: middle;\n",
       "    }\n",
       "\n",
       "    .dataframe tbody tr th {\n",
       "        vertical-align: top;\n",
       "    }\n",
       "\n",
       "    .dataframe thead th {\n",
       "        text-align: right;\n",
       "    }\n",
       "</style>\n",
       "<table border=\"1\" class=\"dataframe\">\n",
       "  <thead>\n",
       "    <tr style=\"text-align: right;\">\n",
       "      <th></th>\n",
       "      <th>age</th>\n",
       "      <th>bmi</th>\n",
       "      <th>children</th>\n",
       "      <th>smoker_1</th>\n",
       "      <th>smoker_2</th>\n",
       "    </tr>\n",
       "  </thead>\n",
       "  <tbody>\n",
       "    <tr>\n",
       "      <th>0</th>\n",
       "      <td>0.021739</td>\n",
       "      <td>0.381104</td>\n",
       "      <td>0.0</td>\n",
       "      <td>1</td>\n",
       "      <td>0</td>\n",
       "    </tr>\n",
       "    <tr>\n",
       "      <th>1</th>\n",
       "      <td>0.000000</td>\n",
       "      <td>0.568465</td>\n",
       "      <td>0.2</td>\n",
       "      <td>0</td>\n",
       "      <td>1</td>\n",
       "    </tr>\n",
       "    <tr>\n",
       "      <th>2</th>\n",
       "      <td>0.217391</td>\n",
       "      <td>0.543888</td>\n",
       "      <td>0.6</td>\n",
       "      <td>0</td>\n",
       "      <td>1</td>\n",
       "    </tr>\n",
       "    <tr>\n",
       "      <th>3</th>\n",
       "      <td>0.326087</td>\n",
       "      <td>0.215289</td>\n",
       "      <td>0.0</td>\n",
       "      <td>0</td>\n",
       "      <td>1</td>\n",
       "    </tr>\n",
       "    <tr>\n",
       "      <th>4</th>\n",
       "      <td>0.304348</td>\n",
       "      <td>0.412384</td>\n",
       "      <td>0.0</td>\n",
       "      <td>0</td>\n",
       "      <td>1</td>\n",
       "    </tr>\n",
       "    <tr>\n",
       "      <th>...</th>\n",
       "      <td>...</td>\n",
       "      <td>...</td>\n",
       "      <td>...</td>\n",
       "      <td>...</td>\n",
       "      <td>...</td>\n",
       "    </tr>\n",
       "    <tr>\n",
       "      <th>1333</th>\n",
       "      <td>0.695652</td>\n",
       "      <td>0.479094</td>\n",
       "      <td>0.6</td>\n",
       "      <td>0</td>\n",
       "      <td>1</td>\n",
       "    </tr>\n",
       "    <tr>\n",
       "      <th>1334</th>\n",
       "      <td>0.000000</td>\n",
       "      <td>0.509416</td>\n",
       "      <td>0.0</td>\n",
       "      <td>0</td>\n",
       "      <td>1</td>\n",
       "    </tr>\n",
       "    <tr>\n",
       "      <th>1335</th>\n",
       "      <td>0.000000</td>\n",
       "      <td>0.666773</td>\n",
       "      <td>0.0</td>\n",
       "      <td>0</td>\n",
       "      <td>1</td>\n",
       "    </tr>\n",
       "    <tr>\n",
       "      <th>1336</th>\n",
       "      <td>0.065217</td>\n",
       "      <td>0.314076</td>\n",
       "      <td>0.0</td>\n",
       "      <td>0</td>\n",
       "      <td>1</td>\n",
       "    </tr>\n",
       "    <tr>\n",
       "      <th>1337</th>\n",
       "      <td>0.934783</td>\n",
       "      <td>0.418449</td>\n",
       "      <td>0.0</td>\n",
       "      <td>1</td>\n",
       "      <td>0</td>\n",
       "    </tr>\n",
       "  </tbody>\n",
       "</table>\n",
       "<p>1337 rows × 5 columns</p>\n",
       "</div>"
      ],
      "text/plain": [
       "           age       bmi  children  smoker_1  smoker_2\n",
       "0     0.021739  0.381104       0.0         1         0\n",
       "1     0.000000  0.568465       0.2         0         1\n",
       "2     0.217391  0.543888       0.6         0         1\n",
       "3     0.326087  0.215289       0.0         0         1\n",
       "4     0.304348  0.412384       0.0         0         1\n",
       "...        ...       ...       ...       ...       ...\n",
       "1333  0.695652  0.479094       0.6         0         1\n",
       "1334  0.000000  0.509416       0.0         0         1\n",
       "1335  0.000000  0.666773       0.0         0         1\n",
       "1336  0.065217  0.314076       0.0         0         1\n",
       "1337  0.934783  0.418449       0.0         1         0\n",
       "\n",
       "[1337 rows x 5 columns]"
      ]
     },
     "execution_count": 111,
     "metadata": {},
     "output_type": "execute_result"
    }
   ],
   "source": [
    "#2- By using OneHotEncoder:\n",
    "from category_encoders import OneHotEncoder #    to import the OneHotEncoder class from the category_encoders module\n",
    "encoder = OneHotEncoder(cols=str_columns) #    to create an instance of the OneHotEncoder class with the string columns\n",
    "z = encoder.fit_transform(X) #    to fit and transform the dataset using the encoder\n",
    "z"
   ]
  },
  {
   "cell_type": "code",
   "execution_count": null,
   "id": "f6dc3a06",
   "metadata": {},
   "outputs": [],
   "source": []
  }
 ],
 "metadata": {
  "kernelspec": {
   "display_name": "Python 3",
   "language": "python",
   "name": "python3"
  },
  "language_info": {
   "codemirror_mode": {
    "name": "ipython",
    "version": 3
   },
   "file_extension": ".py",
   "mimetype": "text/x-python",
   "name": "python",
   "nbconvert_exporter": "python",
   "pygments_lexer": "ipython3",
   "version": "3.12.10"
  }
 },
 "nbformat": 4,
 "nbformat_minor": 5
}
